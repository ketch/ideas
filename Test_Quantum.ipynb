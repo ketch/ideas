{
 "cells": [
  {
   "cell_type": "markdown",
   "metadata": {},
   "source": [
    "# Quantum Testproblem \n",
    "\n",
    "\n",
    "Problem from:\n",
    "https://doi.org/10.1016/j.jcp.2019.04.006\n",
    "\n",
    "The Problem depends on complex variables that are writen down in a matrix shape. The implementation of the RK-Method is only capable of processing real values. To ensure this we split the values of rho and rhs(rho) in the real and imaginary parts and store theses as a vector. \n",
    "\n",
    "We know that the diagonal elemens of rho reamin real. (At least in theory, we should check if this property is destroyed by the commputational inaccuracies) These values should stay in $[0,1]$. It is enougth to ensure $\\rho_{n,n} \\geq 0 $. \n",
    "To implement this into the framework of the used code we generate a vector with the minumum values. We use \n",
    "\n",
    "$$ min = \\begin{cases}\n",
    "    0       & \\quad \\text{if it corresponds to the real value of a diagonal element}\\\\\n",
    "    -\\infty  & \\quad \\text{else}\n",
    "  \\end{cases}$$\n",
    "  \n",
    "As maximum value we use $+\\infty$, which means that there are no constriants"
   ]
  },
  {
   "cell_type": "code",
   "execution_count": null,
   "metadata": {},
   "outputs": [],
   "source": [
    "import numpy as np\n",
    "import matplotlib.pyplot as plt\n",
    "from nodepy import rk\n",
    "import cvxpy as cp\n",
    "\n",
    "\n",
    "import numpy.linalg as linalg\n",
    "import scipy as sci\n",
    "\n",
    "from numba import jit, float64, stencil\n",
    "\n",
    "fe =rk.loadRKM('FE').__num__()\n",
    "rk4 = rk.loadRKM('RK44').__num__()\n",
    "rk4x2 = rk4*rk4\n",
    "ssp2 = rk.loadRKM('SSP22').__num__()\n",
    "ssp3 = rk.loadRKM('SSP33').__num__()\n",
    "ssp104 = rk.loadRKM('SSP104').__num__()\n",
    "merson4 = rk.loadRKM('Merson43').__num__()\n",
    "bs5 = rk.loadRKM('BS5').__num__()\n",
    "\n",
    "ck5 = rk.loadRKM('CK5').__num__()\n",
    "dp5 = rk.loadRKM('DP5').__num__()\n",
    "pd8 = rk.loadRKM('PD8').__num__()\n",
    "\n",
    "trbdf = rk.loadRKM('TR-BDF2').__num__()\n",
    "be = rk.loadRKM('BE').__num__()\n",
    "irk2 = rk.loadRKM('LobattoIIIA2').__num__()\n",
    "\n",
    "\n",
    "\n",
    "#Extrapolation method\n",
    "ex2 = rk.extrap(2,'implicit euler').__num__()\n",
    "ex3 = rk.extrap(3,'implicit euler').__num__()\n",
    "ex4 = rk.extrap(4,'implicit euler').__num__()\n",
    "ex5 = rk.extrap(5,'implicit euler').__num__()\n",
    "ex6 = rk.extrap(6,'implicit euler').__num__()\n",
    "ex8 = rk.extrap(8,'implicit euler').__num__()\n",
    "\n",
    "from OrderCondition import *\n",
    "from RKimple import *\n",
    "import utils "
   ]
  },
  {
   "cell_type": "code",
   "execution_count": null,
   "metadata": {},
   "outputs": [],
   "source": [
    "# constants\n",
    "e0 = 1.60217646e-19\n",
    "hbar = 1.05457168e-34\n",
    "\n",
    "# level count\n",
    "N = 6\n",
    "\n",
    "# static electric field (V/m)\n",
    "E = 9e9\n",
    "\n",
    "# dipole moment\n",
    "d = 1e-29;\n",
    "\n",
    "\"\"\"\n",
    "#refernc implementation\n",
    "# Hamiltonian (diagonal elements)\n",
    "H = np.zeros([N, N]);\n",
    "for n in range(1,N): #n = 1:(N - 1)\n",
    "    H[n,n] = H[n-1, n-1] + (1 - 0.1 * (n - 3)) * 2 * np.pi * 1e13 * hbar;\n",
    "\n",
    "# Hamiltonian (off-diagonal elements)\n",
    "for n in range(0,N-1): #n = 1:(N-1)\n",
    "    H[n, n + 1] = d * E;\n",
    "    H[n + 1, n] = d * E;\n",
    "\"\"\"\n",
    "\n",
    "# ωi,i+1 =  ω0[1 − 0.1(i − 3)]\n",
    "\n",
    "h = np.zeros(N)\n",
    "for i in range(1,N):\n",
    "    h[i] = h[i-1] + (1-0.1*(i - 3)) * 2 * np.pi * 1e13 * hbar\n",
    "\n",
    "H =  np.diag(h) +np.diag(d * E*np.ones(N-1),+1) +np.diag(d * E*np.ones(N-1),-1)\n",
    "\n",
    "\n",
    "\n",
    "rhs = lambda rho: ( -1j/hbar * (H @ rho - rho @ H))\n",
    "\n",
    "u0 = np.zeros([N, N]);\n",
    "u0[0, 0] = 1;\n",
    "B = u0.reshape(N**2)\n",
    "u0_vec = np.concatenate((B.real,B.imag))\n",
    "\n",
    "\n",
    "te = 2.5e-12;\n",
    "dt = 1e-16;"
   ]
  },
  {
   "cell_type": "code",
   "execution_count": null,
   "metadata": {},
   "outputs": [],
   "source": [
    "#Writing it down in a compatible form \n",
    "#we need real values as a vector. For this we reahape the arraz first and then split it into real and imaginary part\n",
    "\n",
    "\n",
    "\n",
    "\n",
    "def f_quant(t,u):\n",
    "    N = int(np.sqrt(len(u)/2))\n",
    "    rho = (u[:N**2]+1j*u[N**2:]).reshape(N,N)\n",
    "    A = rhs(rho)\n",
    "    B = A.reshape(N**2)\n",
    "    return np.concatenate((B.real,B.imag))\n",
    "\n",
    "\n",
    "def vec2mat(vec):\n",
    "    N = int(np.sqrt(len(vec)/2))\n",
    "    return (vec[:N**2]+1j*vec[N**2:]).reshape(N,N)\n",
    "\n",
    "def mat2vec(mat):\n",
    "    N = mat.shape[0]\n",
    "    B = mat.reshape(N**2)\n",
    "    return np.concatenate((B.real,B.imag))\n",
    "\n",
    "#A = np.array([[1+1j,0+1j],[0,2+2j]])\n",
    "#B = A.reshape(4)\n",
    "#vec = np.concatenate((B.real,B.imag))\n",
    "#A = (vec[:4]+1j*vec[4:]).reshape(2,2) \n",
    "#A\n",
    "#int(np.sqrt(len(vec)/2))\n",
    "\n",
    "def extract_populations(u):\n",
    "    #Function to extract the real values of the diagional elements which represent the populations\n",
    "    if len(u.shape) == 1: #to make it work with vectors\n",
    "        u.shape = (u.shape[0],1)\n",
    "    N = int(np.sqrt(u.shape[0]/2))\n",
    "    ind = np.arange(N)*(N+1)\n",
    "    pop = u[ind,:]\n",
    "    return pop\n",
    "    \n",
    "def generate_mainval(N):\n",
    "    minval = np.repeat(-np.infty,2*N**2)  \n",
    "    ind = np.arange(N)*(N+1)\n",
    "    minval[ind] = 0\n",
    "    return minval\n",
    "\n",
    "def calculate_ref(u0,dt,t_end):\n",
    "    N = u0.shape[0]\n",
    "    rho = u0.copy()\n",
    "    t_ref = np.arange(0,t_end,dt)\n",
    "    pop_ref = np.zeros((N,len(t_ref)))\n",
    "    pop_ref[:, 0] = np.diag(rho).real;\n",
    "    \n",
    "    U = sci.linalg.expm(-1j * dt/hbar * H);\n",
    "    for i in range(1,len(t_ref)):\n",
    "        rho = U @ rho @ U.conj().transpose();\n",
    "        pop_ref[:, i] = np.diag(rho).real;\n",
    "    return t_ref,pop_ref"
   ]
  },
  {
   "cell_type": "code",
   "execution_count": null,
   "metadata": {},
   "outputs": [],
   "source": [
    "t_ref,pop_ref = calculate_ref(u0,4e-16,5.e-13)"
   ]
  },
  {
   "cell_type": "markdown",
   "metadata": {},
   "source": [
    "## Explicit"
   ]
  },
  {
   "cell_type": "code",
   "execution_count": null,
   "metadata": {},
   "outputs": [],
   "source": [
    "solver = Solver(rkm = dp5,\n",
    "               dt = 2.e-16,\n",
    "               t_final = 5.e-13,\n",
    "               b_fixed=False,\n",
    "               tol_neg= 1e-8,\n",
    "               tol_change = 54465283431670.84,\n",
    "               p = [4,3,2],\n",
    "               theta = [1,0.5,0.001],\n",
    "               solver = cp.MOSEK,\n",
    "               LP_opts = {'reduce':False,'verbose_LP':True})\n",
    "\n",
    "problem_Q = Problem(f=f_quant,\n",
    "                 u0=mat2vec(u0),\n",
    "                 minval=generate_mainval(N),\n",
    "                 maxval=np.inf)\n",
    "\n",
    "status,t,u,b,KK = RK_integrate(solver=solver,problem=problem_Q,verbose=False,dumpK=True)\n",
    "\n",
    "\n",
    "t = np.array(t)\n",
    "u = np.array(u).T\n",
    "b = np.array(b).T\n",
    "utils.show_status(status)"
   ]
  },
  {
   "cell_type": "code",
   "execution_count": null,
   "metadata": {},
   "outputs": [],
   "source": [
    "pop = extract_populations(u)\n",
    "#plt.plot(t,pop[0,:],label='1')\n",
    "plt.plot(t,pop[1,:],label='2')\n",
    "#plt.plot(t,pop[2,:],label='3')\n",
    "#plt.plot(t,pop[3,:],label='4')\n",
    "#plt.plot(t,pop[4,:],label='5')\n",
    "#plt.plot(t,pop[5,:],label='6')\n",
    "\n",
    "plt.plot(t_ref,pop_ref[1,:],label='2_ref')\n",
    "plt.grid()\n",
    "plt.legend()\n",
    "\n",
    "#plt.ylim([-0.01,0.01])\n",
    "#plt.xlim([4e-13,5e-13])"
   ]
  },
  {
   "cell_type": "code",
   "execution_count": null,
   "metadata": {},
   "outputs": [],
   "source": [
    "plt.plot(t,np.sum(pop,axis = 0))\n",
    "#Trace condition violatedwith dt = 4.2e-16,t_final = 5.e-13,"
   ]
  },
  {
   "cell_type": "code",
   "execution_count": null,
   "metadata": {},
   "outputs": [],
   "source": [
    "np.min(pop)"
   ]
  },
  {
   "cell_type": "code",
   "execution_count": null,
   "metadata": {},
   "outputs": [],
   "source": [
    "plt.plot(t[1:],b.T[1:,:]);"
   ]
  },
  {
   "cell_type": "raw",
   "metadata": {},
   "source": [
    "import scipy as sci\n",
    "U = sci.linalg.expm(-1j *dt/hbar * H)\n",
    "\n",
    "display(U)\n"
   ]
  },
  {
   "cell_type": "raw",
   "metadata": {},
   "source": [
    "u1 = U @ u1 @ U.conj().T\n",
    "plt.imshow(np.imag(u1))\n",
    "plt.colorbar()\n",
    "np.trace(u1)"
   ]
  },
  {
   "cell_type": "raw",
   "metadata": {},
   "source": [
    "np.diag(u1)"
   ]
  },
  {
   "cell_type": "raw",
   "metadata": {},
   "source": [
    "np.exp(2*np.pi*1j)"
   ]
  },
  {
   "cell_type": "markdown",
   "metadata": {},
   "source": [
    "## Implcit"
   ]
  },
  {
   "cell_type": "code",
   "execution_count": null,
   "metadata": {},
   "outputs": [],
   "source": [
    "solver = Solver(rkm = ex3,\n",
    "               dt = 1.0e-16,\n",
    "               t_final = 1.e-13,\n",
    "               b_fixed=False,\n",
    "               tol_neg= 1e-8,\n",
    "               tol_change = np.inf,\n",
    "               p = [3,2,1],\n",
    "               theta = [1],\n",
    "               solver = cp.ECOS,\n",
    "               solver_eqs=solver_nonlinear_arg,\n",
    "               LP_opts = {'reduce':False,'verbose_LP':True})\n",
    "\n",
    "problem_Q = Problem(f=f_quant,\n",
    "                 u0=mat2vec(u0),\n",
    "                 minval=generate_mainval(6),\n",
    "                 maxval=np.inf)\n",
    "\n",
    "status,t,u,b = RK_integrate(solver=solver,problem=problem_Q,verbose=False)\n",
    "\n",
    "\n",
    "t = np.array(t)\n",
    "u = np.array(u).T\n",
    "b = np.array(b).T\n",
    "utils.show_status(status)"
   ]
  },
  {
   "cell_type": "code",
   "execution_count": null,
   "metadata": {},
   "outputs": [],
   "source": [
    "pop = extract_populations(u)\n",
    "#plt.plot(t,pop[0,:],label='1')\n",
    "#plt.plot(t,pop[1,:],label='2')\n",
    "plt.plot(t,pop[2,:],label='3')\n",
    "#plt.plot(t,pop[3,:],label='4')\n",
    "#plt.plot(t,pop[4,:],label='5')\n",
    "#plt.plot(t,pop[5,:],label='6')\n",
    "\n",
    "plt.plot(t_ref,pop_ref[2,:],label='3_ref')\n",
    "plt.grid()\n",
    "plt.legend()"
   ]
  },
  {
   "cell_type": "code",
   "execution_count": null,
   "metadata": {},
   "outputs": [],
   "source": [
    "np.min(pop)"
   ]
  },
  {
   "cell_type": "markdown",
   "metadata": {},
   "source": [
    "### Additional Code for investigating failed steps"
   ]
  },
  {
   "cell_type": "code",
   "execution_count": null,
   "metadata": {},
   "outputs": [],
   "source": [
    "u0 @ None"
   ]
  },
  {
   "cell_type": "code",
   "execution_count": null,
   "metadata": {},
   "outputs": [],
   "source": [
    "K = KK[-1]"
   ]
  },
  {
   "cell_type": "code",
   "execution_count": null,
   "metadata": {},
   "outputs": [],
   "source": [
    "plt.imshow(K*6e-16)\n",
    "plt.colorbar()"
   ]
  },
  {
   "cell_type": "code",
   "execution_count": null,
   "metadata": {},
   "outputs": [],
   "source": [
    "np.diag(vec2mat(u[:,-1]+6e-16*K@ssp104.b))"
   ]
  },
  {
   "cell_type": "code",
   "execution_count": null,
   "metadata": {},
   "outputs": [],
   "source": [
    "display(K[0,:])\n",
    "display(K[7,:])"
   ]
  },
  {
   "cell_type": "code",
   "execution_count": null,
   "metadata": {},
   "outputs": [],
   "source": [
    "(K[0,:]@K[7,:])/(np.linalg.norm(K[0,:])*np.linalg.norm(K[7,:]))"
   ]
  },
  {
   "cell_type": "code",
   "execution_count": null,
   "metadata": {},
   "outputs": [],
   "source": [
    "u[(0,7),-1]"
   ]
  },
  {
   "cell_type": "code",
   "execution_count": null,
   "metadata": {},
   "outputs": [],
   "source": [
    "change = np.array(status['change'])"
   ]
  },
  {
   "cell_type": "code",
   "execution_count": null,
   "metadata": {},
   "outputs": [],
   "source": [
    "np.max(change[change!=None])"
   ]
  },
  {
   "cell_type": "code",
   "execution_count": null,
   "metadata": {},
   "outputs": [],
   "source": []
  }
 ],
 "metadata": {
  "kernelspec": {
   "display_name": "Python 3",
   "language": "python",
   "name": "python3"
  },
  "language_info": {
   "codemirror_mode": {
    "name": "ipython",
    "version": 3
   },
   "file_extension": ".py",
   "mimetype": "text/x-python",
   "name": "python",
   "nbconvert_exporter": "python",
   "pygments_lexer": "ipython3",
   "version": "3.7.4"
  }
 },
 "nbformat": 4,
 "nbformat_minor": 2
}
