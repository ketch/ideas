{
 "cells": [
  {
   "cell_type": "code",
   "execution_count": null,
   "metadata": {},
   "outputs": [],
   "source": [
    "# Notebook to add plots for the stability functions\n",
    "\n",
    "import numpy as np\n",
    "import scipy.linalg as linalg\n",
    "import matplotlib.pyplot as plt\n",
    "\n",
    "from nodepy import rk\n",
    "\n",
    "from OrderCondition import *"
   ]
  },
  {
   "cell_type": "code",
   "execution_count": null,
   "metadata": {},
   "outputs": [],
   "source": [
    "def plot_stab(stab_function,color,fill=None,xmin=-10,xmax=10,yminmax=10):\n",
    "    p,q = stab_function\n",
    "\n",
    "    # Convert coefficients to floats for speed\n",
    "    if p.coeffs.dtype=='object':\n",
    "        p = np.poly1d([float(c) for c in p.coeffs])\n",
    "    if q.coeffs.dtype=='object':\n",
    "        q = np.poly1d([float(c) for c in q.coeffs])\n",
    "        \n",
    "    u = np.linspace(xmin,xmax,200)\n",
    "    v = np.linspace(-yminmax,yminmax,200)\n",
    "    \n",
    "    U,V = np.meshgrid(u,v)\n",
    "    Q = U+V*1j\n",
    "    R=np.abs(p(Q)/q(Q))\n",
    "\n",
    "    if fill:\n",
    "        plt.pcolormesh(U, V, np.log(R),cmap=plt.get_cmap('seismic'),vmin=-4, vmax=4)\n",
    "        plt.colorbar()\n",
    "    plt.contour(U,V,R,[1],colors=[color],alpha=1,linewidths=3)\n",
    "    plt.grid()\n",
    "    \n",
    "def calc_stab(rkm,bs):\n",
    "    stab_functions = []\n",
    "    for b in bs:\n",
    "        display(b)\n",
    "        rkm.b = b\n",
    "        stab_functions.append(rkm.stability_function())\n",
    "    return stab_functions\n",
    "\n",
    "def color(chi,color1=[0,0,1],color2=[0,0,0.5]):\n",
    "    return (chi*color1[0]+(1-chi)*color2[0],chi*color1[1]+(1-chi)*color2[1],chi*color1[2]+(1-chi)*color2[2])"
   ]
  },
  {
   "cell_type": "markdown",
   "metadata": {},
   "source": [
    "# Implicit case\n",
    "\n",
    "We are plotting a convex combination of original ex3 method and the embedded backward euler"
   ]
  },
  {
   "cell_type": "code",
   "execution_count": null,
   "metadata": {},
   "outputs": [],
   "source": [
    "ex3 = rk.extrap(3,'implicit euler')\n",
    "\n",
    "chis = np.linspace(0,1,5)\n",
    "bs = []\n",
    "for chi in chis:\n",
    "    bs.append(chi*ex3.b+(1-chi)*np.array([0,0,0,1/3,1/3,1/3]))\n",
    "\n",
    "stab_functions = calc_stab(ex3,bs)\n",
    "\n"
   ]
  },
  {
   "cell_type": "code",
   "execution_count": null,
   "metadata": {},
   "outputs": [],
   "source": [
    "for i in range(5):\n",
    "    plot_stab(stab_functions[i],color(chis[i]))\n",
    "\n",
    "plt.savefig('stab_ex3.pdf')"
   ]
  },
  {
   "cell_type": "markdown",
   "metadata": {},
   "source": [
    "# Explicit case"
   ]
  },
  {
   "cell_type": "code",
   "execution_count": null,
   "metadata": {},
   "outputs": [],
   "source": [
    "ck5_or = rk.loadRKM('CK5').__num__()\n",
    "ck5 = rk.RungeKuttaMethod(A=ck5_or.A,b=ck5_or.b) #get rid of embedded method\n",
    "\n",
    "(O,rhs)=OrderCond(ck5.A,ck5.c,order=4)\n",
    "b_1 =linalg.null_space(O)[:,0]\n",
    "\n",
    "chis = np.linspace(0,1,5)\n",
    "alphas = np.linspace(-0.2,0.2,5)\n",
    "bs = []\n",
    "for alpha in alphas:\n",
    "    bs.append(ck5.b+alpha*b_1)\n",
    "\n",
    "stab_functions = calc_stab(ck5,bs)\n",
    "\n",
    "\n"
   ]
  },
  {
   "cell_type": "code",
   "execution_count": null,
   "metadata": {},
   "outputs": [],
   "source": [
    "for i in range(5):\n",
    "    print(i)\n",
    "    plot_stab(stab_functions[i],color(chis[i]),xmax=5,xmin=-5,yminmax=5)\n",
    "\n",
    "plt.savefig('stab_ck5.pdf')"
   ]
  },
  {
   "cell_type": "code",
   "execution_count": null,
   "metadata": {},
   "outputs": [],
   "source": []
  }
 ],
 "metadata": {
  "kernelspec": {
   "display_name": "Python 3",
   "language": "python",
   "name": "python3"
  },
  "language_info": {
   "codemirror_mode": {
    "name": "ipython",
    "version": 3
   },
   "file_extension": ".py",
   "mimetype": "text/x-python",
   "name": "python",
   "nbconvert_exporter": "python",
   "pygments_lexer": "ipython3",
   "version": "3.7.4"
  }
 },
 "nbformat": 4,
 "nbformat_minor": 2
}
