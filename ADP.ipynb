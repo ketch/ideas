{
 "cells": [
  {
   "cell_type": "markdown",
   "metadata": {},
   "source": [
    "# ADP-Problem "
   ]
  },
  {
   "cell_type": "markdown",
   "metadata": {},
   "source": [
    "The goal of ths spreadsheed is too test methods on the Advection-Diffusion-production Problem from\n",
    "DOI: 10.1002/pamm.201900209\n",
    "\n",
    "\n",
    "#### Note on the Testproblem:\n",
    "\n",
    "The production terms\n",
    "\n",
    "$$u_1'= -\\frac{u_1u_2}{0.01=u_1} + \\cdots$$\n",
    "\n",
    "$$u_2'= \\frac{u_1u_2}{0.01=u_1} + \\cdots$$\n",
    "\n",
    "leed to unpredictable behavior when integrated with implicit methods.\n",
    "\n",
    "This is caused by the stage equation ($y_i = u' + \\Delta t a_{i,i} f(t,y_i)$) having a second root with negative values of $u_1$.\n",
    "This can be fixed by replacing the function for negative $u_1 < -0.005$ with the value for $u_1 = -0.005$"
   ]
  },
  {
   "cell_type": "code",
   "execution_count": null,
   "metadata": {},
   "outputs": [],
   "source": [
    "import numpy as np\n",
    "import matplotlib.pyplot as plt\n",
    "from nodepy import rk\n",
    "import cvxpy as cp\n",
    "\n",
    "\n",
    "import numpy.linalg as linalg\n",
    "\n",
    "from numba import jit, float64, stencil\n",
    "\n",
    "fe =rk.loadRKM('FE').__num__()\n",
    "rk4 = rk.loadRKM('RK44').__num__()\n",
    "rk4x2 = rk4*rk4\n",
    "ssp2 = rk.loadRKM('SSP22').__num__()\n",
    "ssp3 = rk.loadRKM('SSP33').__num__()\n",
    "ssp104 = rk.loadRKM('SSP104').__num__()\n",
    "merson4 = rk.loadRKM('Merson43').__num__()\n",
    "bs5 = rk.loadRKM('BS5').__num__()\n",
    "\n",
    "ck5 = rk.loadRKM('CK5').__num__()\n",
    "dp5 = rk.loadRKM('DP5').__num__()\n",
    "pd8 = rk.loadRKM('PD8').__num__()\n",
    "\n",
    "trbdf = rk.loadRKM('TR-BDF2').__num__()\n",
    "be = rk.loadRKM('BE').__num__()\n",
    "irk2 = rk.loadRKM('LobattoIIIA2').__num__()\n",
    "\n",
    "\n",
    "\n",
    "#Extrapolation method\n",
    "ex2 = rk.extrap(2,'implicit euler').__num__()\n",
    "ex3 = rk.extrap(3,'implicit euler').__num__()\n",
    "ex4 = rk.extrap(4,'implicit euler').__num__()\n",
    "ex5 = rk.extrap(5,'implicit euler').__num__()\n",
    "ex6 = rk.extrap(6,'implicit euler').__num__()\n",
    "ex8 = rk.extrap(8,'implicit euler').__num__()\n",
    "\n",
    "from OrderCondition import *\n",
    "from RKimple import *\n",
    "import utils "
   ]
  },
  {
   "cell_type": "markdown",
   "metadata": {},
   "source": [
    "## At first test the Productio Part\n",
    "\n"
   ]
  },
  {
   "cell_type": "code",
   "execution_count": null,
   "metadata": {},
   "outputs": [],
   "source": [
    "@jit(float64[:](float64,float64[:]),nopython=True)\n",
    "def f_prod(t,u):\n",
    "        du = np.zeros(4)\n",
    "        du[0] = 0.01*u[1]+0.01*u[2]+0.003*u[3]-(u[0]*u[1])/(0.01+u[0])\n",
    "        du[1] = (u[0]*u[1])/(0.01+u[0])-0.01*u[1]-0.5*(1-np.exp(-1.21*u[1]**2))*u[2]-0.05*u[1]\n",
    "        du[2] = 0.5*(1-np.exp(-1.21*u[1]**2))*u[2]-0.01*u[2]-0.02*u[2]\n",
    "        du[3] = 0.05*u[1] + 0.02*u[2]-0.003*u[3]\n",
    "        return du\n",
    "\n",
    "@jit(float64[:](float64,float64[:]),nopython=True)\n",
    "def f_prod_pos(t,u):\n",
    "        du = np.zeros(4)\n",
    "        u = np.where(u>-0.005,u,-0.005)\n",
    "\n",
    "        du[0] = 0.01*u[1]+0.01*u[2]+0.003*u[3]-(u[0]*u[1])/(0.01+u[0])\n",
    "        du[1] = (u[0]*u[1])/(0.01+u[0])-0.01*u[1]-0.5*(1-np.exp(-1.21*u[1]**2))*u[2]-0.05*u[1]\n",
    "        du[2] = 0.5*(1-np.exp(-1.21*u[1]**2))*u[2]-0.01*u[2]-0.02*u[2]\n",
    "        du[3] = 0.05*u[1] + 0.02*u[2]-0.003*u[3]\n",
    "        return du\n",
    "\n"
   ]
  },
  {
   "cell_type": "markdown",
   "metadata": {},
   "source": [
    "### Explicit method SSP104"
   ]
  },
  {
   "cell_type": "code",
   "execution_count": null,
   "metadata": {},
   "outputs": [],
   "source": [
    "#u0 = np.array([1.,1.,1.,1.])\n",
    "\n",
    "u0 = np.array([8.,2.,1.,4.])\n",
    "dt = 0.035\n",
    "\n",
    "t,u,b,KK = RK_variable_b(ssp104,dt,f_prod,u0,t_final=5,b_fixed=False,dumpK=True)"
   ]
  },
  {
   "cell_type": "code",
   "execution_count": null,
   "metadata": {},
   "outputs": [],
   "source": [
    "plt.plot(t,u[0,:],label='1')\n",
    "plt.plot(t,u[1,:],label='2')\n",
    "plt.plot(t,u[2,:],label='3')\n",
    "plt.plot(t,u[3,:],label='4')\n",
    "plt.grid()\n",
    "plt.legend()"
   ]
  },
  {
   "cell_type": "code",
   "execution_count": null,
   "metadata": {},
   "outputs": [],
   "source": [
    "u[u<0]"
   ]
  },
  {
   "cell_type": "code",
   "execution_count": null,
   "metadata": {},
   "outputs": [],
   "source": [
    "#plt.plot(t[1:],b.T[1:,:])\n",
    "plt.plot(10*b.T)\n",
    "plt.plot(u[0,:])\n",
    "plt.grid()\n",
    "plt.xlim([60,70])\n"
   ]
  },
  {
   "cell_type": "code",
   "execution_count": null,
   "metadata": {},
   "outputs": [],
   "source": [
    "plt.plot(t[1:],np.linalg.norm((b[:,1:].T-ssp104.b),ord = 1,axis=1))\n",
    "plt.grid()\n",
    "\n",
    "#print(np.linalg.norm(b[:,1:].T-ssp104.b,ord = 1,axis=1).shape)"
   ]
  },
  {
   "cell_type": "code",
   "execution_count": null,
   "metadata": {},
   "outputs": [],
   "source": [
    "#np.unravel_index(np.argmax(b),b.shape)\n",
    "t[66]"
   ]
  },
  {
   "cell_type": "markdown",
   "metadata": {},
   "source": [
    "for $\\Delta t = 0.035$ at the time $t= 2.31$ a step occurs in $u_1$ and $u_2$. If we take a look at the $b$ of the corresponding step (index 66) it is clear that the regular method is used for the integration at this step. \n",
    "To futher investigate this behaiviour we dump the $K$ matricies."
   ]
  },
  {
   "cell_type": "code",
   "execution_count": null,
   "metadata": {},
   "outputs": [],
   "source": [
    "print(t[64])\n",
    "print(b[:,64])\n",
    "print(b[:,65])\n",
    "print(b[:,66])"
   ]
  },
  {
   "cell_type": "code",
   "execution_count": null,
   "metadata": {},
   "outputs": [],
   "source": [
    "print(u[:,65])\n",
    "print(f_prod(0,u[:,65]))"
   ]
  },
  {
   "cell_type": "code",
   "execution_count": null,
   "metadata": {},
   "outputs": [],
   "source": [
    "plt.plot(KK[10][0,:],'o',label='10')\n",
    "\n",
    "plt.plot(KK[64][0,:],'o',label='64')\n",
    "plt.plot(KK[65][0,:],'o',label='65')\n",
    "plt.plot(KK[66][0,:],'o',label='66')\n",
    "plt.plot(KK[67][0,:],'o',label='67')\n",
    "plt.legend()"
   ]
  },
  {
   "cell_type": "markdown",
   "metadata": {},
   "source": [
    "If we plot the values of the stages for $u_1$ we can see that for many steps all the values are relatively small. \n",
    "An exeption is the 5th stage. \n",
    "Here the values are $\\ll 0$ for $n=64,65$ and $\\gg$ for $n=66$ \n",
    "This apparently leads to the glitch.\n",
    "Quesion: Why is the 5th stage so prone for outliers -> The stage evaluates the RHS at a u with negative values\n",
    "\n",
    "The Errors are not caused by large values of b but by problems in the intermediate stages\n",
    "Is the conclution that keeping $b_{new}-b_{old}$ small is necesary stil justified?\n",
    "\n",
    "\n",
    "Conclusion: it si important to control for negative Values in the intermediate stages.\n",
    "Possible solutions: Solve an positifity enshuring optimisation Problem at every intermediate step.\n",
    "Can be formulated as chosing a new $b$ for every intermediate stage which then gets part of $A$ in the next step.\n",
    "\n",
    "Another idea to explore (Is kind of obvoious but could also be stupid): Replace $f(t,u)$ with an $f_{pos}(t,u)$ with \n",
    "$$f(t,u)-f_{pos}(t,u) = 0 \\forall u \\geq 0 $$\n",
    "Whereas $f_{pos}(t,u)$ is welldefined for $u \\leq 0$"
   ]
  },
  {
   "cell_type": "markdown",
   "metadata": {},
   "source": [
    "We can see that the glitch still happens"
   ]
  },
  {
   "cell_type": "markdown",
   "metadata": {},
   "source": [
    "### Explicit Method CK5/DP5"
   ]
  },
  {
   "cell_type": "code",
   "execution_count": null,
   "metadata": {},
   "outputs": [],
   "source": [
    "print(dp5)\n",
    "print(dp5.p)\n",
    "print(ck5)\n",
    "print(ck5.p)"
   ]
  },
  {
   "cell_type": "code",
   "execution_count": null,
   "metadata": {},
   "outputs": [],
   "source": [
    "#u0 = np.array([1.,1.,1.,1.])\n",
    "\n",
    "u0 = np.array([8.,2.,1.,4.])\n",
    "dt = 0.006\n",
    "\n",
    "t,u,b,KK = RK_variable_b(dp5,dt,f_prod,u0,t_final=10,b_fixed=False,dumpK=True,solver='scipy_ip')"
   ]
  },
  {
   "cell_type": "code",
   "execution_count": null,
   "metadata": {},
   "outputs": [],
   "source": [
    "#plt.plot(t,u[0,:],label='1')\n",
    "#plt.plot(t,u[1,:],label='2')\n",
    "#plt.plot(t,u[2,:],label='3')\n",
    "#plt.plot(t,u[3,:],label='4')\n",
    "plt.plot(u[0,:],label='1')\n",
    "plt.plot(u[1,:],label='2')\n",
    "plt.plot(u[2,:],label='3')\n",
    "plt.plot(u[3,:],label='4')\n",
    "plt.grid()\n",
    "plt.legend()"
   ]
  },
  {
   "cell_type": "code",
   "execution_count": null,
   "metadata": {},
   "outputs": [],
   "source": [
    "plt.plot(t[1:],b.T[1:,:])\n",
    "plt.grid()"
   ]
  },
  {
   "cell_type": "markdown",
   "metadata": {},
   "source": [
    "## See for timesteps"
   ]
  },
  {
   "cell_type": "code",
   "execution_count": null,
   "metadata": {},
   "outputs": [],
   "source": [
    "u0 = np.array([8.,2.,1.,4.])\n",
    "\n",
    "methods = (ssp104,dp5,ck5,ssp2,ssp3,merson4,pd8)\n",
    "dt = utils.findall_dt(RK_variable_b,methods,f_prod,u0,dt_start=0.1,tol=0.001,\n",
    "                   Params=dict(t_final=50,b_fixed=True,fallback = True,num_fallback= 1,\n",
    "                      LP_opts = {'reduce':True,'feastol':1e-10}))\n"
   ]
  },
  {
   "cell_type": "code",
   "execution_count": null,
   "metadata": {},
   "outputs": [],
   "source": [
    "utils.plot_times(methods,dt,effective=True,title='ADP_problem')\n",
    "plt.ylim(0,0.05/10)"
   ]
  },
  {
   "cell_type": "markdown",
   "metadata": {},
   "source": [
    "In this plot the bars for $\\Delta t_{feasible}$ are cropped because they are extremely large because for the low dimentional case there are many solutions for the LP-Problem. \n",
    "It can be seen that the SSP104 method does only ensure positifity for a part of the stable $\\Delta t$. "
   ]
  },
  {
   "cell_type": "markdown",
   "metadata": {},
   "source": [
    "### Implicit method"
   ]
  },
  {
   "cell_type": "code",
   "execution_count": null,
   "metadata": {},
   "outputs": [],
   "source": [
    "u0 = np.array([8.,2.,1.,4.])\n",
    "dt = 1\n",
    "\n",
    "t,u,b = RK_variable_b_implicit(ex4,dt,f_prod_pos,u0,t_final=10,b_fixed=False,solver_eqs =solver_nonlinear_arg,\n",
    "                               fallback=True,num_fallback=1)\n",
    "\n"
   ]
  },
  {
   "cell_type": "code",
   "execution_count": null,
   "metadata": {},
   "outputs": [],
   "source": [
    "plt.plot(t,u[0,:],label='1')\n",
    "plt.plot(t,u[1,:],label='2')\n",
    "plt.plot(t,u[2,:],label='3')\n",
    "plt.plot(t,u[3,:],label='4')\n",
    "plt.grid()\n",
    "plt.legend()"
   ]
  },
  {
   "cell_type": "code",
   "execution_count": null,
   "metadata": {},
   "outputs": [],
   "source": [
    "plt.plot(t[1:],b.T[1:,:])\n",
    "#plt.plot(b.T[1:,:])\n",
    "plt.grid()\n",
    "#plt.xlim([60,70])"
   ]
  },
  {
   "cell_type": "code",
   "execution_count": null,
   "metadata": {},
   "outputs": [],
   "source": [
    "plt.plot(t[1:],ex4.b-b.T[1:,:])"
   ]
  },
  {
   "cell_type": "markdown",
   "metadata": {},
   "source": [
    "# PDE"
   ]
  },
  {
   "cell_type": "code",
   "execution_count": null,
   "metadata": {},
   "outputs": [],
   "source": [
    "# Now we implement the advection Diffusion equation\n",
    "# To arcieve compatibility with the existing time integrators the u's are stored in a single vector\n",
    "\n",
    "#u= [u_1^T,u_2^T,u_3^T,u_4^T]^T\n",
    "\n",
    "\n",
    "\n",
    "\n",
    "@stencil\n",
    "def kernel_adv(a,dxi):\n",
    "    return dxi*(a[0]-a[-1])\n",
    "\n",
    "@stencil\n",
    "def kernel_dif(a,dxqi):\n",
    "    return dxqi*(a[-1]-2*a[0]+a[1])\n",
    "\n",
    "@jit(float64[:](float64[:],float64),nopython=True)\n",
    "def adv(u,dxi):\n",
    "    du = kernel_adv(u,dxi)\n",
    "    \n",
    "    #Periodic\n",
    "    du[0]=dxi*(u[0]-u[-1])\n",
    "    return du\n",
    "\n",
    "@jit(float64[:](float64[:],float64),nopython=True)\n",
    "def dif(u,dxqi):\n",
    "    du = kernel_dif(u,dxqi)\n",
    "\n",
    "    #Periodic\n",
    "    du[0] =dxqi*(u[-1]-2*u[0]+u[1])\n",
    "    du[-1]=dxqi*(u[-2]-2*u[-1]+u[0])\n",
    "    \n",
    "    return du\n",
    "\n",
    "\n",
    "@jit(float64[:](float64,float64[:]),nopython=True)\n",
    "def f_ADP(t,u):\n",
    "    a=1e-2\n",
    "    d=1e-6\n",
    "    \n",
    "    du = np.zeros_like(u)\n",
    "    \n",
    "    #split u in different parts\n",
    "    N = len(u)//4\n",
    "    u1 = u[0:N]\n",
    "    u2 = u[N:2*N]\n",
    "    u3 = u[2*N:3*N]\n",
    "    u4 = u[3*N:4*N]\n",
    "    \n",
    "    #calculate Production\n",
    "    pu1 = 0.01*u2+0.01*u3+0.003*u4-(u1*u2)/(0.01+u1)\n",
    "    pu2 = -0.01*u2-0.5*(1-np.exp(-1.21*u2**2))*u3-0.05*u2+(u1*u2)/(0.01+u1)\n",
    "    pu3 = 0.5*(1-np.exp(-1.21*u2**2))*u3-0.01*u3-0.02*u3\n",
    "    pu4 = 0.05*u2 + 0.02*u3-0.003*u4\n",
    "    \n",
    "    #Advection and Diffusion\n",
    "    dx=1/N #periodic boundary\n",
    "    dxq = dx**2\n",
    "    \n",
    "    \n",
    "    du[0:N] = -a*adv(u1,1/dx)+d*dif(u1,1/dxq) + pu1 \n",
    "    du[N:2*N] = -a*adv(u2,1/dx)+d*dif(u2,1/dxq) + pu2\n",
    "    du[2*N:3*N] = -a*adv(u3,1/dx)+d*dif(u3,1/dxq) + pu3\n",
    "    du[3*N:4*N] = -a*adv(u4,1/dx)+d*dif(u4,1/dxq) + pu4   \n",
    "    \n",
    "    return du\n",
    "\n",
    "\n",
    "#Added a modification to the function that alters the behavior for values <0.005 to make shure that\n",
    "#there is no second root of the stageeqation with negative us\n",
    "@jit(float64[:](float64,float64[:]),nopython=True)\n",
    "def f_ADP_pos(t,u):\n",
    "    a=1e-2\n",
    "    d=1e-6\n",
    "    \n",
    "    du = np.zeros_like(u)\n",
    "    \n",
    "    #split u in different parts\n",
    "    N = len(u)//4\n",
    "    u1 = np.where(u[0:N]>-0.005,u[0:N],-0.005)   #\n",
    "    u2 = np.where(u[N:2*N]>-0.005,u[N:2*N],-0.005)\n",
    "    u3 = np.where(u[2*N:3*N]>-0.005,u[2*N:3*N],-0.005)\n",
    "    u4 = np.where(u[3*N:4*N]>-0.005,u[3*N:4*N],-0.005)\n",
    "    \n",
    "    \n",
    "    \n",
    "    #calculate Production\n",
    "    pu1 = 0.01*u2+0.01*u3+0.003*u4-(u1*u2)/(0.01+u1)\n",
    "    pu2 = -0.01*u2-0.5*(1-np.exp(-1.21*u2**2))*u3-0.05*u2+(u1*u2)/(0.01+u1)\n",
    "    pu3 = 0.5*(1-np.exp(-1.21*u2**2))*u3-0.01*u3-0.02*u3\n",
    "    pu4 = 0.05*u2 + 0.02*u3-0.003*u4\n",
    "    \n",
    "    #Advection and Diffusion\n",
    "    dx=1/N #periodic boundary\n",
    "    dxq = dx**2\n",
    "    \n",
    "    \n",
    "    du[0:N] = -a*adv(u1,1/dx)+d*dif(u1,1/dxq) + pu1 \n",
    "    du[N:2*N] = -a*adv(u2,1/dx)+d*dif(u2,1/dxq) + pu2\n",
    "    du[2*N:3*N] = -a*adv(u3,1/dx)+d*dif(u3,1/dxq) + pu3\n",
    "    du[3*N:4*N] = -a*adv(u4,1/dx)+d*dif(u4,1/dxq) + pu4   \n",
    "    \n",
    "    return du\n",
    "\n",
    "\n",
    "def precond_ADP(t,u,dt,a,f): #solves the impicit Advection and diffusion Problem without the Production part\n",
    "    a=1e-2\n",
    "    d=1e-6\n",
    "    \n",
    "    y0 = np.zeros_like(u)\n",
    "    \n",
    "    N = len(u)//4\n",
    "    u1 = u[0:N]\n",
    "    u2 = u[N:2*N]\n",
    "    u3 = u[2*N:3*N]\n",
    "    u4 = u[3*N:4*N]\n",
    "    \n",
    "    #Advection and Diffusion\n",
    "    dx=1/N #periodic boundary\n",
    "    dxq = dx**2\n",
    "    \n",
    "    A_dif = 1/dx**2 * (-2*np.diag(np.ones(N))+np.diag(np.ones(N-1),-1)+np.diag(np.ones(N-1),1))\n",
    "    A_dif[-1,0] = 1/dx**2\n",
    "    A_dif[0,-1] = 1/dx**2\n",
    "\n",
    "    A_adv = 1/dx * (np.diag(np.ones(N))-np.diag(np.ones(N-1),-1))\n",
    "    A_adv[0,-1] = 1/dx\n",
    "    \n",
    "    A = -a*A_adv + d*A_dif\n",
    "    \n",
    "    y0[0:N] = u1+dt*a*solver_Matrix(t,u1,dt,a,A)\n",
    "    y0[N:2*N] = u2+dt*a*solver_Matrix(t,u2,dt,a,A)\n",
    "    y0[2*N:3*N] = u3+dt*a*solver_Matrix(t,u3,dt,a,A)\n",
    "    y0[3*N:4*N] = u4+dt*a*solver_Matrix(t,u4,dt,a,A)  \n",
    "    \n",
    "    return y0\n",
    "    \n",
    "def precond_ADP_forward(t,u,dt,a,f):\n",
    "    a=1e-2\n",
    "    d=1e-6\n",
    "    \n",
    "    y0 = np.zeros_like(u)\n",
    "    \n",
    "    N = len(u)//4\n",
    "    u1 = u[0:N]\n",
    "    u2 = u[N:2*N]\n",
    "    u3 = u[2*N:3*N]\n",
    "    u4 = u[3*N:4*N]\n",
    "    \n",
    "    #Advection and Diffusion\n",
    "    dx=1/N #periodic boundary\n",
    "    dxq = dx**2\n",
    "    \n",
    "    A_dif = 1/dx**2 * (-2*np.diag(np.ones(N))+np.diag(np.ones(N-1),-1)+np.diag(np.ones(N-1),1))\n",
    "    A_dif[-1,0] = 1/dx**2\n",
    "    A_dif[0,-1] = 1/dx**2\n",
    "\n",
    "    A_adv = 1/dx * (np.diag(np.ones(N))-np.diag(np.ones(N-1),-1))\n",
    "    A_adv[0,-1] = 1/dx\n",
    "    \n",
    "    A = -a*A_adv + d*A_dif\n",
    "    \n",
    "    y0[0:N] = u1+dt*a*A@u1\n",
    "    y0[N:2*N] = u2+dt*a*A@u2\n",
    "    y0[2*N:3*N] = u3+dt*a*A@u3\n",
    "    y0[3*N:4*N] = u4+dt*a*A@u4  \n",
    "    \n",
    "    return y0"
   ]
  },
  {
   "cell_type": "code",
   "execution_count": null,
   "metadata": {},
   "outputs": [],
   "source": [
    "#Additional functions for better handling of System\n",
    "\n",
    "def initial_ADP(N):\n",
    "    start = np.array([8.,2.,1.,4.])\n",
    "    u1s = np.zeros(N)\n",
    "    u1s[0:N//2]=7\n",
    "    u1s[N//2:]=8\n",
    "\n",
    "    u2s = np.zeros(N)\n",
    "    u2s[N//2:-1]=2\n",
    "\n",
    "    u3s = np.zeros(N)\n",
    "    u3s[N//2:]=1\n",
    "\n",
    "    u4s = np.zeros(N)\n",
    "    u4s[0:N//2]=1\n",
    "    u4s[N//2:]=4\n",
    "\n",
    "\n",
    "    u0=np.ones(N*4)\n",
    "    u0[0:N] =  u1s\n",
    "    u0[N:2*N] =  u2s\n",
    "    u0[2*N:3*N] =  u3s\n",
    "    u0[3*N:4*N] =  u4s\n",
    "    \n",
    "    return u0\n",
    "    \n",
    "\n",
    "def plot_image(u,t):\n",
    "    N = u.shape[0]//4\n",
    "    cmap=plt.get_cmap('plasma')\n",
    "    display(u.shape)\n",
    "    extent=[0,t[-1],1,0]\n",
    "    plt.subplot(4, 1, 1)\n",
    "    plt.imshow(u[0:N,:],cmap=cmap,extent=extent)\n",
    "    plt.colorbar()\n",
    "    plt.axis('tight')\n",
    "    plt.subplot(4, 1, 2)\n",
    "    plt.imshow(u[N:2*N,:],cmap=cmap,extent=extent)\n",
    "    plt.colorbar()\n",
    "    plt.axis('tight')\n",
    "    plt.subplot(4, 1, 3)\n",
    "    plt.imshow(u[2*N:3*N,:],cmap=cmap,extent=extent)\n",
    "    plt.colorbar()\n",
    "    plt.axis('tight')\n",
    "    plt.subplot(4, 1, 4)\n",
    "    plt.imshow(u[3*N:4*N,:],cmap=cmap,extent=extent)\n",
    "    plt.colorbar()\n",
    "    plt.axis('tight')\n",
    "\n",
    "def plot_at_time(u,T):\n",
    "    n=np.argmin(np.abs(t-T))\n",
    "\n",
    "    print(n,t[n])\n",
    "\n",
    "\n",
    "    u_ = u[:,n]\n",
    "    N= len(u_)//4\n",
    "\n",
    "    u1 = u_[0:N]\n",
    "    u2 = u_[N:2*N]\n",
    "    u3 = u_[2*N:3*N]\n",
    "    u4 = u_[3*N:4*N]\n",
    "\n",
    "    plt.plot(u1,label='u1')\n",
    "    plt.plot(u2,label='u2')\n",
    "    plt.plot(u3,label='u3')\n",
    "    plt.plot(u4,label='u4')\n",
    "    \n",
    "    plt.title('T='+str(T))\n",
    "    plt.legend()"
   ]
  },
  {
   "cell_type": "markdown",
   "metadata": {},
   "source": [
    "### Explicit"
   ]
  },
  {
   "cell_type": "markdown",
   "metadata": {},
   "source": [
    "At first we want to investigate the behavior of the explicit mehthods. \n",
    "\n",
    "Questions:\n",
    "\n",
    "$\\bullet$ which method is usefull, we would expect that the dp5 method is more adventagios for our case because it should cause problems with positifity wth smaler timesteps.\n",
    "\n",
    "$\\bullet$ Do we get poblems with infeasible Problems. \n",
    "\n",
    "$\\bullet$ Can we use high orders for solvers with $s > p$ or does the high order cause Problems\n",
    "\n",
    "\n",
    "Note: For many testcases the LP solver crashed for unreasonable small timesteps. These issues could be solved by reducing the positifity conditons to the necessary conditions.\n",
    "\n",
    "\n",
    "We are going to test the solvers for multiple timesteps. For the explicit methos we want to show the important times.\n",
    "\n",
    "$$ \\Delta t \\; \\underset{0}{+}-------------\\underset{\\Delta t_{pos}}{+}\\underbrace{------------}_{\\gamma}\\underset{\\Delta t_{feasible}}{+}----\\underset{\\Delta t_{stable}}{+}---->  $$\n",
    "\n",
    "$\\Delta t_{pos}$ is the largest stepsize that yields to positive results without adapting the $b$\n",
    "\n",
    "$\\Delta t_{feasible}$ is the largest stepsize that can be used with the adaptive $b$\n",
    "\n",
    "$\\Delta t_{stable}$ is the largest stepsize for that the method is stable\n",
    "\n",
    "\n",
    "The timesteps where the adaption of the b is usefull is denoted with $\\gamma$ idealy this interval is as large as possible. This means that $\\Delta t_{pos} \\ll \\Delta t_{feasible} \\approx \\Delta t_{stable}$\n",
    "\n",
    "With stepsizes $\\Delta t > \\Delta t_{stable} $ we cann not expect the solution to be reasonable\n",
    "\n",
    "We will approximate the borders for the $ssp104$ method and the $dp5$ method"
   ]
  },
  {
   "cell_type": "code",
   "execution_count": null,
   "metadata": {},
   "outputs": [],
   "source": [
    "N =100\n",
    "x = np.linspace(0,1,num = N)\n",
    "dx=1/(N) # no -1 because of periodic boundary\n",
    "u0 = initial_ADP(100)\n",
    "\n",
    "methods = (ssp104,dp5,ck5,ssp2,ssp3,merson4,pd8)\n",
    "dt = utils.findall_dt(RK_variable_b,methods,f_ADP,u0,dt_start=0.009,tol=0.0001,\n",
    "                   Params=dict(t_final=10,b_fixed=True,fallback = True,num_fallback= 1,\n",
    "                      LP_opts = {'reduce':True,'feastol':1e-10}))\n",
    "display(dt)   \n"
   ]
  },
  {
   "cell_type": "code",
   "execution_count": null,
   "metadata": {
    "scrolled": true
   },
   "outputs": [],
   "source": [
    "utils.plot_times(methods,dt,effective=False,title='ADP_problem')"
   ]
  },
  {
   "cell_type": "markdown",
   "metadata": {},
   "source": [
    "We can see the same behavior of the ssp104 method as in the reaction Problem. This explains why the positifity is also only enured for a subset of stable timesteps. \n",
    "The dp5 and ck5 methods can handle the reaction part much better (compare to the plot for the Production test). This explains why $\\Delta t_{stable} = \\Delta t_{pos}$ for these both methods.\n",
    "The proportions ot the plot do not change when speeding up and down the reaction part compared to the advection and diffusion part. Apparently the size of the timesteps is determined by the rection part.\n",
    "\n",
    "For the ssp104 method the the region with positive results could be expanded to the hole region with stable timesteps."
   ]
  },
  {
   "cell_type": "code",
   "execution_count": null,
   "metadata": {},
   "outputs": [],
   "source": [
    "#dp5\n",
    "N =100\n",
    "x = np.linspace(0,1,num = N)\n",
    "dx=1/(N) # no -1 because of periodic boundary\n",
    "\n",
    "\n",
    "\n",
    "u0 = initial_ADP(N)\n",
    "\n",
    "\n",
    "\n",
    "\n",
    "#dp5\n",
    "#dt = 0.0031 #dt_pos\n",
    "\n",
    "  #dt_feasible for fallback = False #imeadetly crashes\n",
    "\n",
    "  #dt_feasible for num_fallback = 1 #imeadetly crashes\n",
    "\n",
    "#dt = 0.0041 #dt_feasible for num_fallback = 2\n",
    "\n",
    "#dt = 0.006 # stil feasible but shows strong distortions near start num_fallback= 3\n",
    "dt = 0.0061 #dt_feasible for num_fallback = 3\n",
    "\n",
    "#dt = 0.0031 # dt_stable\n",
    "\n",
    "dt = 0.008\n",
    "dt = 0.015\n",
    "\n",
    "\n",
    "t,u,b,status = RK_variable_b(ssp104,dt,f_ADP,u0,t_final=50,b_fixed=False,fallback = True,num_fallback= 3,\n",
    "                      LP_opts = {'verbose_LP':False,'reduce':True,'feastol':1e-10},return_status=True,verbose=False)\n",
    "\n",
    "#t,u,b = RK_variable_b(dp5,dt,f_ADP,u0,t_final=50,b_fixed=False,fallback = True,num_fallback= 2,solver='scipy_ip',\n",
    "#                      LP_opts = {'reduce':True})\n",
    "\n",
    "\n",
    "display(status)"
   ]
  },
  {
   "cell_type": "code",
   "execution_count": null,
   "metadata": {},
   "outputs": [],
   "source": [
    "#plot_image(((u<0)*1.)[:,range(1,u.shape[1],10)],t)\n",
    "plot_image(u[:,range(1,u.shape[1],10)],t)"
   ]
  },
  {
   "cell_type": "code",
   "execution_count": null,
   "metadata": {},
   "outputs": [],
   "source": [
    "T= 22#8.82\n",
    "plot_at_time(u,T)"
   ]
  },
  {
   "cell_type": "code",
   "execution_count": null,
   "metadata": {
    "scrolled": true
   },
   "outputs": [],
   "source": [
    "plt.plot(t[1:],b.T[1:,:]);"
   ]
  },
  {
   "cell_type": "code",
   "execution_count": null,
   "metadata": {},
   "outputs": [],
   "source": [
    "print('min:',np.min(u))\n",
    "print(u[u<0])\n",
    "print(np.sum(u<0))"
   ]
  },
  {
   "cell_type": "markdown",
   "metadata": {},
   "source": [
    "### Implicit"
   ]
  },
  {
   "cell_type": "markdown",
   "metadata": {},
   "source": [
    "For implicit methods $\\Delta t$ could be indefinitley large. This is not true in pracitice because at sime time the solver for the stage equation fails. Also does the solution no longer resemble the actual solution. \n",
    "There were some effords tried to increase the performance of the solver for the stage equations. But apparently the default scipy.fsolve works best."
   ]
  },
  {
   "cell_type": "code",
   "execution_count": null,
   "metadata": {},
   "outputs": [],
   "source": [
    "N =100\n",
    "x = np.linspace(0,1,num = N)\n",
    "dx=1/(N) # no -1 because of periodic boundary\n",
    "\n",
    "\n",
    "u0 = initial_ADP(N)\n",
    "\n",
    "#dt = 0.5 #solver ECOS fails for 0.4\n",
    "\n",
    "\n",
    "\n",
    "dt = 0.7   #with dt = 0.7 solution does not resemble exact solution\n",
    "t,u,b = RK_variable_b_implicit(ex3,dt,f_ADP_pos,u0,t_final=50,b_fixed=True,solver_eqs =solver_nonlinear_arg,\n",
    "                               fallback=False,num_fallback=1,solver=cp.ECOS,LP_opts = {'reduce':True})\n",
    "#fallback=True,num_fallback=1\n",
    "\n",
    "#for dt = 0.5 no convergenc error with nk\n",
    "\n",
    "\n",
    "#Fails, beginning with LP-solver note getting a better solution, in some parts reasonabl negative results\n",
    "#t,u,b = RK_variable_b_implicit(ex3,dt,f_ADP_pos,u0,t_final=50,b_fixed=False,solver_eqs =solver_nonlinear_arg,\n",
    "#                               fallback=False,num_fallback=1,solver='scipy_sim',LP_opts = {'reduce':True,'tol':1e-8})"
   ]
  },
  {
   "cell_type": "code",
   "execution_count": null,
   "metadata": {},
   "outputs": [],
   "source": [
    "plot_image(u,t)\n"
   ]
  },
  {
   "cell_type": "code",
   "execution_count": null,
   "metadata": {},
   "outputs": [],
   "source": [
    "plt.plot(t[1:],b.T[1:,:])\n",
    "plt.grid()\n",
    "#plt.xlim([15,20])"
   ]
  },
  {
   "cell_type": "code",
   "execution_count": null,
   "metadata": {},
   "outputs": [],
   "source": [
    "u[u<0]"
   ]
  },
  {
   "cell_type": "code",
   "execution_count": null,
   "metadata": {},
   "outputs": [],
   "source": [
    "T= 25#8.82\n",
    "plot_at_time(u,T)"
   ]
  },
  {
   "cell_type": "markdown",
   "metadata": {},
   "source": [
    "# Appendix Convergence "
   ]
  },
  {
   "cell_type": "code",
   "execution_count": null,
   "metadata": {},
   "outputs": [],
   "source": [
    "# calculate a reference solution is possibly still not extremle exact. Maybee using something with stepsize controll\n",
    "u0 = initial_ADP(100)\n",
    "N =100\n",
    "\n",
    "t_ref,u_ref,b_ref = RK_variable_b(ssp104,0.00005,f_ADP,u0,t_final=9.,b_fixed=True) #dt old = 0.0001 #0.00005"
   ]
  },
  {
   "cell_type": "code",
   "execution_count": null,
   "metadata": {},
   "outputs": [],
   "source": [
    "save = False\n",
    "load = True\n",
    "if save:\n",
    "    np.savez('reference_ADP.npz', u_ref=u_ref, t_ref = t_ref, label=('ssp104','dt = 0.00001'))\n",
    "\n",
    "if load:\n",
    "    npzfile = np.load('reference_ADP.npz')\n",
    "    t_ref = npzfile['t_ref']\n",
    "    u_ref = npzfile['u_ref']"
   ]
  },
  {
   "cell_type": "code",
   "execution_count": null,
   "metadata": {},
   "outputs": [],
   "source": [
    "\n",
    "\n",
    "#dt = np.logspace(-3,-0.5,num=3)\n",
    "dt = np.array([0.05,0.1,0.3,0.4,0.5])\n",
    "\n",
    "u0 = initial_ADP(100)\n",
    "\n",
    "referencea = np.zeros([len(u0),len(dt)])\n",
    "for i in range(len(dt)):\n",
    "    referencea[:,i]= u_ref[:,-1]\n",
    "\n",
    "\n",
    "\n",
    "N =100\n",
    "x = np.linspace(0,1,num = N)\n",
    "dx=1/(N) # no -1 because of periodic boundary\n",
    "\n",
    "print('BE')\n",
    "sol_a1,err_a1 = utils.plot_convergence(RK_variable_b_implicit,be,f_ADP_pos,u0,dt,referencea,error='rel',step = -1,\n",
    "                              Params=dict(t_final=9.,b_fixed=True,solver_eqs =solver_nonlinear_arg))\n",
    "\n",
    "print('ex3')\n",
    "sol_a2,err_a2 = utils.plot_convergence(RK_variable_b_implicit,ex3,f_ADP_pos,u0,dt,referencea,error='rel',step = -1,\n",
    "                              Params=dict(t_final=9.,b_fixed=True,solver_eqs =solver_nonlinear_arg))\n",
    "\n",
    "print('ex3_adapted')\n",
    "sol_a2,err_a2 = utils.plot_convergence(RK_variable_b_implicit,ex3,f_ADP_pos,u0,dt,referencea,error='rel',step = -1,\n",
    "                              Params=dict(t_final=9.,b_fixed=False,solver_eqs =solver_nonlinear_arg,\n",
    "                               fallback=True,num_fallback=1,solver=cp.ECOS,LP_opts = {'reduce':True}))\n",
    "\n"
   ]
  },
  {
   "cell_type": "code",
   "execution_count": null,
   "metadata": {},
   "outputs": [],
   "source": [
    "np.argmin?"
   ]
  },
  {
   "cell_type": "code",
   "execution_count": null,
   "metadata": {},
   "outputs": [],
   "source": [
    "np.linalg.norm?"
   ]
  },
  {
   "cell_type": "code",
   "execution_count": null,
   "metadata": {},
   "outputs": [],
   "source": []
  }
 ],
 "metadata": {
  "kernelspec": {
   "display_name": "Python 3",
   "language": "python",
   "name": "python3"
  },
  "language_info": {
   "codemirror_mode": {
    "name": "ipython",
    "version": 3
   },
   "file_extension": ".py",
   "mimetype": "text/x-python",
   "name": "python",
   "nbconvert_exporter": "python",
   "pygments_lexer": "ipython3",
   "version": "3.7.4"
  }
 },
 "nbformat": 4,
 "nbformat_minor": 2
}
