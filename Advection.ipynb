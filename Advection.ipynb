{
 "cells": [
  {
   "cell_type": "markdown",
   "metadata": {},
   "source": [
    "# Advection\n",
    "Notebook to implement and test different methods on advection type PDEs"
   ]
  },
  {
   "cell_type": "code",
   "execution_count": null,
   "metadata": {},
   "outputs": [],
   "source": [
    "import numpy as np\n",
    "import matplotlib.pyplot as plt\n",
    "from nodepy import rk\n",
    "import cvxpy as cp\n",
    "\n",
    "\n",
    "import numpy.linalg as linalg\n",
    "\n",
    "from numba import jit, float64, stencil\n",
    "\n",
    "fe =rk.loadRKM('FE').__num__()\n",
    "rk4 = rk.loadRKM('RK44').__num__()\n",
    "rk4x2 = rk4*rk4\n",
    "ssp2 = rk.loadRKM('SSP22').__num__()\n",
    "ssp3 = rk.loadRKM('SSP33').__num__()\n",
    "ssp104 = rk.loadRKM('SSP104').__num__()\n",
    "merson4 = rk.loadRKM('Merson43').__num__()\n",
    "bs5 = rk.loadRKM('BS5').__num__()\n",
    "\n",
    "ck5 = rk.loadRKM('CK5').__num__()\n",
    "dp5 = rk.loadRKM('DP5').__num__()\n",
    "pd8 = rk.loadRKM('PD8').__num__()\n",
    "\n",
    "trbdf = rk.loadRKM('TR-BDF2').__num__()\n",
    "be = rk.loadRKM('BE').__num__()\n",
    "irk2 = rk.loadRKM('LobattoIIIA2').__num__()\n",
    "\n",
    "\n",
    "\n",
    "#Extrapolation method\n",
    "ex2 = rk.extrap(2,'implicit euler').__num__()\n",
    "ex3 = rk.extrap(3,'implicit euler').__num__()\n",
    "ex4 = rk.extrap(4,'implicit euler').__num__()\n",
    "ex5 = rk.extrap(5,'implicit euler').__num__()\n",
    "ex6 = rk.extrap(6,'implicit euler').__num__()\n",
    "ex8 = rk.extrap(8,'implicit euler').__num__()\n",
    "\n",
    "from OrderCondition import *\n",
    "from RKimple import *\n",
    "import utils \n",
    "\n",
    "from matplotlib import animation, rc\n",
    "from IPython.display import HTML"
   ]
  },
  {
   "cell_type": "markdown",
   "metadata": {},
   "source": [
    "# Linear advection"
   ]
  },
  {
   "cell_type": "code",
   "execution_count": null,
   "metadata": {},
   "outputs": [],
   "source": [
    "N=50\n",
    "x = np.linspace(0,1,N)\n",
    "dx = x[1]-x[0]\n",
    "\n",
    "\n",
    "def f_upwind_advection(t,u):\n",
    "    dx = 1/len(u)\n",
    "    du = np.zeros_like(u)\n",
    "    du[1:] = (u[1:]-u[:-1])\n",
    "    du[0] = u[0]-u[-1]\n",
    "    return -du/(dx)\n",
    "\n",
    "\n",
    "def initial_advection(N,shape = 'delta',scale = 10*np.pi):\n",
    "    \"\"\"\n",
    "    Method to generate test initila data for the advection equation\n",
    "    \n",
    "    Parmaters:\n",
    "    N:     Number of points\n",
    "    shape: Which testdata \n",
    "        'delta':   deltafunction\n",
    "        'step':    the stepfunction\n",
    "        'sin':     sine function\n",
    "        'sin_cut': sine windowed\n",
    "        'cos_cut': 1-cos windowed\n",
    "    scale: Scale factor for 'sin' and 'sin_cut' in time\n",
    "    \"\"\"\n",
    "    \n",
    "    if shape == 'delta':\n",
    "        u0 = np.zeros(N)\n",
    "        u0[N//2] = 1\n",
    "    elif shape == 'step':\n",
    "        u0 = np.zeros(N)\n",
    "        u0[N//2:] = 1\n",
    "    elif shape == 'sin':\n",
    "        x = np.linspace(0,1,N)\n",
    "        u0 = np.sin(x*scale)+1\n",
    "    elif shape == 'sin_cut':\n",
    "        x = np.linspace(0,1,N)\n",
    "        u0 = np.zeros(N)\n",
    "        u0[(x*scale)<=np.pi] = np.sin(x*scale)[(x*scale)<=np.pi]\n",
    "    elif shape == 'cos_cut':\n",
    "        x = np.linspace(0,1,N)\n",
    "        u0 = np.zeros(N)\n",
    "        u0[(x*scale)<=(2*np.pi)] = 1-np.cos(x*scale)[(x*scale)<=(2*np.pi)]\n",
    "    else:\n",
    "        print('wrong shape')             \n",
    "    \n",
    "    return u0\n",
    "    \n",
    "\n",
    "#u0 = (x<0.5)*1.\n",
    "#u0 = (x<0.5)+0.2\n",
    "u0 = (x<0.5)+0.\n",
    "#u0 = np.sin(2*np.pi*x)+1.\n",
    "\n",
    "dt = 2.5*dx\n",
    "\n",
    "\n",
    "def plot_image(u,t):\n",
    "    cmap=plt.get_cmap('plasma')\n",
    "    extent=[0,t[-1],1,0]\n",
    "    plt.imshow(u,cmap=cmap,extent=extent)\n",
    "    plt.colorbar()\n",
    "    plt.axis('tight')\n",
    "    \n",
    "\n",
    "def plot_at_time(u,T):\n",
    "    n=np.argmin(np.abs(t-T))\n",
    "    print(n,t[n])\n",
    "    plt.plot(u[:,n])\n",
    "    plt.title('t:'+str(t[n]))\n",
    "    \n",
    "    \n",
    "def init():\n",
    "    line.set_data([], [])\n",
    "    time_text.set_text('')\n",
    "    return (line,)\n",
    "\n",
    "def animate(i,u,t):\n",
    "    x = np.linspace(0,1,u.shape[0])\n",
    "    y = u[:,i]\n",
    "    line.set_data(x, y)\n",
    "    time_template = 't = %.3f'\n",
    "    time_text.set_text(time_template % (t[i]))\n",
    "    return (line,)\n",
    "\n",
    "def plot_animate(u,t,frames = 200):\n",
    "    \n",
    "    fig, ax = plt.subplots()\n",
    "\n",
    "    ax.set_xlim(( 0, 1))\n",
    "    ax.set_ylim((np.min(u), np.max(u)))\n",
    "    \n",
    "    global line\n",
    "    global time_text\n",
    "    \n",
    "    time_text = ax.text(0.05, 0.9, '', transform=ax.transAxes)\n",
    "    line, = ax.plot([], [], lw=2)\n",
    "\n",
    "    anim = animation.FuncAnimation(fig, animate, init_func=init,\n",
    "                               frames=range(0,u.shape[1],max(u.shape[1]//frames,1)), interval=200, \n",
    "                               blit=True,fargs = (u,t))\n",
    "    return HTML(anim.to_jshtml())\n",
    "\n",
    "\n",
    "    "
   ]
  },
  {
   "cell_type": "markdown",
   "metadata": {},
   "source": [
    "CFL condition:\n",
    "\n",
    "Advection coefficent $a$ = 1 \n",
    "\n",
    "This leads to $$\\frac{dx}{dt} \\leq 1$$"
   ]
  },
  {
   "cell_type": "code",
   "execution_count": null,
   "metadata": {},
   "outputs": [],
   "source": [
    "N =100\n",
    "\n",
    "u0 = initial_advection(100,'delta')\n",
    "\n",
    "methods = (ssp104,dp5,ck5,ssp2,ssp3,merson4,pd8)\n",
    "dts = utils.findall_dt(RK_variable_b,methods,f_upwind_advection,u0,dt_start=0.009,tol=0.0001,\n",
    "                   Params=dict(t_final=1,b_fixed=True,fallback = True,num_fallback= 1,\n",
    "                      LP_opts = {'reduce':True,'feastol':1e-10}))\n",
    "print(dts)\n",
    "\n",
    "\n"
   ]
  },
  {
   "cell_type": "code",
   "execution_count": null,
   "metadata": {},
   "outputs": [],
   "source": [
    "utils.plot_times(methods,dts,effective=False,title='Advection linear')"
   ]
  },
  {
   "cell_type": "markdown",
   "metadata": {},
   "source": [
    "For the linear advection case we can see that the ssp104 ensures positifity for all stable timesteps. \n",
    "\n",
    "The dp5 and ck5 methods do not ensure positifity for the hole stable region. The regions with positifity can be extended by adapting the b while enforcing the Order Conditions for 4th Order."
   ]
  },
  {
   "cell_type": "code",
   "execution_count": null,
   "metadata": {},
   "outputs": [],
   "source": [
    "u0 = initial_advection(100,'delta')\n",
    "\n",
    "dt = 1/100 *10\n",
    "dt =0.016\n",
    "#dt = 0.015 #works for fallback = 1 wyh dp5\n",
    "#dt = 0.017\n",
    "#dt = 0.015 #works for fallback = 1 wyh ck5\n",
    "\n",
    "t,u,b,status = RK_variable_b(pd8,dt,f_upwind_advection,w0=u0,t_final=1,b_fixed=False,return_status=True,\n",
    "                             fallback = True,num_fallback= 2,LP_opts = {'reduce':True,'feastol':1e-10})\n",
    "print(status)"
   ]
  },
  {
   "cell_type": "code",
   "execution_count": null,
   "metadata": {},
   "outputs": [],
   "source": [
    "plot_image(u,t)"
   ]
  },
  {
   "cell_type": "code",
   "execution_count": null,
   "metadata": {},
   "outputs": [],
   "source": [
    "plt.plot(t[1:],b.T[1:,:]);"
   ]
  },
  {
   "cell_type": "code",
   "execution_count": null,
   "metadata": {},
   "outputs": [],
   "source": [
    "plot_at_time(u,0.05)"
   ]
  },
  {
   "cell_type": "code",
   "execution_count": null,
   "metadata": {},
   "outputs": [],
   "source": [
    "plot_animate(u,t,frames=len(t))"
   ]
  },
  {
   "cell_type": "markdown",
   "metadata": {},
   "source": [
    "# Variable Coefficent Advection\n",
    "\n",
    "$u_t + (a(x,t)u)_x = 0$\n",
    "\n",
    "$u_t = - (a(x,t)u)_x$\n",
    "\n",
    "$\\frac{\\mathrm d}{\\mathrm d x} \\big( a(x,t)u(x,t) \\big) = \\frac{\\mathrm d}{\\mathrm d x} \\big( u(x,t) \\big) a(x,t) =\\frac{\\mathrm d}{\\mathrm d x} \\big( a(x,t) \\big) u(x,t)$\n",
    "\n",
    "\n",
    "Hom. Dirichelt Boundary at $x=0$ open Boundary on $x=1$"
   ]
  },
  {
   "cell_type": "code",
   "execution_count": null,
   "metadata": {},
   "outputs": [],
   "source": [
    "\n",
    "\n",
    "def f_var_coeff_adv(t,u):\n",
    "    \n",
    "    #Old implementation, does not enshure conservation\n",
    "    #A_upwind_advection = 1/dx * (-np.diag(np.ones(N))+np.diag(np.ones(N-1),-1))\n",
    "    #a = lambda x,t: np.cos(20*x + 45*t)**2\n",
    "    #a_ = lambda x,t: 2*np.cos(20*x + 45*t)*-np.sin(20*x + 45*t)*20\n",
    "    #return np.diag(a(x,t))@A_upwind_advection@u +  a_(x,t)*u\n",
    "    \n",
    "    N = len(u)\n",
    "    dx = 1/N\n",
    "    \n",
    "    x = np.linspace(0,1,N)\n",
    "    \n",
    "    A_upwind_advection = 1/dx * (-np.diag(np.ones(N))+np.diag(np.ones(N-1),-1))\n",
    "    a = lambda x,t: np.cos(20*x + 45*t)**2\n",
    "    return A_upwind_advection@(a(x,t)*u)\n",
    "\n",
    "\n"
   ]
  },
  {
   "cell_type": "code",
   "execution_count": null,
   "metadata": {},
   "outputs": [],
   "source": [
    "N =100\n",
    "\n",
    "u0 = initial_advection(100,'cos_cut')\n",
    "\n",
    "methods = (ssp104,dp5,ck5,ssp3,merson4,pd8)\n",
    "dts = utils.findall_dt(RK_variable_b,methods,f_var_coeff_adv,u0,dt_start=0.009,tol=0.0001,\n",
    "                   Params=dict(t_final=2,b_fixed=True,fallback = True,num_fallback= 2,\n",
    "                      LP_opts = {'reduce':True,'feastol':1e-10}))\n",
    "print(dts)\n",
    "\n",
    "\n"
   ]
  },
  {
   "cell_type": "code",
   "execution_count": null,
   "metadata": {},
   "outputs": [],
   "source": [
    "utils.plot_times(methods,dts,effective=False,title='variable coefficent advection')"
   ]
  },
  {
   "cell_type": "markdown",
   "metadata": {},
   "source": [
    "For the variable advection case we can see that the ssp104 does not ensures positifity for all stable timesteps. The region with positife timesteps can be enlarged by adapting the b.\n",
    "\n",
    "The dp5 and ck5 methods also do not ensure positifity for the hole stable region. When enforcing the Order Conditions for 4th Order $\\Delta t_{feasible} = \\Delta t_{pos}$. \n",
    "When reducing the Conditions to 3d Order $\\Delta t_{feasible} > \\Delta t_{pos}$. A possible explaination would be that there are not enough degrees of freeedom for the b to find a feasible b. When reducing the Order this increases the degrees of freedom for the the choice of the b. \n",
    "This explaination does stil not explain why the linear advection does not show this behavior."
   ]
  },
  {
   "cell_type": "code",
   "execution_count": null,
   "metadata": {},
   "outputs": [],
   "source": [
    "#dt = 0.09\n",
    "#dt = 0.10799999999999998\n",
    "#dt = dt -0.02\n",
    "#dt = 0.001\n",
    "#N = 500\n",
    "#dt = 0.023625 +0.002\n",
    "dt = 0.028 \n",
    "N =100\n",
    "u0 = initial_advection(N,'cos_cut')\n",
    "t,u,b,KK,status = RK_variable_b(dp5,dt,f_var_coeff_adv,w0=u0,t_final=2,b_fixed=False,fallback = True,num_fallback=1,\n",
    "                      dumpK=True, LP_opts = {'reduce':True,'feastol':1e-10},return_status=True)\n",
    "display(status)"
   ]
  },
  {
   "cell_type": "code",
   "execution_count": null,
   "metadata": {},
   "outputs": [],
   "source": [
    "plot_image(u,t)"
   ]
  },
  {
   "cell_type": "code",
   "execution_count": null,
   "metadata": {},
   "outputs": [],
   "source": [
    "plt.plot(t[1:],b.T[1:,:]);"
   ]
  },
  {
   "cell_type": "code",
   "execution_count": null,
   "metadata": {},
   "outputs": [],
   "source": [
    "plot_at_time(u,1.8)"
   ]
  },
  {
   "cell_type": "code",
   "execution_count": null,
   "metadata": {},
   "outputs": [],
   "source": [
    "plot_animate(u,t,frames=300)"
   ]
  },
  {
   "cell_type": "code",
   "execution_count": null,
   "metadata": {},
   "outputs": [],
   "source": [
    "plt.pcolor(KK[1],cmap=plt.get_cmap('bwr'),vmin=-0.5, vmax=0.5)\n",
    "plt.colorbar()"
   ]
  },
  {
   "cell_type": "code",
   "execution_count": null,
   "metadata": {},
   "outputs": [],
   "source": []
  }
 ],
 "metadata": {
  "kernelspec": {
   "display_name": "Python 3",
   "language": "python",
   "name": "python3"
  },
  "language_info": {
   "codemirror_mode": {
    "name": "ipython",
    "version": 3
   },
   "file_extension": ".py",
   "mimetype": "text/x-python",
   "name": "python",
   "nbconvert_exporter": "python",
   "pygments_lexer": "ipython3",
   "version": "3.7.4"
  }
 },
 "nbformat": 4,
 "nbformat_minor": 2
}
