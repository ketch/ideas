{
 "cells": [
  {
   "cell_type": "markdown",
   "metadata": {},
   "source": [
    "# Notebook to invesitgate why solution gets \"stuck\""
   ]
  },
  {
   "cell_type": "code",
   "execution_count": null,
   "metadata": {},
   "outputs": [],
   "source": [
    "import numpy as np\n",
    "import matplotlib.pyplot as plt\n",
    "from nodepy import rk\n",
    "import cvxpy as cp\n",
    "\n",
    "\n",
    "import numpy.linalg as linalg\n",
    "\n",
    "\n",
    "rk4 = rk.loadRKM('RK44').__num__()\n",
    "rk4x2 = rk4*rk4\n",
    "ssp2 = rk.loadRKM('SSP22').__num__()\n",
    "ssp3 = rk.loadRKM('SSP33').__num__()\n",
    "ssp104 = rk.loadRKM('SSP104').__num__()\n",
    "merson4 = rk.loadRKM('Merson43').__num__()\n",
    "bs5 = rk.loadRKM('BS5').__num__()\n",
    "\n",
    "trbdf = rk.loadRKM('TR-BDF2').__num__()\n",
    "be = rk.loadRKM('BE').__num__()\n",
    "irk2 = rk.loadRKM('LobattoIIIA2').__num__()"
   ]
  },
  {
   "cell_type": "code",
   "execution_count": null,
   "metadata": {},
   "outputs": [],
   "source": [
    "def tau(k,A,c): \n",
    "    #generates tau vector \n",
    "    return 1/ np.math.factorial(k)*c**k - 1/np.math.factorial(k-1) *A @ c**(k-1)\n",
    "    \n",
    "def tau_hat(k,A,c):\n",
    "    return c**k-k*A@(k-1)\n",
    "\n",
    "\n",
    "def OrderCond(A,c,order = 1):\n",
    "    #Generates Order Condition Matrix O and right side vector r for Linear Equation System O@b=r\n",
    "    \n",
    "    s = len(c) #number of stages\n",
    "    \n",
    "    r = []\n",
    "    O_rows = []\n",
    "    \n",
    "    \n",
    "    if A.shape != (s,s):\n",
    "        raise InputError\n",
    "        \n",
    "    else:\n",
    "        if order >= 1:\n",
    "            O_rows.append(np.ones(s));      r.append(1)\n",
    "            \n",
    "        if order >= 2:\n",
    "            O_rows.append(c);               r.append(1/2)\n",
    "            \n",
    "        if order >= 3:\n",
    "            O_rows.append(c**2);            r.append(1/3)\n",
    "            O_rows.append(tau(2,A,c));      r.append(0.)\n",
    "            \n",
    "        if order >= 4:\n",
    "            O_rows.append(c**3);            r.append(1/4)\n",
    "            O_rows.append(tau(2,A,c)*c);    r.append(0.)\n",
    "            O_rows.append(tau(2,A,c)@A.T);  r.append(0.)\n",
    "            O_rows.append(tau(3,A,c));      r.append(0.)\n",
    "        \n",
    "        if order >= 5:\n",
    "            print('too high order')\n",
    "            raise NotImplementedError\n",
    "        \n",
    "        O = np.vstack(O_rows)\n",
    "        return (O,np.array(r))\n",
    "            \n",
    "                \n",
    "    "
   ]
  },
  {
   "cell_type": "code",
   "execution_count": null,
   "metadata": {},
   "outputs": [],
   "source": [
    "def RK_variable_b(rkm, dt, f, w0=[1.,0], t_final=1.,b_fixed = False):\n",
    "    \"\"\"    \n",
    "    Options:\n",
    "    \n",
    "        rkm: Base Runge-Kutta method, in Nodepy format\n",
    "        dt: time step size\n",
    "        f: RHS of ODE system\n",
    "        w0: Initial data\n",
    "        t_final: final solution time        \n",
    "    \"\"\"\n",
    "    \n",
    "    #setup Variables for Soulution storage\n",
    "    p = len(w0) #number of dimentions\n",
    "    \n",
    "    uu = np.zeros([p,int(t_final/dt)+100])\n",
    "    uu[:,0] = w0.copy()\n",
    "    tt = np.zeros([int(t_final/dt)+100])\n",
    "    \n",
    "    \n",
    "    #Setup Runge Kutta \n",
    "    c = rkm.c\n",
    "    A = rkm.A #has to be lower left triangle\n",
    "    s = len(c) #number of Stages\n",
    "    K = np.zeros([p,s])\n",
    "    \n",
    "    u = np.array(w0)\n",
    "    t = 0.\n",
    "    n = 0\n",
    "    \n",
    "    \n",
    "    #Setup Optimisation Problem\n",
    "    O, rhs = OrderCond(rkm.A,rkm.c,order = rkm.p)\n",
    "    b_op =cp.Variable(s)\n",
    "    e = np.ones(s) #vector for gola Fnction, just generates the 1-Norm of b\n",
    "    \n",
    "    #Maybee set up Problem here and treat H as an Paramter\n",
    "        \n",
    "    #for debugging b's    \n",
    "    bb = np.zeros([s,int(t_final/dt)+2])\n",
    "        \n",
    "    #print('set up starting to solve')\n",
    "    \n",
    "    #Solve ODE\n",
    "    while t<t_final:\n",
    "        for i in range(s):\n",
    "            #compute Stages\n",
    "            \n",
    "                \n",
    "            #K[:,i] = f(t+c[i]*dt,u+dt*K@A[i,:]) \n",
    "            #the 0s in A should make shure that no data from an older Step is used\n",
    "            \n",
    "            #Maybe better Approach, because A[i,j] = 0 in many places\n",
    "            u_prime = u.copy()\n",
    "            for m in range(i):\n",
    "                u_prime += dt*A[i,m]*K[:,m]\n",
    "            \n",
    "            K[:,i] = f(t+c[i]*dt,u_prime)\n",
    "            \n",
    "            #print('intermediatestep computed')\n",
    "        \n",
    "        if b_fixed == False:\n",
    "            #Run Optimisation Problem\n",
    "        \n",
    "            prob = cp.Problem(cp.Minimize(e@b_op),[O@b_op==rhs,u+dt*K@b_op>=0])  \n",
    "            prob.solve()\n",
    "            if prob.status != cp.OPTIMAL:\n",
    "                print(prob.status)\n",
    "            \n",
    "            b = b_op.value\n",
    "        else:\n",
    "            b =rkm.b\n",
    "        #update\n",
    "        u += dt*K@b\n",
    "        n += 1\n",
    "        t += dt\n",
    "        \n",
    "        uu[:,n] = u.copy()\n",
    "        bb[:,n] = b.copy()\n",
    "        tt[n] = t\n",
    "        #print('updated')\n",
    "\n",
    "        \n",
    "    return (tt[0:n],uu[:,0:n],bb[:,0:n])\n",
    "        \n",
    "        \n",
    "    "
   ]
  },
  {
   "cell_type": "code",
   "execution_count": null,
   "metadata": {},
   "outputs": [],
   "source": [
    "#Testproblem from Kopecz and Meister 2018\n",
    "\n",
    "def f_lin_I(t,u):\n",
    "    a = 5 # a>0\n",
    "    A = np.array([[-a,1],[a,-1]])\n",
    "    return A@u\n",
    "\n",
    "u0 =np.array([0.9,0.1])\n",
    "\n",
    "t,u,b = RK_variable_b(ssp104,2,f_lin_I,w0=u0,t_final=100,b_fixed=False)\n",
    "\n",
    "\n"
   ]
  },
  {
   "cell_type": "code",
   "execution_count": null,
   "metadata": {},
   "outputs": [],
   "source": [
    "plt.plot(t,u[0,:])\n",
    "plt.plot(t,u[1,:])"
   ]
  },
  {
   "cell_type": "code",
   "execution_count": null,
   "metadata": {},
   "outputs": [],
   "source": [
    "plt.plot(t,b.T)"
   ]
  },
  {
   "cell_type": "markdown",
   "metadata": {},
   "source": [
    "## Problem statement\n",
    "\n",
    "$ \\Delta t(b_1 k_1 + \\cdots + b_s k_s  ) = 0 $ for all steps\n",
    "Obviously this is not correct\n",
    "\n",
    "Why?\n",
    "Which influence does objective Function have?\n",
    "How can it be solved?\n"
   ]
  },
  {
   "cell_type": "markdown",
   "metadata": {},
   "source": [
    "At first we make shure there is no error in the code and $b$ comlies with order conditions"
   ]
  },
  {
   "cell_type": "code",
   "execution_count": null,
   "metadata": {},
   "outputs": [],
   "source": [
    "#setup Order conditions\n",
    "rkm = ssp104\n",
    "O, rhs = OrderCond(rkm.A,rkm.c,order = rkm.p)\n",
    "\n",
    "#pick b from debug data\n",
    "bb = b[:,8]\n",
    "\n",
    "#test\n",
    "err = O@bb -rhs\n",
    "\n",
    "err"
   ]
  },
  {
   "cell_type": "code",
   "execution_count": null,
   "metadata": {},
   "outputs": [],
   "source": [
    "u =np.array(u0)"
   ]
  },
  {
   "cell_type": "markdown",
   "metadata": {},
   "source": [
    "## Extract optimisation Problem"
   ]
  },
  {
   "cell_type": "code",
   "execution_count": null,
   "metadata": {},
   "outputs": [],
   "source": [
    "#computing the stages of a single Runge Kutta step\n",
    "\n",
    "f = f_lin_I\n",
    "\n",
    "dt =2\n",
    "p = len(u0)\n",
    "\n",
    "#Setup Runge Kutta \n",
    "c = rkm.c\n",
    "A = rkm.A #has to be lower left triangle\n",
    "s = len(c) #number of Stages\n",
    "K = np.zeros([p,s])\n",
    "    \n",
    "#u = np.array(u0)\n",
    "t = 0.\n",
    "n = 0\n",
    "    \n",
    "    \n",
    "#Setup Optimisation Problem\n",
    "O, rhs = OrderCond(rkm.A,rkm.c,order = rkm.p)\n",
    "b_op =cp.Variable(s)\n",
    "e = np.ones(s) #vector for gola Fnction, just generates the 1-Norm of b\n",
    "\n",
    "\n",
    "\n",
    "\n",
    "for i in range(s):\n",
    "\n",
    "    u_prime = u.copy()\n",
    "    for m in range(i):\n",
    "        u_prime += dt*A[i,m]*K[:,m]  \n",
    "    K[:,i] = f(t+c[i]*dt,u_prime)\n",
    "      \n",
    "\n",
    "#Running optimisaion Problem\n",
    "            \n",
    "prob = cp.Problem(cp.Minimize(e@b_op),[O@b_op==rhs,u+dt*K@b_op>=0])  \n",
    "prob.solve()\n",
    "if prob.status != cp.OPTIMAL:\n",
    "    print(prob.status)\n",
    "            \n",
    "b = b_op.value\n",
    "        \n",
    "#update\n",
    "u += dt*K@b\n",
    "    \n",
    "print(dt*K@b)"
   ]
  },
  {
   "cell_type": "code",
   "execution_count": null,
   "metadata": {},
   "outputs": [],
   "source": [
    "print(u)"
   ]
  },
  {
   "cell_type": "code",
   "execution_count": null,
   "metadata": {},
   "outputs": [],
   "source": [
    "print(b)"
   ]
  },
  {
   "cell_type": "code",
   "execution_count": null,
   "metadata": {},
   "outputs": [],
   "source": [
    "print(O@b -rhs)"
   ]
  },
  {
   "cell_type": "code",
   "execution_count": null,
   "metadata": {},
   "outputs": [],
   "source": [
    "print(O@rkm.b -rhs)"
   ]
  },
  {
   "cell_type": "code",
   "execution_count": null,
   "metadata": {},
   "outputs": [],
   "source": []
  }
 ],
 "metadata": {
  "kernelspec": {
   "display_name": "Python 3",
   "language": "python",
   "name": "python3"
  },
  "language_info": {
   "codemirror_mode": {
    "name": "ipython",
    "version": 3
   },
   "file_extension": ".py",
   "mimetype": "text/x-python",
   "name": "python",
   "nbconvert_exporter": "python",
   "pygments_lexer": "ipython3",
   "version": "3.7.4"
  }
 },
 "nbformat": 4,
 "nbformat_minor": 2
}
