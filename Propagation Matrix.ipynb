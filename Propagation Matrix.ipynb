{
 "cells": [
  {
   "cell_type": "markdown",
   "metadata": {},
   "source": [
    "# Numerical Experiments with the Propagation Matrix"
   ]
  },
  {
   "cell_type": "markdown",
   "metadata": {},
   "source": [
    "The agoal of this notebook is to further investigate the behaiour of the Propagation matrix. As right had side the Advection equation was used.\n",
    "The first Idea was to consider the Propagation Matrix as a linear combination of the propagation matrices of the seperate steps. Then it would it was tried to investigate if it is possible to create a linear combination of these for which a given vector with  $u_i = 1$ for $i=n$ and $u_i = 0$ elswere  would lead to a positive u. This is equivalent to the collum n having only entries $\\geq$ 0. \n",
    "\n",
    "This is not possible for the advection with periodic boundaries. If there is a feasible b for one special n then the same b would also be feasible for any other n. This cannot be true because this would enshure the general positifity.\n",
    "\n",
    "If the advection doesn't have periodic boundaries it maybe is possible, but gets increaasingly more difficult when the n gets smaler."
   ]
  },
  {
   "cell_type": "code",
   "execution_count": null,
   "metadata": {},
   "outputs": [],
   "source": [
    "import numpy as np\n",
    "import matplotlib.pyplot as plt\n",
    "from nodepy import rk\n",
    "import cvxpy as cp\n",
    "\n",
    "\n",
    "import numpy.linalg as linalg\n",
    "\n",
    "\n",
    "#Diagonally Implicit methods:\n",
    "BE = rk.loadRKM('BE').__num__()\n",
    "SDIRK23 = rk.loadRKM('SDIRK23').__num__()\n",
    "SDIRK34 = rk.loadRKM('SDIRK34').__num__()\n",
    "SDIRK54 = rk.loadRKM('SDIRK54').__num__()\n",
    "TR_BDF2 = rk.loadRKM('TR-BDF2').__num__()\n",
    "\n",
    "\n",
    "be = rk.loadRKM('BE').__num__()\n",
    "\n",
    "fe =rk.loadRKM('FE').__num__()\n",
    "rk4 = rk.loadRKM('RK44').__num__()\n",
    "rk4x2 = rk4*rk4\n",
    "ssp2 = rk.loadRKM('SSP22').__num__()\n",
    "ssp3 = rk.loadRKM('SSP33').__num__()\n",
    "ssp104 = rk.loadRKM('SSP104').__num__()\n",
    "merson4 = rk.loadRKM('Merson43').__num__()\n",
    "bs5 = rk.loadRKM('BS5').__num__()\n",
    "\n",
    "ck5 = rk.loadRKM('CK5').__num__()\n",
    "dp5 = rk.loadRKM('DP5').__num__()\n",
    "pd8 = rk.loadRKM('PD8').__num__()\n",
    "\n",
    "trbdf = rk.loadRKM('TR-BDF2').__num__()\n",
    "be = rk.loadRKM('BE').__num__()\n",
    "irk2 = rk.loadRKM('LobattoIIIA2').__num__()\n",
    "\n",
    "\n",
    "\n",
    "#Extrapolation method\n",
    "ex2 = rk.extrap(2,'implicit euler').__num__()\n",
    "ex3 = rk.extrap(3,'implicit euler').__num__()\n",
    "ex4 = rk.extrap(4,'implicit euler').__num__()\n",
    "ex5 = rk.extrap(5,'implicit euler').__num__()\n",
    "ex6 = rk.extrap(6,'implicit euler').__num__()\n",
    "ex8 = rk.extrap(8,'implicit euler').__num__()"
   ]
  },
  {
   "cell_type": "code",
   "execution_count": null,
   "metadata": {},
   "outputs": [],
   "source": [
    "def generate_G(rkm,L,dt):\n",
    "    b_orig = rkm.b\n",
    "    s = len(rkm.b)\n",
    "    G= ['?'] * s\n",
    "    for i in range(s):\n",
    "        b = np.zeros_like(b_orig)\n",
    "        b[i] =1\n",
    "        rkm.b = b\n",
    "        (G_,X) = rkm.propagation_matrix(L,dt)\n",
    "        G[i] = G_\n",
    "    return G\n",
    "    \n",
    "    "
   ]
  },
  {
   "cell_type": "code",
   "execution_count": null,
   "metadata": {},
   "outputs": [],
   "source": [
    "N = 50\n",
    "A= (-np.diag(np.ones(N))+np.diag(np.ones(N-1),1))\n",
    "G = generate_G(ex3,A,3)\n",
    "(G_,X) = ex3.propagation_matrix(A,3)\n",
    "plt.pcolor(G_)\n",
    "plt.colorbar()"
   ]
  },
  {
   "cell_type": "code",
   "execution_count": null,
   "metadata": {},
   "outputs": [],
   "source": [
    "plt.pcolor(G[0])\n",
    "plt.colorbar()"
   ]
  },
  {
   "cell_type": "code",
   "execution_count": null,
   "metadata": {},
   "outputs": [],
   "source": [
    "plt.pcolor(G[1])\n",
    "plt.colorbar()"
   ]
  },
  {
   "cell_type": "code",
   "execution_count": null,
   "metadata": {},
   "outputs": [],
   "source": [
    "plt.pcolor(G[2])\n",
    "plt.colorbar()"
   ]
  },
  {
   "cell_type": "code",
   "execution_count": null,
   "metadata": {},
   "outputs": [],
   "source": [
    "plt.pcolor(G[3])\n",
    "plt.colorbar()"
   ]
  },
  {
   "cell_type": "code",
   "execution_count": null,
   "metadata": {},
   "outputs": [],
   "source": [
    "plt.pcolor(G[4])\n",
    "plt.colorbar()"
   ]
  },
  {
   "cell_type": "code",
   "execution_count": null,
   "metadata": {},
   "outputs": [],
   "source": [
    "plt.pcolor(G[5])\n",
    "plt.colorbar()"
   ]
  },
  {
   "cell_type": "markdown",
   "metadata": {},
   "source": [
    "Investigating if negative values apear due to the cropping of the matrix exponential or if the neagtive valeus are caused by erors in the discretisation. "
   ]
  },
  {
   "cell_type": "markdown",
   "metadata": {},
   "source": [
    "The solution for the ODE $u' = Lu$ is $u(t) = exp(Mt) u_0$\n",
    "\n",
    "Yhis cann be expressed with the Matrix exponential\n",
    "\n",
    "$$exp(Mt) = \\sum_{k=0}^{\\infty} \\frac{1}{k!}(Mt)^k=\\sum_{k=0}^{\\infty} \\frac{1}{k!}M^kt^k$$\n",
    "\n",
    "Now we want to investigate why there are negative values appearing in the numeric approximation $u^n$. \n",
    "At first we want to test weather negative values appear in a cropped version of the matrix exponential"
   ]
  },
  {
   "cell_type": "code",
   "execution_count": null,
   "metadata": {},
   "outputs": [],
   "source": [
    "#set time to 1\n",
    "t = 0.1"
   ]
  },
  {
   "cell_type": "code",
   "execution_count": null,
   "metadata": {},
   "outputs": [],
   "source": [
    "def matrexp(A,power,t):\n",
    "    exp_trunc = np.zeros_like(A)\n",
    "    for k in range(power+1):\n",
    "        exp_trunc += 1/np.math.factorial(k)*t**k*np.linalg.matrix_power(A,k)\n",
    "    return exp_trunc\n"
   ]
  },
  {
   "cell_type": "code",
   "execution_count": null,
   "metadata": {},
   "outputs": [],
   "source": [
    "print(matrexp(A,0,t))"
   ]
  },
  {
   "cell_type": "code",
   "execution_count": null,
   "metadata": {},
   "outputs": [],
   "source": [
    "print(matrexp(A,1,t))"
   ]
  },
  {
   "cell_type": "code",
   "execution_count": null,
   "metadata": {},
   "outputs": [],
   "source": [
    "print(matrexp(A,2,t))"
   ]
  },
  {
   "cell_type": "code",
   "execution_count": null,
   "metadata": {},
   "outputs": [],
   "source": [
    "print(matrexp(A,3,t))"
   ]
  },
  {
   "cell_type": "code",
   "execution_count": null,
   "metadata": {},
   "outputs": [],
   "source": [
    "print(matrexp(A,4,t))"
   ]
  },
  {
   "cell_type": "code",
   "execution_count": null,
   "metadata": {},
   "outputs": [],
   "source": [
    "from ipywidgets import interact, IntSlider, FloatSlider\n",
    "\n",
    "\n",
    "\n",
    "\n",
    "def plot_power(power=0):\n",
    "    plt.pcolor(np.linalg.matrix_power(A,power),cmap=plt.get_cmap('bwr'),vmin=-4, vmax=4)\n",
    "    plt.colorbar()\n",
    "    "
   ]
  },
  {
   "cell_type": "code",
   "execution_count": null,
   "metadata": {},
   "outputs": [],
   "source": [
    "interact(plot_power,power=IntSlider(min=0,max=20,value=1));"
   ]
  },
  {
   "cell_type": "code",
   "execution_count": null,
   "metadata": {},
   "outputs": [],
   "source": [
    "def plot_exp_trunc(power=0,t=t):\n",
    "    exp_trunc = matrexp(A,power,t)\n",
    "    \n",
    "    plt.pcolor(exp_trunc,cmap=plt.get_cmap('bwr'),vmin=-4, vmax=4)\n",
    "    plt.colorbar()\n",
    "    \n",
    "interact(plot_exp_trunc,\n",
    "         power=IntSlider(min=1,max=20,value=1),\n",
    "         t=FloatSlider(min=0.,max=2.,step=0.01,value=0.));"
   ]
  },
  {
   "cell_type": "markdown",
   "metadata": {},
   "source": [
    "## See how the cone of influence in the stagevalues look like for a simple upwinding"
   ]
  },
  {
   "cell_type": "code",
   "execution_count": null,
   "metadata": {},
   "outputs": [],
   "source": [
    "def f(u):\n",
    "    du = np.zeros_like(u)\n",
    "    du[1:] = (u[1:]-u[:-1])\n",
    "    du[0] = u[0]-u[-1]\n",
    "    return -du*len(u)\n",
    "\n",
    "u = np.zeros(20)\n",
    "u[5] = 1\n",
    "\n",
    "dt = 0.001\n",
    "\n",
    "rkm = dp5\n",
    "s = len(rkm)\n",
    "p = len(u)\n",
    "A = rkm.A\n",
    "K = np.zeros([p,s])\n",
    "\n",
    "#calculate a single step\n",
    "for i in range(s):        #compute Stages\n",
    "\n",
    "    u_prime = u.copy()\n",
    "    for m in range(i):\n",
    "        u_prime += dt*A[i,m]*K[:,m]\n",
    "            \n",
    "        K[:,i] = f(u_prime)\n",
    "            \n",
    "\n",
    "            "
   ]
  },
  {
   "cell_type": "code",
   "execution_count": null,
   "metadata": {},
   "outputs": [],
   "source": [
    "V = np.sign(K)\n",
    "plt.pcolor(V,cmap=plt.get_cmap('bwr'),vmin=-0.5, vmax=0.5)\n",
    "plt.colorbar()"
   ]
  },
  {
   "cell_type": "code",
   "execution_count": null,
   "metadata": {},
   "outputs": [],
   "source": [
    "plt.spy(K)"
   ]
  },
  {
   "cell_type": "code",
   "execution_count": null,
   "metadata": {},
   "outputs": [],
   "source": [
    "print(rkm)"
   ]
  },
  {
   "cell_type": "code",
   "execution_count": null,
   "metadata": {},
   "outputs": [],
   "source": []
  }
 ],
 "metadata": {
  "kernelspec": {
   "display_name": "Python 3",
   "language": "python",
   "name": "python3"
  },
  "language_info": {
   "codemirror_mode": {
    "name": "ipython",
    "version": 3
   },
   "file_extension": ".py",
   "mimetype": "text/x-python",
   "name": "python",
   "nbconvert_exporter": "python",
   "pygments_lexer": "ipython3",
   "version": "3.7.4"
  }
 },
 "nbformat": 4,
 "nbformat_minor": 2
}
