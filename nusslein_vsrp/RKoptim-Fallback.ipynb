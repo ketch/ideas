{
 "cells": [
  {
   "cell_type": "markdown",
   "metadata": {},
   "source": [
    "# Runke Kutta with Linear Programming - Fallback approach"
   ]
  },
  {
   "cell_type": "markdown",
   "metadata": {},
   "source": [
    "The main idea in this notebook is to integrate an ode with an Runge Kutta method. If an runge Kutta step does't lead to an positive result the b is changed in a way that the it enshures positifity. The method with the new b has one order less than the original method\n",
    "\n",
    "This needs a RK with embeded methods"
   ]
  },
  {
   "cell_type": "code",
   "execution_count": null,
   "metadata": {},
   "outputs": [],
   "source": [
    "import numpy as np\n",
    "import matplotlib.pyplot as plt\n",
    "from nodepy import rk\n",
    "import cvxpy as cp\n",
    "\n",
    "\n",
    "import numpy.linalg as linalg\n",
    "\n",
    "\n",
    "rk4 = rk.loadRKM('RK44').__num__()\n",
    "rk4x2 = rk4*rk4\n",
    "ssp2 = rk.loadRKM('SSP22').__num__()\n",
    "ssp3 = rk.loadRKM('SSP33').__num__()\n",
    "ssp104 = rk.loadRKM('SSP104').__num__()\n",
    "merson4 = rk.loadRKM('Merson43').__num__()\n",
    "bs5 = rk.loadRKM('BS5').__num__()\n",
    "\n",
    "trbdf = rk.loadRKM('TR-BDF2').__num__()\n",
    "be = rk.loadRKM('BE').__num__()\n",
    "irk2 = rk.loadRKM('LobattoIIIA2').__num__()\n",
    "\n",
    "\n",
    "ck5 =rk.loadRKM('CK5').__num__()\n",
    "dp5 =rk.loadRKM('DP5').__num__()\n"
   ]
  },
  {
   "cell_type": "code",
   "execution_count": null,
   "metadata": {},
   "outputs": [],
   "source": [
    "def tau(k,A,c): \n",
    "    #generates tau vector \n",
    "    return 1/ np.math.factorial(k)*c**k - 1/np.math.factorial(k-1) *A @ c**(k-1)\n",
    "    \n",
    "def tau_hat(k,A,c):\n",
    "    return c**k-k*A@(k-1)\n",
    "\n",
    "\n",
    "def OrderCond(A,c,order = 1):\n",
    "    #Generates Order Condition Matrix O and right side vector r for Linear Equation System O@b=r\n",
    "    \n",
    "    s = len(c) #number of stages\n",
    "    \n",
    "    r = []\n",
    "    O_rows = []\n",
    "    \n",
    "    \n",
    "    if A.shape != (s,s):\n",
    "        raise InputError\n",
    "        \n",
    "    else:\n",
    "        if order >= 1:\n",
    "            O_rows.append(np.ones(s));      r.append(1)\n",
    "            \n",
    "        if order >= 2:\n",
    "            O_rows.append(c);               r.append(1/2)\n",
    "            \n",
    "        if order >= 3:\n",
    "            O_rows.append(c**2);            r.append(1/3)\n",
    "            O_rows.append(tau(2,A,c));      r.append(0.)\n",
    "            \n",
    "        if order >= 4:\n",
    "            O_rows.append(c**3);            r.append(1/4)\n",
    "            O_rows.append(tau(2,A,c)*c);    r.append(0.)\n",
    "            O_rows.append(tau(2,A,c)@A.T);  r.append(0.)\n",
    "            O_rows.append(tau(3,A,c));      r.append(0.)\n",
    "        \n",
    "        if order >= 5:\n",
    "            O_rows.append(c**4);                     r.append(1/5)\n",
    "            O_rows.append(A@np.diag(c)@tau(2,A,c));  r.append(0.)\n",
    "            O_rows.append(A@A@tau(2,A,c));           r.append(0.)\n",
    "            O_rows.append(A@tau(3,A,c));             r.append(0.)\n",
    "            O_rows.append(tau(4,A,c));               r.append(0.)\n",
    "            O_rows.append(np.diag(c)@A@tau(2,A,c));  r.append(0.)\n",
    "            O_rows.append(np.diag(c)@tau(3,A,c));    r.append(0.)\n",
    "            O_rows.append(np.diag(c**2)@tau(2,A,c)); r.append(0.)\n",
    "            O_rows.append(tau(2,A,c)**2);            r.append(0.)\n",
    "        if order >= 6:\n",
    "            print('too high order')\n",
    "            raise NotImplementedError\n",
    "        \n",
    "        O = np.vstack(O_rows)\n",
    "        return (O,np.array(r))\n",
    "            \n",
    "                \n"
   ]
  },
  {
   "cell_type": "code",
   "execution_count": null,
   "metadata": {},
   "outputs": [],
   "source": [
    "ck5.p"
   ]
  },
  {
   "cell_type": "code",
   "execution_count": null,
   "metadata": {},
   "outputs": [],
   "source": [
    "#Test Function\n",
    "rkm = ck5\n",
    "O, rhs = OrderCond(rkm.A,rkm.c,order = rkm.p)\n",
    "\n",
    "print(O@rkm.b-rhs)\n",
    "\n",
    "print ('Size of O:')\n",
    "print (O.shape)\n",
    "\n",
    "print('Rank')\n",
    "print(linalg.matrix_rank(O))\n"
   ]
  },
  {
   "cell_type": "code",
   "execution_count": null,
   "metadata": {},
   "outputs": [],
   "source": [
    "O, rhs = OrderCond(rkm.A,rkm.c,order = rkm.p-1)\n",
    "print ('Size of O:')\n",
    "print (O.shape)\n",
    "\n",
    "print('Rank')\n",
    "print(linalg.matrix_rank(O))"
   ]
  },
  {
   "cell_type": "code",
   "execution_count": null,
   "metadata": {},
   "outputs": [],
   "source": [
    "def RK_variable_b(rkm, dt, f, w0=[1.,0], t_final=1.,b_fixed = False,solver = cp.ECOS):\n",
    "    \"\"\"    \n",
    "    Options:\n",
    "    \n",
    "        rkm: Base Runge-Kutta method, in Nodepy format\n",
    "        dt: time step size\n",
    "        f: RHS of ODE system\n",
    "        w0: Initial data\n",
    "        t_final: final solution time        \n",
    "    \"\"\"\n",
    "    \n",
    "    #setup Variables for Soulution storage\n",
    "    p = len(w0) #number of dimentions\n",
    "    \n",
    "    uu = np.zeros([p,int(t_final/dt)+100])\n",
    "    uu[:,0] = w0.copy()\n",
    "    tt = np.zeros([int(t_final/dt)+100])\n",
    "    \n",
    "    \n",
    "    #Setup Runge Kutta \n",
    "    c = rkm.c\n",
    "    A = rkm.A #has to be lower left triangle\n",
    "    s = len(c) #number of Stages\n",
    "    K = np.zeros([p,s])\n",
    "    \n",
    "    u = np.array(w0)\n",
    "    t = 0.\n",
    "    n = 0\n",
    "    \n",
    "    \n",
    "    #Setup Optimisation Problem\n",
    "    O, rhs = OrderCond(rkm.A,rkm.c,order = rkm.p-1)\n",
    "    ap_op =cp.Variable(s)\n",
    "    an_op =cp.Variable(s)\n",
    "    e = np.ones(s) #vector for gola Fnction, just generates the 1-Norm of b\n",
    "    \n",
    "    \n",
    "          #Maybee set up Problem here and treat H as an Paramter\n",
    "        \n",
    "    #for debugging b's    \n",
    "    bb = np.zeros([s,int(t_final/dt)+2])\n",
    "        \n",
    "    #print('set up starting to solve')\n",
    "    \n",
    "    #Solve ODE\n",
    "    while t<t_final:\n",
    "        for i in range(s):\n",
    "            #compute Stages\n",
    "            \n",
    "                \n",
    "            #K[:,i] = f(t+c[i]*dt,u+dt*K@A[i,:]) \n",
    "            #the 0s in A should make shure that no data from an older Step is used\n",
    "            \n",
    "            #Maybe better Approach, because A[i,j] = 0 in many places\n",
    "            u_prime = u.copy()\n",
    "            for m in range(i):\n",
    "                u_prime += dt*A[i,m]*K[:,m]\n",
    "            \n",
    "            K[:,i] = f(t+c[i]*dt,u_prime)\n",
    "            \n",
    "            #print('intermediatestep computed')\n",
    "        \n",
    "        if b_fixed == False:\n",
    "            #test if positifity is correct\n",
    "            if (u+dt*K@rkm.b >= 0).all():\n",
    "                b =rkm.b\n",
    "            \n",
    "            else:\n",
    "            #Run Optimisation Problem\n",
    "        \n",
    "                prob = cp.Problem(cp.Minimize(e@ap_op+e@an_op),\n",
    "                              [O@(ap_op-an_op+rkm.b)==rhs,u+dt*K@(ap_op-an_op+rkm.b)>=0,ap_op>=0,an_op>=0])  \n",
    "                prob.solve(solver=solver)\n",
    "                if prob.status != cp.OPTIMAL:\n",
    "                    print(prob.status)\n",
    "            \n",
    "                b = ap_op.value - an_op.value + rkm.b\n",
    "                print('b changed')\n",
    "        else:\n",
    "            b =rkm.b\n",
    "        #update\n",
    "        u += dt*K@b\n",
    "        n += 1\n",
    "        t += dt\n",
    "        \n",
    "        uu[:,n] = u.copy()\n",
    "        bb[:,n] = b.copy()\n",
    "        tt[n] = t\n",
    "        #print('updated')\n",
    "\n",
    "        \n",
    "    return (tt[0:n],uu[:,0:n],bb[:,0:n])\n",
    "        \n",
    "        \n",
    "    \n",
    "\n"
   ]
  },
  {
   "cell_type": "code",
   "execution_count": null,
   "metadata": {},
   "outputs": [],
   "source": [
    "ck5.plot_stability_region()"
   ]
  },
  {
   "cell_type": "markdown",
   "metadata": {},
   "source": [
    "# Testproblems\n",
    "\n"
   ]
  },
  {
   "cell_type": "markdown",
   "metadata": {},
   "source": [
    "## Testproblem Time integrator"
   ]
  },
  {
   "cell_type": "code",
   "execution_count": null,
   "metadata": {},
   "outputs": [],
   "source": [
    "def f_sin(t,u):\n",
    "    return -np.sin(t)\n",
    "\n",
    "def f_cos(t,u):\n",
    "    return np.cos(t)\n",
    "\n",
    "def f_const(t,u):\n",
    "    return 1\n",
    "\n",
    "u0 =np.array([2.0])\n",
    "\n",
    "t,u,b = RK_variable_b(ck5,0.4,f_sin,w0=u0,t_final=100,b_fixed=False)\n"
   ]
  },
  {
   "cell_type": "code",
   "execution_count": null,
   "metadata": {},
   "outputs": [],
   "source": [
    "plt.plot(t,u[0,:])"
   ]
  },
  {
   "cell_type": "code",
   "execution_count": null,
   "metadata": {},
   "outputs": [],
   "source": [
    "plt.plot(t[1:],b.T[1:,:])"
   ]
  },
  {
   "cell_type": "markdown",
   "metadata": {},
   "source": [
    "## Testproblem Harmonic Oscilator"
   ]
  },
  {
   "cell_type": "code",
   "execution_count": null,
   "metadata": {},
   "outputs": [],
   "source": [
    "def f_A(t,u):\n",
    "    A = np.array([[0,-1],[1,0]])\n",
    "    c = np.array([1,1])\n",
    "    #print(u)\n",
    "    return A@(u-c)\n",
    "\n",
    "u0 =np.array([1.,0.])\n",
    "\n",
    "t,u,b = RK_variable_b(ck5,0.2,f_A,w0=u0,t_final=200,b_fixed=False)\n",
    "\n"
   ]
  },
  {
   "cell_type": "code",
   "execution_count": null,
   "metadata": {},
   "outputs": [],
   "source": [
    "plt.plot(t,u[0,:])\n",
    "plt.plot(t,u[1,:])"
   ]
  },
  {
   "cell_type": "code",
   "execution_count": null,
   "metadata": {},
   "outputs": [],
   "source": [
    "plt.plot(t[1:],b.T[1:,:])"
   ]
  },
  {
   "cell_type": "markdown",
   "metadata": {},
   "source": [
    "## Testproblem from Kopecz and Meister 2018"
   ]
  },
  {
   "cell_type": "code",
   "execution_count": null,
   "metadata": {},
   "outputs": [],
   "source": [
    "def f_lin_I(t,u):\n",
    "    a = 5 # a>0\n",
    "    A = np.array([[-a,1],[a,-1]])\n",
    "    return A@u\n",
    "\n",
    "u0 =np.array([0.9,0.1])\n",
    "\n",
    "t,u,b = RK_variable_b(ck5,0.6,f_lin_I,w0=u0,t_final=100,b_fixed=False)\n",
    "\n"
   ]
  },
  {
   "cell_type": "code",
   "execution_count": null,
   "metadata": {},
   "outputs": [],
   "source": [
    "plt.plot(t,u[0,:])\n",
    "plt.plot(t,u[1,:])"
   ]
  },
  {
   "cell_type": "code",
   "execution_count": null,
   "metadata": {},
   "outputs": [],
   "source": [
    "plt.plot(t[1:],b.T[1:,:])"
   ]
  },
  {
   "cell_type": "code",
   "execution_count": null,
   "metadata": {},
   "outputs": [],
   "source": [
    "#Nonlinear test problem\n",
    "def f_nonlin(t,u):\n",
    "    a = 0.3\n",
    "    du = np.zeros(3)\n",
    "    du[0] = -(u[0]*u[1])/(u[0]+1)\n",
    "    du[1] = (u[0]*u[1])/(u[0]+1) -a*u[1]\n",
    "    du[2] = a*u[1]\n",
    "    return du\n",
    "\n",
    "u0 = np.array([9.98,0.01,0.01])\n",
    "\n",
    "t,u,b = RK_variable_b(ck5,2,f_nonlin,w0=u0,t_final=30,b_fixed=False)\n",
    "\n"
   ]
  },
  {
   "cell_type": "code",
   "execution_count": null,
   "metadata": {},
   "outputs": [],
   "source": [
    "plt.plot(t,u[0,:])\n",
    "plt.plot(t,u[1,:])\n",
    "plt.plot(t,u[2,:])\n",
    "\n",
    "plt.grid()"
   ]
  },
  {
   "cell_type": "code",
   "execution_count": null,
   "metadata": {},
   "outputs": [],
   "source": [
    "plt.plot(t[1:],b.T[1:,:])"
   ]
  },
  {
   "cell_type": "code",
   "execution_count": null,
   "metadata": {},
   "outputs": [],
   "source": [
    "# Brusselator test problem\n",
    "def f_brusselator(t,u):\n",
    "    k1 =1\n",
    "    k2 =1\n",
    "    k3 =1\n",
    "    k4 =1\n",
    "    k5 =1\n",
    "    k6 =1\n",
    "    du = np.zeros(6)\n",
    "    du[0] = -k1*u[0]\n",
    "    du[1] = -k2*u[1]*u[4]\n",
    "    du[2] = k3*u[1]*u[4]\n",
    "    du[3] = k4*u[4]\n",
    "    du[4] = k1*u[0] - k2*u[1]*u[4] + k3*u[4]**2*u[5] - k4*u[4]\n",
    "    du[5] = k2*u[1]*u[4] - k3*u[4]**2*u[5]\n",
    "    return du\n",
    "\n",
    "u0 = np.array([10.,10.,0.,0.,0.1,0.1])\n",
    "\n",
    "\n",
    "t,u,b = RK_variable_b(ck5,0.3,f_brusselator,w0=u0,t_final=6,b_fixed=False)"
   ]
  },
  {
   "cell_type": "code",
   "execution_count": null,
   "metadata": {},
   "outputs": [],
   "source": [
    "plt.plot(t,u[0,:])\n",
    "plt.plot(t,u[1,:])\n",
    "plt.plot(t,u[2,:])\n",
    "plt.plot(t,u[3,:])\n",
    "plt.plot(t,u[4,:])\n",
    "plt.plot(t,u[5,:])"
   ]
  },
  {
   "cell_type": "code",
   "execution_count": null,
   "metadata": {},
   "outputs": [],
   "source": [
    "plt.plot(t,b.T)"
   ]
  },
  {
   "cell_type": "code",
   "execution_count": null,
   "metadata": {},
   "outputs": [],
   "source": [
    "#Robertson test problem, stiff\n",
    "def f_robertson(t,u):\n",
    "    a = 0.3\n",
    "    du = np.zeros(3)\n",
    "    du[0] = 1e4 *u[1]*u[2] - 0.04*u[0]\n",
    "    du[1] = 0.04 *u[0] - 1e4*u[1]*u[2] - 3e7*u[1]**2\n",
    "    du[2] = 3e7*u[1]**2\n",
    "    return du\n",
    "\n",
    "u0 = np.array([1.,0.,0.])\n",
    "\n",
    "#t,u,b = RK_variable_b(ssp104,1e-6,f_robertson,w0=u0,t_final=1,b_fixed=True)"
   ]
  },
  {
   "cell_type": "markdown",
   "metadata": {},
   "source": [
    "# Decay with Production\n",
    "\n",
    "ODE of form $u'(t) = - \\lambda u(t) + f(t)$ with $f(t) \\geq 0 $ "
   ]
  },
  {
   "cell_type": "code",
   "execution_count": null,
   "metadata": {},
   "outputs": [],
   "source": [
    "def production(t):\n",
    "    return 0.05*(1+np.sin(t))\n",
    "\n",
    "def f_decay(t,u):\n",
    "    l = 1\n",
    "    return -l*u+production(t)\n",
    "\n",
    "u0 = np.array([1.])\n",
    "\n",
    "t,u,b = RK_variable_b(ck5,3,f_decay,w0=u0,t_final=200,b_fixed=False)"
   ]
  },
  {
   "cell_type": "code",
   "execution_count": null,
   "metadata": {},
   "outputs": [],
   "source": [
    "plt.plot(t,u[0,:])\n",
    "plt.grid()"
   ]
  },
  {
   "cell_type": "code",
   "execution_count": null,
   "metadata": {},
   "outputs": [],
   "source": [
    "plt.plot(t[1:],b.T[1:,:])"
   ]
  },
  {
   "cell_type": "markdown",
   "metadata": {},
   "source": [
    "# Testproblem\n"
   ]
  },
  {
   "cell_type": "code",
   "execution_count": null,
   "metadata": {},
   "outputs": [],
   "source": [
    "def f_test(t,u):\n",
    "    return np.sin(10*t)*u*(1-u)\n",
    "\n",
    "u0 = np.array([0.1])\n",
    "\n",
    "t,u,b = RK_variable_b(dp5,1.1,f_test,w0=u0,t_final=50,b_fixed=False)"
   ]
  },
  {
   "cell_type": "code",
   "execution_count": null,
   "metadata": {},
   "outputs": [],
   "source": [
    "plt.plot(t,u[0,:])\n",
    "plt.grid()"
   ]
  },
  {
   "cell_type": "markdown",
   "metadata": {},
   "source": [
    "# Advection"
   ]
  },
  {
   "cell_type": "code",
   "execution_count": null,
   "metadata": {},
   "outputs": [],
   "source": [
    "N=50\n",
    "x = np.linspace(0,1,N)\n",
    "dx = x[1]-x[0]\n",
    "\n",
    "def f_centered_advection(t,u):\n",
    "    du = np.zeros_like(u)\n",
    "    du[1:-1] = (u[2:]-u[:-2])\n",
    "    du[0] = u[1]-u[-1]\n",
    "    du[-1] = u[0]-u[-2]\n",
    "    return -du/(2*dx)\n",
    "\n",
    "def f_upwind_advection(t,u):\n",
    "    du = np.zeros_like(u)\n",
    "    du[1:] = (u[1:]-u[:-1])\n",
    "    du[0] = u[0]-u[-1]\n",
    "    return -du/(dx)\n",
    "\n",
    "#u0 = (x<0.5)*1.\n",
    "#u0 = (x<0.5)+0.2\n",
    "u0 = (x<0.5)+0.\n",
    "#u0 = np.sin(2*np.pi*x)+1.\n",
    "\n",
    "dt = 2.5*dx/3\n",
    "\n",
    "t,u,b = RK_variable_b(ck5,dt,f_upwind_advection,w0=u0,t_final=1,b_fixed=False)"
   ]
  },
  {
   "cell_type": "code",
   "execution_count": null,
   "metadata": {},
   "outputs": [],
   "source": [
    "plt.pcolor(u[:,::1])\n",
    "plt.colorbar()"
   ]
  },
  {
   "cell_type": "code",
   "execution_count": null,
   "metadata": {},
   "outputs": [],
   "source": [
    "plt.plot(u[:,5])"
   ]
  },
  {
   "cell_type": "code",
   "execution_count": null,
   "metadata": {},
   "outputs": [],
   "source": [
    "plt.plot(t[1:],b.T[1:,:])"
   ]
  },
  {
   "cell_type": "markdown",
   "metadata": {},
   "source": [
    "Most of the testproblems show stability issues before getting negative. \n",
    "\n",
    "Needed: A method that is stable in a great region but does not preserve positifity\n",
    "\n",
    "Idea:\n",
    "\n",
    "Other Conditions that can be writen as a linear Equation system $Au = r$ or $Au \\geq r$ with $A$ Matrix of Condition and $r$ as right Hand side (That is not preserved by the nature of the runge Kutta Method) \n",
    "(as:  $A(Kb+u) = r$)  with $K= [k^1,\\cdots k^{s-1}]$ where $k^m$ are the intermediate solutions computet by the stages \n",
    "\n",
    "\n",
    "\n",
    "Or dynamic right hand side? some $r(t,u-1)$  (thinking of Lyapunov functions)"
   ]
  },
  {
   "cell_type": "code",
   "execution_count": null,
   "metadata": {},
   "outputs": [],
   "source": []
  }
 ],
 "metadata": {
  "kernelspec": {
   "display_name": "Python 3",
   "language": "python",
   "name": "python3"
  },
  "language_info": {
   "codemirror_mode": {
    "name": "ipython",
    "version": 3
   },
   "file_extension": ".py",
   "mimetype": "text/x-python",
   "name": "python",
   "nbconvert_exporter": "python",
   "pygments_lexer": "ipython3",
   "version": "3.7.4"
  }
 },
 "nbformat": 4,
 "nbformat_minor": 2
}
