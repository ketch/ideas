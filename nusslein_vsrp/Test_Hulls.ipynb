{
 "cells": [
  {
   "cell_type": "markdown",
   "metadata": {},
   "source": [
    "Obviously we want a description of the convec hull of the vectors in $B$. Therefore we want a description of the vertecies of the convex hull in the shape:\n",
    "\n",
    "$$\\vec{n_i}^T x + a_i \\leq 0 $$\n",
    "\n",
    "We can combine these using the Matrix vector notation:\n",
    "\n",
    "$$N^T x + a\\leq 0 $$\n",
    "\n",
    "To get this, we can use the scipy package."
   ]
  },
  {
   "cell_type": "code",
   "execution_count": null,
   "metadata": {},
   "outputs": [],
   "source": [
    "import numpy as np\n",
    "import matplotlib.pyplot as plt\n",
    "from mpl_toolkits.mplot3d import Axes3D\n",
    "\n",
    "from scipy.spatial import ConvexHull, convex_hull_plot_2d"
   ]
  },
  {
   "cell_type": "markdown",
   "metadata": {},
   "source": [
    "We want to da a first test of the capabilities:"
   ]
  },
  {
   "cell_type": "code",
   "execution_count": null,
   "metadata": {},
   "outputs": [],
   "source": [
    "points = np.random.rand(5, 2)   # 30 random points in 2-D\n",
    "hull = ConvexHull(points)\n",
    "plt.plot(points[:,0], points[:,1], 'o')\n",
    "for simplex in hull.simplices:\n",
    "    plt.plot(points[simplex, 0], points[simplex, 1], 'k-')"
   ]
  },
  {
   "cell_type": "markdown",
   "metadata": {},
   "source": [
    "Using 'hull.equations' we can get an matrix shape with $(nfacet, ndim+1)$ formated as $[N^T,a]$.\n"
   ]
  },
  {
   "cell_type": "code",
   "execution_count": null,
   "metadata": {},
   "outputs": [],
   "source": [
    "# get N and a\n",
    "E = hull.equations\n",
    "N=E[:,:-1]\n",
    "a=E[:,-1]\n",
    "a.shape=[len(a),1]\n",
    "\n",
    "#setup an heatmap to ilustrate it\n",
    "x=np.linspace(0,1,100)\n",
    "y=np.linspace(0,1,100)\n",
    "X,Y=np.meshgrid(x,y)\n",
    "\n",
    "X.shape=(1,100**2)\n",
    "Y.shape=[1,100**2]\n",
    "\n",
    "O = (N@np.concatenate((X,Y),axis = 0))+a<0\n",
    "W = np.prod(O,axis=0)\n",
    "#W = O[3,:]\n",
    "\n",
    "X.shape=[100,100]\n",
    "Y.shape=[100,100]\n",
    "W.shape=[100,100]\n",
    "\n",
    "\n",
    "cmap = plt.get_cmap('PiYG')\n",
    "cf = plt.contourf(X,Y,W,cmap=cmap,vmin=0, vmax=1)\n",
    "plt.colorbar(cf)\n",
    "for simplex in hull.simplices:\n",
    "    plt.plot(points[simplex, 0], points[simplex, 1], 'k-')\n"
   ]
  },
  {
   "cell_type": "code",
   "execution_count": null,
   "metadata": {},
   "outputs": [],
   "source": [
    "hull.equations"
   ]
  },
  {
   "cell_type": "markdown",
   "metadata": {},
   "source": [
    "But unfotunatley Qhull does not work if alll the points are on a hyperplane, or if there are not enough points provided."
   ]
  },
  {
   "cell_type": "code",
   "execution_count": null,
   "metadata": {},
   "outputs": [],
   "source": [
    "#Try the hull of two points \n",
    "punkte = np.array([[1,0,0],[-1,0,0],[1,1,0],[0,0,0]])\n",
    "hull = ConvexHull(punkte)"
   ]
  },
  {
   "cell_type": "code",
   "execution_count": null,
   "metadata": {},
   "outputs": [],
   "source": [
    "plt.plot(punkte[:,0], punkte[:,1],'o')"
   ]
  },
  {
   "cell_type": "markdown",
   "metadata": {},
   "source": [
    "Because it is quite common that we have multiple $b$ on a hyperplane (e.g. if they have the same order) we have to find a way to get it work.\n",
    "\n",
    "For this i propose the following. \n",
    "\n",
    "1) We transform the $b_i$ such that: $b_1 = 0$. This makes further computation easier\n",
    " \n",
    " $$B_{shifted} = B - b_1$$\n",
    " \n",
    "2) We test the dimentionality of the span of $B_{shifted}$ using the SVD. \n",
    "\n",
    "If the SVD is $B_{shifted} = USV.T$ with $S = diag(\\sigma_1,\\sigma_2,\\cdots,\\sigma_r,0\\cdots,0)$\n",
    "\n",
    "The vectors $u_1,\\cdots,u_r$ are the span of $B$. This ist the subspace in whitch the posddible values of $b$ are.\n",
    "To make use of chull we want to transform this subspace on a the $R^{r}$. For this we compute $B_{transformed} = [u_1,\\cdots,u_r].T B_{shifted}$\n",
    "\n",
    "By calling 'Chull' we get the normal vectors in the transformed space $N_{transformed}$. To transform these back we undo the transformation by computing $N_{hull} = [u_1,\\cdots,u_r] N_{transformed}$. This transformation laves the $a$ unchanged.\n",
    "\n",
    "Now we have to constrict the possible values in the shifted space to $Span(u_1,\\cdots,u_r)$. This can be done by adding additional normal vectors. By using the none reduced form of the SVD we get the according normal vectors with $N_{subspace} = [u_{r+1},\\cdots,u_s]$ ($U \\in R^{s \\times s}$). Additionally we get the vector $a_{subspace shifted} = [0 \\times (s-r)].T$ These are equality constraints, so we have to treat them seperatly (We could also add inequalities with $-N_{subspace}$ but this is probably not adventagious)\n",
    "\n"
   ]
  },
  {
   "cell_type": "code",
   "execution_count": null,
   "metadata": {},
   "outputs": [],
   "source": [
    "B = np.array([[1,2,1],[3,4,1],[5,7,1]]).T\n",
    "#b_p = np.array([1,4,4])\n",
    "#B = np.array([b_p , 2*b_p , 3*b_p]).T\n",
    "display(B)\n",
    "b_0 = B[:,0]\n",
    "b_0.shape=(len(b_0),1)\n",
    "B_shifted = B-b_0\n",
    "display(B_shifted)"
   ]
  },
  {
   "cell_type": "code",
   "execution_count": null,
   "metadata": {},
   "outputs": [],
   "source": [
    "U,S,V = np.linalg.svd(B_shifted)\n",
    "N_dim = np.linalg.matrix_rank(B_shifted)\n",
    "print(N_dim)\n",
    "display(U)\n",
    "display(S)\n",
    "display(V)"
   ]
  },
  {
   "cell_type": "code",
   "execution_count": null,
   "metadata": {},
   "outputs": [],
   "source": [
    "print(np.linalg.norm(U[:,1]))\n",
    "print(U[:,0].T@U[:,2])"
   ]
  },
  {
   "cell_type": "code",
   "execution_count": null,
   "metadata": {},
   "outputs": [],
   "source": [
    "b_transformed = U[:,0:N_dim].T@B_shifted\n",
    "display(b_transformed)"
   ]
  },
  {
   "cell_type": "code",
   "execution_count": null,
   "metadata": {},
   "outputs": [],
   "source": [
    "hull = ConvexHull(b_transformed.T)\n",
    "E = hull.equations\n",
    "N_transformed=E[:,:-1].T\n",
    "a_hull_sh=E[:,-1]\n",
    "a_hull_sh.shape=[len(a_hull_sh),1]\n",
    "display(N)\n",
    "display(a_hull_sh)"
   ]
  },
  {
   "cell_type": "code",
   "execution_count": null,
   "metadata": {},
   "outputs": [],
   "source": [
    "N_hull=U[:,0:N_dim]@N_transformed\n",
    "display(N_hull)"
   ]
  },
  {
   "cell_type": "code",
   "execution_count": null,
   "metadata": {},
   "outputs": [],
   "source": [
    "N_subspace =U[:,N_dim:]\n",
    "display(N_subspace)\n",
    "a_subspace_sh = np.zeros((len(b_0)-N_dim,1))\n",
    "display(a_subspace_sh)\n",
    "#N_trback.T@B_shifted+a\n"
   ]
  },
  {
   "cell_type": "markdown",
   "metadata": {},
   "source": [
    "Now we have to unshift the edges. For his we have to consider\n",
    "\n",
    "$$\\vec{n_i}^T x + a_i \\leq 0 $$\n",
    "\n",
    "We have split up the original coordiante such as $x = b_i -b_1$\n",
    "\n",
    "$$ \\vec{n}^T (b_i -b_1)^T + a_i \\leq 0 $$\n",
    "\n",
    "$$ \\vec{n}^T b_i - \\vec{n}^T b_1 + a_i \\leq 0 $$\n",
    "$$ \\vec{n}^T b_i + (- \\vec{n}^T b_1 + a_i) \\leq 0 $$\n"
   ]
  },
  {
   "cell_type": "code",
   "execution_count": null,
   "metadata": {},
   "outputs": [],
   "source": [
    "a = a_hull_sh-N_hull.T@b_0\n",
    "display(a)\n",
    "a_subspace = a_subspace_sh-N_subspace.T@b_0\n",
    "display(a_subspace)"
   ]
  },
  {
   "cell_type": "code",
   "execution_count": null,
   "metadata": {},
   "outputs": [],
   "source": [
    "#Now test it on the points\n",
    "display(np.round(N_hull.T@B+a,8))\n",
    "display(np.round(N_subspace.T@B+a_subspace,8))"
   ]
  },
  {
   "cell_type": "markdown",
   "metadata": {},
   "source": [
    "Additional remarks: \n",
    "If the remaining dimention is only 1D (all points are one line) Qhull does also not work, but it is trivial to get n and a for this case \n"
   ]
  },
  {
   "cell_type": "code",
   "execution_count": null,
   "metadata": {},
   "outputs": [],
   "source": [
    "def Eqsys_line(B):\n",
    "    N = np.array([[-1.,1.]])\n",
    "    a = np.array([[np.min(B)],[-np.max(B)]])\n",
    "    if a[0]+a[1] == 0:\n",
    "        print('only single Point, not able to compute convex hull')\n",
    "        raise ValueError\n",
    "    return N,a\n",
    "\n",
    "#Test\n",
    "b = np.array([[1,4]])\n",
    "N,a = Eqsys_line(b)\n",
    "\n",
    "b_test = np.array([np.arange(-5,6)])\n",
    "\n",
    "display(np.prod((N.T@b_test+a)<=0,axis=0))\n",
    "display(np.array([b_test[0,:],np.prod((N.T@b_test+a)<=0,axis=0)]))"
   ]
  },
  {
   "cell_type": "code",
   "execution_count": null,
   "metadata": {},
   "outputs": [],
   "source": [
    "# Here the implementation inside a general function\n",
    "def Eqsys_chull(B):\n",
    "    \"\"\"\n",
    "    Function to compute the equarionsystem defining a c_hull of the points b_1,...,b_l\n",
    "    \n",
    "    Parameters: \n",
    "    B = [b_1,...,b_l] Points that span the chull\n",
    "    \n",
    "    Returns:\n",
    "    Two sets of constriants \n",
    "        N_hull^T x     + a_hull    <= 0 \n",
    "        N_subspace^T x + a_subspace = 0\n",
    "    \n",
    "    N_hull = [n_1,...,n_k] Matrix with normal vectors of the inequality constraints\n",
    "    a_hull = [a_r,...,a_k] Vector containig the offsets of the inequality constraints\n",
    "    N_subspace = [n_k+1,...,n_k+(r-s)] Matrix with normal vectors of the equality constraints\n",
    "    a_subspace = [n_k+1,...,n_k+(r-s)] Vector containig the offsets of the equality constraints\n",
    "    \"\"\"\n",
    "    b_0 = B[:,0]\n",
    "    s = len(b_0)\n",
    "    b_0.shape=(s,1)\n",
    "    B_shifted = B-b_0\n",
    "    \n",
    "    N_dim = np.linalg.matrix_rank(B_shifted)\n",
    "    if N_dim == s: #No need to transform using SVD, we can simply use qhull\n",
    "        if N_dim == 1:\n",
    "            N_hull,a_hull_sh = Eqsys_line(B_shifted)\n",
    "        else:\n",
    "            hull = ConvexHull(B_shifted.T)\n",
    "            E = hull.equations\n",
    "            N_hull=E[:,:-1].T\n",
    "            a_hull_sh=E[:,-1]\n",
    "            a_hull_sh.shape=[len(a_sh),1]\n",
    "        \n",
    "        N_subspace = np.array([[]])\n",
    "        a_subspace_sh = np.array([[]])\n",
    "        \n",
    "        \n",
    "    if N_dim <= s: #Transform using SVD\n",
    "        print('Transform, n_dim =',N_dim)\n",
    "        U,S,V = np.linalg.svd(B_shifted)\n",
    "        B_transformed = U[:,0:N_dim].T@B_shifted\n",
    "        if N_dim == 1:\n",
    "            N_transformed,a_hull_sh = Eqsys_line(B_transformed)\n",
    "        else:\n",
    "            hull = ConvexHull(B_transformed.T)\n",
    "            E = hull.equations\n",
    "            N_transformed=E[:,:-1].T\n",
    "            a_hull_sh=E[:,-1]\n",
    "            a_hull_sh.shape=[len(a_hull_sh),1]\n",
    "        \n",
    "        \n",
    "        N_hull=U[:,0:N_dim]@N_transformed\n",
    "\n",
    "        N_subspace =U[:,N_dim:]\n",
    "        a_subspace_sh = np.zeros((s-N_dim,1))\n",
    "\n",
    "    a_hull = a_hull_sh-N_hull.T@b_0\n",
    "    a_subspace = a_subspace_sh-N_subspace.T@b_0\n",
    "    \n",
    "    return (N_hull,a_hull,N_subspace,a_subspace)\n"
   ]
  },
  {
   "cell_type": "code",
   "execution_count": null,
   "metadata": {},
   "outputs": [],
   "source": [
    "\"\"\"First Test:\n",
    "Goals: \n",
    "General test of errors in Implemntation (signs, interplay between functions)\n",
    "Test hull of two points\n",
    "\n",
    "using 2D-space with 3 point in one line\n",
    "\"\"\"\n",
    "\n",
    "#define points: \n",
    "b_1 = np.array([1,3])\n",
    "b_2 = np.array([2,4])\n",
    "b_3 = np.array([-1,1])\n",
    "\n",
    "B = np.array([b_1,b_2,b_3]).T\n",
    "(N_hull,a_hull,N_subspace,a_subspace) = Eqsys_chull(B)\n",
    "\n",
    "#first tests for reasonability:\n",
    "print('shape of N_hull should be [2,2] it is:',N_hull.shape)\n",
    "print('shape of a_hull should be [2,1] it is:',a_hull.shape)\n",
    "print('shape of N_subspace should be [2,1] it is:',N_subspace.shape)\n",
    "print('shape of a_subspace should be [1,1] it is:',a_subspace.shape)\n",
    "\n",
    "print('Test subspace: N_subspace^T B+a_subspace should be [0,0,0] it is:',np.round(N_subspace.T@B+a_subspace,5))\n",
    "\n",
    "#setup an heatmap to ilustrate it\n",
    "x=np.linspace(-2,3,100)\n",
    "y=np.linspace(0,5,100)\n",
    "X,Y=np.meshgrid(x,y)\n",
    "\n",
    "X.shape=(1,100**2)\n",
    "Y.shape=[1,100**2]\n",
    "\n",
    "v = np.concatenate((X,Y),axis = 0)\n",
    "W = np.all( np.concatenate((N_hull.T@v+a_hull<0,np.abs(N_subspace.T@v+a_subspace)<0.001),axis=0),axis=0)\n",
    "#W = O[3,:]\n",
    "\n",
    "X.shape=[100,100]\n",
    "Y.shape=[100,100]\n",
    "W.shape=[100,100]\n",
    "\n",
    "%matplotlib inline\n",
    "cmap = plt.get_cmap('PiYG')\n",
    "cf = plt.contourf(X,Y,W,cmap=cmap,vmin=0, vmax=1)\n",
    "\n",
    "#plot points \n",
    "plt.plot(B[0,:],B[1,:],'o')"
   ]
  },
  {
   "cell_type": "code",
   "execution_count": null,
   "metadata": {},
   "outputs": [],
   "source": [
    "\"\"\"Second Test:\n",
    "Goals: \n",
    "General test of errors in Implemntation (signs, interplay between functions)\n",
    "Test transformation of results of Qhull\n",
    "\n",
    "using 3D-space with 3 points in one plane\n",
    "\"\"\"\n",
    "\n",
    "#We start of using 4 point on the x-y-plane\n",
    "b_0_ = np.array([-1,3,0])\n",
    "b_1_ = np.array([1,0,0])\n",
    "b_2_ = np.array([-2,1,0])\n",
    "b_3_ = np.array([-2,2,0])\n",
    "\n",
    "\n",
    "B = np.array([b_0_,b_1_,b_2_,b_3_]).T\n",
    "\n",
    "#Now we shift these onto the plane z = x-2y+1\n",
    "B[2,:]= B[0,:]-2*B[1,:]+1\n",
    "print(B)\n",
    "\n",
    "(N_hull,a_hull,N_subspace,a_subspace) = Eqsys_chull(B)\n",
    "\n",
    "#first tests for reasonability:\n",
    "print('shape of N_hull should be [3,4] it is:',N_hull.shape)\n",
    "print('shape of a_hull should be [4,1] it is:',a_hull.shape)\n",
    "print('shape of N_subspace should be [3,1] it is:',N_subspace.shape)\n",
    "print('shape of a_subspace should be [1,1] it is:',a_subspace.shape)\n",
    "\n",
    "print('Test subspace: N_subspace^T B+a_subspace should be [0,0,0] it is:',np.round(N_subspace.T@B+a_subspace,5))\n",
    "print('Test points in hull:',np.all(N_hull.T@B+a_hull<1e-10))\n",
    "\n",
    "#We now add a 3D plot, we choose X and Y on a grid and choose z such that N_subspace.T @ x +a_subspace = 0\n",
    "\n",
    "x=np.linspace(-3,2,100)\n",
    "y=np.linspace(-1,4,100)\n",
    "X,Y=np.meshgrid(x,y)\n",
    "\n",
    "X.shape=(1,100**2)\n",
    "Y.shape=[1,100**2]\n",
    "\n",
    "#N_subspace[0,:]*X+N_subspace[1,:]*Y+N_subspace[2,:]*Z + a_subspace[0,:] = 0\n",
    "Z = -(N_subspace[0,:]*X+N_subspace[1,:]*Y + a_subspace)/N_subspace[2,:]\n",
    "\n",
    "v = np.concatenate((X,Y,Z),axis = 0)\n",
    "#Test if subspace is correct \n",
    "print('Test if subspace is correct:', np.all(np.abs(N_subspace.T@v+a_subspace)<0.001))\n",
    "\n",
    "W = np.all(np.concatenate((N_hull.T@v+a_hull<0,np.abs(N_subspace.T@v+a_subspace)<0.001),axis=0),axis=0)\n",
    "\n",
    "\n",
    "X.shape=[100,100]\n",
    "Y.shape=[100,100]\n",
    "Z.shape=[100,100]\n",
    "W.shape=[100,100]\n",
    "\n",
    "\n",
    "\n",
    "\n",
    "%matplotlib qt\n",
    "fig = plt.figure()\n",
    "ax = fig.gca(projection='3d')\n",
    "\n",
    "color = np.where(W,'b','grey')\n",
    "surf = ax.plot_surface(X, Y, Z, cmap=cmap,facecolors=color,\n",
    "                       linewidth=0, antialiased=False)\n",
    "\n",
    "ax.plot(B[0,:],B[1,:],B[2,:],'og',zorder=3)\n",
    "\n"
   ]
  },
  {
   "cell_type": "code",
   "execution_count": null,
   "metadata": {},
   "outputs": [],
   "source": [
    "\"\"\"Thirs Test:\n",
    "Goals: \n",
    "Test multiple points and their properites\n",
    "\"\"\"\n",
    "\n",
    "#1D in 6D \n",
    "vec = np.random.rand(4, 1)\n",
    "line = np.random.rand(6,1)\n",
    "ap = np.random.rand(6,1)\n",
    "B = (line@vec.T)+ap\n",
    "\n",
    "#create points in line but outside of hull\n",
    "O = line@np.array([[np.min(vec)-0.1],[np.max(vec)+0.1]]).T+ap\n",
    "#create points that would be inside of hull but move them out of line\n",
    "perturb = (np.eye(6)-(line@line.T)/(line.T@line))@np.random.rand(6,4)\n",
    "if np.any(np.linalg.norm(perturb,axis=0)< 1e-8):\n",
    "    print('Testvetokr muss neu erzeugt werden')\n",
    "V = B+perturb\n",
    "\n",
    "(N_hull,a_hull,N_subspace,a_subspace) = Eqsys_chull(B)\n",
    "\n",
    "#first tests for reasonability:\n",
    "print('shape of N_hull should be [6,2] it is:',N_hull.shape)\n",
    "print('shape of a_hull should be [2,1] it is:',a_hull.shape)\n",
    "print('shape of N_subspace should be [6,5] it is:',N_subspace.shape)\n",
    "print('shape of a_subspace should be [5,1] it is:',a_subspace.shape)\n",
    "\n",
    "print('Test subspace: N_subspace^T B+a_subspace should be [0,..,0] it is:',np.all((N_subspace.T@B+a_subspace))<1e-12)\n",
    "print('Test points in hull:',np.all(N_hull.T@B+a_hull<1e-12))\n",
    "\n",
    "print('Test point outside of hull:',not np.any(np.all(N_hull.T@O+a_hull<1e-12,axis=0)))\n",
    "if np.any(np.linalg.norm(perturb,axis=0)< 1e-8):\n",
    "    print('Testvectro to small, please rerun')\n",
    "print('Test point outside of subspace', not np.any(np.all(np.abs(N_subspace.T@V+a_subspace)<1e-12,axis =0)))\n",
    "\n",
    "\n",
    "#2D in 6D \n",
    "points = np.random.rand(5, 2)\n",
    "plane = np.random.rand(6,2)\n",
    "ap = np.random.rand(6,1)\n",
    "B = plane@points.T+ap\n",
    "\n",
    "(N_hull,a_hull,N_subspace,a_subspace) = Eqsys_chull(B)\n",
    "\n",
    "#first tests for reasonability:\n",
    "print('shape of N_hull should be [6,?] it is:',N_hull.shape)\n",
    "print('shape of a_hull should be [?,1] it is:',a_hull.shape)\n",
    "print('shape of N_subspace should be [6,4] it is:',N_subspace.shape)\n",
    "print('shape of a_subspace should be [4,1] it is:',a_subspace.shape)\n",
    "\n",
    "print('Test subspace: N_subspace^T B+a_subspace should be [0,..,0] it is:',np.all((N_subspace.T@B+a_subspace))<1e-10)\n",
    "print('Test points in hull:',np.all(N_hull.T@B+a_hull<1e-10))\n",
    "\n",
    "\n",
    "\n",
    "\n",
    "#5D in 6D \n",
    "points = np.random.rand(10, 5)\n",
    "hyperplane = np.random.rand(6,5)\n",
    "ap = np.random.rand(6,1)\n",
    "B = hyperplane@points.T+ap\n",
    "\n",
    "(N_hull,a_hull,N_subspace,a_subspace) = Eqsys_chull(B)\n",
    "\n",
    "#first tests for reasonability:\n",
    "print('shape of N_hull should be [6,?] it is:',N_hull.shape)\n",
    "print('shape of a_hull should be [?,1] it is:',a_hull.shape)\n",
    "print('shape of N_subspace should be [6,1] it is:',N_subspace.shape)\n",
    "print('shape of a_subspace should be [1,1] it is:',a_subspace.shape)\n",
    "\n",
    "print('Test subspace: N_subspace^T B+a_subspace should be [0,..,0] it is:',np.all((N_subspace.T@B+a_subspace))<1e-10)\n",
    "print('Test points in hull:',np.all(N_hull.T@B+a_hull<1e-10))\n"
   ]
  },
  {
   "cell_type": "code",
   "execution_count": null,
   "metadata": {},
   "outputs": [],
   "source": [
    "np.linalg.norm(perturb,axis=0)"
   ]
  },
  {
   "cell_type": "code",
   "execution_count": null,
   "metadata": {},
   "outputs": [],
   "source": [
    "line.T@perturb"
   ]
  },
  {
   "cell_type": "code",
   "execution_count": null,
   "metadata": {},
   "outputs": [],
   "source": [
    "(N_subspace.T@V+a_subspace)"
   ]
  },
  {
   "cell_type": "code",
   "execution_count": null,
   "metadata": {},
   "outputs": [],
   "source": [
    "(N_subspace.T@V+a_subspace)<1e-12"
   ]
  },
  {
   "cell_type": "code",
   "execution_count": null,
   "metadata": {},
   "outputs": [],
   "source": []
  }
 ],
 "metadata": {
  "kernelspec": {
   "display_name": "Python 3",
   "language": "python",
   "name": "python3"
  },
  "language_info": {
   "codemirror_mode": {
    "name": "ipython",
    "version": 3
   },
   "file_extension": ".py",
   "mimetype": "text/x-python",
   "name": "python",
   "nbconvert_exporter": "python",
   "pygments_lexer": "ipython3",
   "version": "3.6.9"
  }
 },
 "nbformat": 4,
 "nbformat_minor": 4
}
