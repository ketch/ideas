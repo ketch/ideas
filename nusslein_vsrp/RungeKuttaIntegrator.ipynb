{
 "cells": [
  {
   "cell_type": "markdown",
   "metadata": {},
   "source": [
    "# Notebook to implement and test a simple Runge Kutta Solver"
   ]
  },
  {
   "cell_type": "code",
   "execution_count": null,
   "metadata": {},
   "outputs": [],
   "source": [
    "import numpy as np\n",
    "import matplotlib.pyplot as plt\n",
    "from nodepy import rk\n",
    "import cvxpy as cp\n",
    "\n",
    "\n",
    "import numpy.linalg as linalg\n",
    "\n",
    "\n",
    "rk4 = rk.loadRKM('RK44').__num__()\n",
    "rk4x2 = rk4*rk4\n",
    "ssp2 = rk.loadRKM('SSP22').__num__()\n",
    "ssp3 = rk.loadRKM('SSP33').__num__()\n",
    "ssp104 = rk.loadRKM('SSP104').__num__()\n",
    "merson4 = rk.loadRKM('Merson43').__num__()\n",
    "bs5 = rk.loadRKM('BS5').__num__()\n",
    "\n",
    "trbdf = rk.loadRKM('TR-BDF2').__num__()\n",
    "be = rk.loadRKM('BE').__num__()\n",
    "irk2 = rk.loadRKM('LobattoIIIA2').__num__()"
   ]
  },
  {
   "cell_type": "code",
   "execution_count": null,
   "metadata": {},
   "outputs": [],
   "source": [
    "#Testproblem: Harmonic Oscilator\n",
    "\n",
    "def f_A(t,u):\n",
    "    A = np.array([[0,-1],[1,0]])\n",
    "    c = np.array([1,1])\n",
    "    #print(u)\n",
    "    return A@(u-c)\n",
    "\n",
    "u0 =np.array([1.,0.])\n"
   ]
  },
  {
   "cell_type": "code",
   "execution_count": null,
   "metadata": {},
   "outputs": [],
   "source": [
    "# Reference implementation from Nodepy\n",
    "from nodepy import ivp, rk\n",
    "\n",
    "rk_ssp104 = rk.loadRKM('SSP104')\n",
    "\n",
    "\n",
    "testp = ivp.IVP(f=f_A,u0=u0,T=100)\n",
    "\n",
    "t,u =rk_ssp104(testp,dt=0.1)\n",
    "\n",
    "plt.plot(t,u)"
   ]
  },
  {
   "cell_type": "code",
   "execution_count": null,
   "metadata": {},
   "outputs": [],
   "source": [
    "def f(u):\n",
    "    return f_A(0,u)\n",
    "\n",
    "t, u = RRK_pos(ssp104,dt=0.1,f=f,w0=u0,t_final=100.,relaxation=False)\n",
    "\n",
    "plt.plot(t,u.T)"
   ]
  },
  {
   "cell_type": "code",
   "execution_count": null,
   "metadata": {},
   "outputs": [],
   "source": [
    "def RK(rkm, dt, f, w0=[1.,0], t_final=1.):\n",
    "    \"\"\"    \n",
    "    Options:\n",
    "    \n",
    "        rkm: Base Runge-Kutta method, in Nodepy format\n",
    "        dt: time step size\n",
    "        f: RHS of ODE system\n",
    "        w0: Initial data\n",
    "        t_final: final solution time        \n",
    "    \"\"\"\n",
    "    \n",
    "    #setup Variables for Soulution storage\n",
    "    p = len(w0) #number of dimentions\n",
    "    \n",
    "    uu = np.zeros([p,int(t_final/dt)+2])\n",
    "    uu[:,0] = w0.copy()\n",
    "    tt = np.zeros([int(t_final/dt)+2])\n",
    "    \n",
    "    \n",
    "    #Setup Runge Kutta \n",
    "    c = rkm.c\n",
    "    A = rkm.A #has to be lower left triangle\n",
    "    b =rkm.b\n",
    "    s = len(c) #number of Stages\n",
    "    K = np.zeros([p,s])\n",
    "    \n",
    "    u = np.array(w0)\n",
    "    t = 0.\n",
    "    n = 0\n",
    "        \n",
    "    #print('set up starting to solve')\n",
    "    \n",
    "    #Solve ODE\n",
    "    while t<t_final:\n",
    "        for i in range(s):\n",
    "            #compute Stages\n",
    "            \n",
    "                \n",
    "            #K[:,i] = f(t+c[i]*dt,u+dt*K@A[i,:]) \n",
    "            #the 0s in A should make shure that no data from an older Step is used\n",
    "            \n",
    "            #Maybe better Approach, because A[i,j] = 0 in many places\n",
    "            u_prime = u.copy()\n",
    "            for m in range(i):  #Error in range(i-1)\n",
    "                u_prime += dt*A[i,m]*K[:,m]\n",
    "            \n",
    "            K[:,i] = f(t+c[i]*dt,u_prime)\n",
    "            \n",
    "            #print('intermediatestep computed')\n",
    "        \n",
    "\n",
    "            \n",
    "        #update\n",
    "        u += dt*K@b\n",
    "        n += 1\n",
    "        t += dt\n",
    "        \n",
    "        uu[:,n] = u.copy()\n",
    "        tt[n] = t\n",
    "        #print('updated')\n",
    "\n",
    "        \n",
    "    return (tt[0:n],uu[:,0:n])\n",
    "        \n",
    "        \n",
    "\n"
   ]
  },
  {
   "cell_type": "code",
   "execution_count": null,
   "metadata": {},
   "outputs": [],
   "source": [
    "t, u = RK(ssp104,dt=0.1,f=f_A,w0=u0,t_final=100.)\n",
    "\n",
    "plt.plot(t,u.T)"
   ]
  },
  {
   "cell_type": "code",
   "execution_count": null,
   "metadata": {},
   "outputs": [],
   "source": [
    "#Testproblem from nodepy\n",
    "\n",
    "myivp = ivp.detest('A1')\n",
    "rk_rk4 = rk.loadRKM('RK44')\n",
    "t_ref, u_ref = rk_rk4(myivp)\n",
    "\n",
    "\n",
    "t, u = RK(rk4,dt=float(myivp.dt0),f=myivp.rhs,w0=np.array([float(myivp.u0)]),t_final=myivp.T)\n",
    "\n",
    "\n",
    "plt.plot(t_ref,u_ref)\n",
    "plt.plot(t,u)\n"
   ]
  },
  {
   "cell_type": "code",
   "execution_count": null,
   "metadata": {},
   "outputs": [],
   "source": []
  },
  {
   "cell_type": "code",
   "execution_count": null,
   "metadata": {},
   "outputs": [],
   "source": []
  }
 ],
 "metadata": {
  "kernelspec": {
   "display_name": "Python 3",
   "language": "python",
   "name": "python3"
  },
  "language_info": {
   "codemirror_mode": {
    "name": "ipython",
    "version": 3
   },
   "file_extension": ".py",
   "mimetype": "text/x-python",
   "name": "python",
   "nbconvert_exporter": "python",
   "pygments_lexer": "ipython3",
   "version": "3.7.4"
  }
 },
 "nbformat": 4,
 "nbformat_minor": 2
}
