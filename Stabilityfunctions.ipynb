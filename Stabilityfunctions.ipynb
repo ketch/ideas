{
 "cells": [
  {
   "cell_type": "markdown",
   "metadata": {},
   "source": [
    "# Stability Function\n",
    "\n",
    "The Irea of this notebook is to investigate teh stability function of a Runge Kutta method with variable Weights.\n",
    "\n",
    "The stbility function is \n",
    "\n",
    "$\\displaystyle\\sum_{i=0}^s R_i(z) b_i$ \n",
    "\n",
    "where $R_i(z)$ is the stability function for the Runge Kutta method with \n",
    "$ b_n = \\begin{cases}\n",
    "    1      & \\quad \\text{if } n=i\\\\\n",
    "    0  & \\quad \\text{if } n \\neq i\n",
    "  \\end{cases} $\n",
    "  \n",
    " Because the stability functions are polynomials the stability functions form a $s$-dimentional vector space"
   ]
  },
  {
   "cell_type": "code",
   "execution_count": null,
   "metadata": {},
   "outputs": [],
   "source": [
    "import numpy as np\n",
    "import matplotlib.pyplot as plt\n",
    "from nodepy import rk\n",
    "import sympy as sp\n",
    "\n",
    "\n",
    "#Diagonally Implicit methods:\n",
    "BE = rk.loadRKM('BE').__num__()\n",
    "SDIRK23 = rk.loadRKM('SDIRK23')\n",
    "SDIRK34 = rk.loadRKM('SDIRK34')\n",
    "SDIRK54 = rk.loadRKM('SDIRK54')\n",
    "TR_BDF2 = rk.loadRKM('TR-BDF2')\n",
    "\n",
    "\n",
    "#Extrapolation method\n",
    "ex2 = rk.extrap(2,'implicit euler')\n",
    "ex3 = rk.extrap(3,'implicit euler')\n",
    "ex6 = rk.extrap(6,'implicit euler')\n",
    "ex8 = rk.extrap(8,'implicit euler')\n"
   ]
  },
  {
   "cell_type": "code",
   "execution_count": null,
   "metadata": {},
   "outputs": [],
   "source": [
    "rkm = ex3\n",
    "\n",
    "s = len(rkm.b)\n",
    "\n",
    "\n",
    "stab_functions= ['?'] * s\n",
    "b_orig = rkm.b\n",
    "\n",
    "for i in range(s):\n",
    "    b= [0]*s\n",
    "    b[i] = 1\n",
    "    \n",
    "    rkm.b = b\n",
    "    stab_functions[i] = rkm.stability_function()\n",
    "    \n",
    "rkm.b = b_orig\n",
    "\n"
   ]
  },
  {
   "cell_type": "code",
   "execution_count": null,
   "metadata": {},
   "outputs": [],
   "source": [
    "def plot_amp_stab(stab_functions,n):\n",
    "    p,q = stab_functions[n]\n",
    "\n",
    "    # Convert coefficients to floats for speed\n",
    "    if p.coeffs.dtype=='object':\n",
    "        p = np.poly1d([float(c) for c in p.coeffs])\n",
    "    if q.coeffs.dtype=='object':\n",
    "        q = np.poly1d([float(c) for c in q.coeffs])\n",
    "        \n",
    "    u = np.linspace(-10,10,200)\n",
    "    v = np.linspace(-10,10,200)\n",
    "    \n",
    "    U,V = np.meshgrid(u,v)\n",
    "    Q = U+V*1j\n",
    "    R=np.abs(p(Q)/q(Q))\n",
    "\n",
    "    plt.pcolormesh(U, V, np.log(R),cmap=plt.get_cmap('seismic'),vmin=-4, vmax=4)\n",
    "    plt.colorbar()\n",
    "    plt.contour(U,V,R,[0,1],colors='k',alpha=1,linewidths=3)\n",
    "    plt.grid()\n",
    "    \n",
    "    \n",
    "plot_amp_stab(stab_functions,0)"
   ]
  },
  {
   "cell_type": "code",
   "execution_count": null,
   "metadata": {},
   "outputs": [],
   "source": [
    "plot_amp_stab(stab_functions,1)"
   ]
  },
  {
   "cell_type": "code",
   "execution_count": null,
   "metadata": {},
   "outputs": [],
   "source": [
    "plot_amp_stab(stab_functions,2)"
   ]
  },
  {
   "cell_type": "code",
   "execution_count": null,
   "metadata": {},
   "outputs": [],
   "source": [
    "plot_amp_stab(stab_functions,3)"
   ]
  },
  {
   "cell_type": "code",
   "execution_count": null,
   "metadata": {},
   "outputs": [],
   "source": [
    "plot_amp_stab(stab_functions,4)"
   ]
  },
  {
   "cell_type": "code",
   "execution_count": null,
   "metadata": {},
   "outputs": [],
   "source": [
    "plot_amp_stab(stab_functions,5)"
   ]
  },
  {
   "cell_type": "code",
   "execution_count": null,
   "metadata": {},
   "outputs": [],
   "source": [
    "print(rkm)"
   ]
  },
  {
   "cell_type": "markdown",
   "metadata": {},
   "source": [
    "For $b = (0,0,0,1,0,0)$ the stability region is a circle inside the left halfeplane. Now wo test if this is realz the case or if it is due to errors in the plotting function. \n",
    "This realy ist the case."
   ]
  },
  {
   "cell_type": "code",
   "execution_count": null,
   "metadata": {},
   "outputs": [],
   "source": [
    "stab_functions[3]"
   ]
  },
  {
   "cell_type": "code",
   "execution_count": null,
   "metadata": {},
   "outputs": [],
   "source": [
    "v = np.zeros_like(b_orig)\n",
    "v[3] =1\n",
    "\n",
    "rkm.b = v\n",
    "rkm.plot_stability_region()"
   ]
  },
  {
   "cell_type": "code",
   "execution_count": null,
   "metadata": {},
   "outputs": [],
   "source": [
    "print(rkm)"
   ]
  },
  {
   "cell_type": "markdown",
   "metadata": {},
   "source": [
    "The method can be writen in a more compact way. Yhis is also interesting for the case with $b = (0,1,0,0,0,0)^T$ where the stability region is the left halfeplane. Apparently for an Runge Kutta method with\n",
    "\n",
    "\\begin{array}\n",
    "{c|cc}\n",
    "c_1 & a\\\\\n",
    "\\hline\n",
    "& 1 \n",
    "\\end{array}\n",
    "\n",
    "where $c_1 = 4$ the left halve plane is in the stability region for $a \\geq 1/2$ (Not 100% shure for the $=$ case)"
   ]
  },
  {
   "cell_type": "code",
   "execution_count": null,
   "metadata": {},
   "outputs": [],
   "source": [
    "kr13 = rk.RungeKuttaMethod(np.array([[1/3]]),np.array([1]))\n",
    "print(kr13)"
   ]
  },
  {
   "cell_type": "code",
   "execution_count": null,
   "metadata": {},
   "outputs": [],
   "source": [
    "kr13.plot_stability_region()"
   ]
  },
  {
   "cell_type": "markdown",
   "metadata": {},
   "source": [
    "# Testig for stability\n",
    "\n",
    "As seen for the case $b = (0,0,0,1,0,0)$ the resulting RK-Methods are sometimes not A-stable.\n",
    "Maybee it is possible to derive a condition for the b that enshures that the new method is A-Stable.\n",
    "\n",
    "This therefor the following two conditoons have to be fullfilled: (Hairer: Solving ODE II)\n",
    "\n",
    "$a)$ $|R(iy)|\\leq1 \\forall y \\in R$\n",
    "\n",
    "$b)$ $R(z)$ is analytic for $ Re(z) \\leq 0$\n",
    "\n",
    "Condition $a)$ can be tested with the E-Polynomial. To setup the E-Polynomial for an arbritrary b the sum\n",
    "\n",
    "$$R_{sum}(iy) \\sum_{i=1}^s b_i R_i(iy) $$ \n",
    "has to be writen as \n",
    "$$R_{sum}(iy) = \\frac{P_{sum}(iy)}{Q_{sum}(iy)}$$\n",
    "\n",
    "This would be easy if $Q_1 = Q_2 = \\cdots = Q_{sum}$. This is true because according to the Definition \n",
    "\n",
    "$$R(Z) = \\frac{det(I-zA+z\\mathbb{1}b^T)}{det(I-zA)} $$\n",
    "\n",
    "$Q(z)$ does only depend on $A$ and $A$ is the same for all summed Methods. The Poles can be determined by the Eigenvalues of $A$ using\n",
    "\n",
    "$$det(I-zA) = \\frac{1}{z}^s det(\\frac{1}{z} I-A) = \\lambda^s  det(-\\lambda I+A)$$\n",
    "\n",
    "with $$ \\lambda = -\\frac{1}{z}$$\n",
    "\n",
    "Because the Matrix $A$ is triangular for Diagonally Implicit Methods the EWs are determined by the entries on the diagonal. If these are greater than zero the poles are in the right halfplane\n",
    "\n",
    "Important: $\\sum_{i=1}^s b_i = 1$ has to be fullfilled if this approch on computing the stability funtion is being used"
   ]
  },
  {
   "cell_type": "code",
   "execution_count": null,
   "metadata": {},
   "outputs": [],
   "source": [
    "rkm = ex3\n",
    "\n",
    "s = len(rkm.b)\n",
    "\n",
    "\n",
    "stab_functions= ['?'] * s\n",
    "b_orig = rkm.b\n",
    "\n",
    "for i in range(s):\n",
    "    b= [0]*s\n",
    "    b[i] = 1\n",
    "    \n",
    "    rkm.b = b\n",
    "    stab_functions[i] = rkm.stability_function()\n",
    "    \n",
    "rkm.b = b_orig\n",
    "\n"
   ]
  },
  {
   "cell_type": "code",
   "execution_count": null,
   "metadata": {},
   "outputs": [],
   "source": [
    "stab_functions[0]"
   ]
  },
  {
   "cell_type": "code",
   "execution_count": null,
   "metadata": {},
   "outputs": [],
   "source": [
    "x, y, z = sp.symbols('x y z')\n",
    "expr = y*stab_functions[0][0](x)+z*stab_functions[1][0](-x)"
   ]
  },
  {
   "cell_type": "code",
   "execution_count": null,
   "metadata": {},
   "outputs": [],
   "source": [
    "expr.simplify()"
   ]
  },
  {
   "cell_type": "code",
   "execution_count": null,
   "metadata": {},
   "outputs": [],
   "source": [
    "\n",
    "#generate the b,s\n",
    "variables = ''\n",
    "for i in range(len(stab_functions)):\n",
    "    variables = variables + 'b'+ str(i) + ' '\n",
    "    \n",
    "b = eval(\"sp.symbols('\"+ variables + \"')\" )\n",
    "    \n",
    "x = sp.symbols('x')\n",
    "y = sp.symbols('y',real = True)\n",
    "\n",
    "exprp = 'b[0]*stab_functions[0][0](x)'\n",
    "for i in range(1,len(stab_functions)):\n",
    "    exprp = exprp+'+b['+str(i)+']*stab_functions['+str(i)+'][0](x)'\n",
    "\n",
    "print(exprp)\n",
    "P = eval(exprp)\n",
    "\n",
    "Q = stab_functions[0][1](x)\n",
    "\n",
    "E = Q.subs(x,sp.I*y)*Q.subs(x,-sp.I*y)-P.subs(x,sp.I*y)*P.subs(x,-sp.I*y)\n",
    "E.simplify()\n",
    "\n",
    "(b0,b1,b2,b3,b4,b5) = b"
   ]
  },
  {
   "cell_type": "code",
   "execution_count": null,
   "metadata": {
    "scrolled": false
   },
   "outputs": [],
   "source": [
    "sp.collect(E.expand(),y)"
   ]
  },
  {
   "cell_type": "code",
   "execution_count": null,
   "metadata": {},
   "outputs": [],
   "source": [
    "#at y=o for arbritary b\n",
    "\n",
    "sp.collect(E.expand(),y).subs(y,0).subs(b0,1-(b1+b2+b3+b4+b5)).simplify()"
   ]
  },
  {
   "cell_type": "code",
   "execution_count": null,
   "metadata": {
    "scrolled": false
   },
   "outputs": [],
   "source": [
    "# with sum(b) = 1\n",
    "\n",
    "sp.collect(E.subs(b5,1-(b0+b1+b2+b3+b4)).simplify().expand(),y)"
   ]
  },
  {
   "cell_type": "code",
   "execution_count": null,
   "metadata": {},
   "outputs": [],
   "source": [
    "# Case where it should be 0 everywhere\n",
    "\n",
    "sp.collect(E.subs({b0:0,b1:1,b2:0,b3:0,b4:0,b5:0}).simplify().expand(),y)"
   ]
  },
  {
   "cell_type": "code",
   "execution_count": null,
   "metadata": {},
   "outputs": [],
   "source": [
    "# Standard\n",
    "\n",
    "ex3 = rk.extrap(3,'implicit euler')\n",
    "print(ex3.b)\n",
    "\n",
    "sp.collect(E.subs({b0:1/sp.S(2),b1:-2,b2:-2,b3:3/sp.S(2),b4:3/sp.S(2),b5:3/sp.S(2)}).simplify().expand(),y)"
   ]
  },
  {
   "cell_type": "code",
   "execution_count": null,
   "metadata": {},
   "outputs": [],
   "source": [
    "ex3.stability_function()"
   ]
  },
  {
   "cell_type": "code",
   "execution_count": null,
   "metadata": {},
   "outputs": [],
   "source": [
    "P_ref = ex3.stability_function()[0](x)\n",
    "\n",
    "Q_ref = ex3.stability_function()[1](x)\n",
    "\n",
    "E_ref = Q_ref.subs(x,sp.I*y)*Q_ref.subs(x,-sp.I*y)-P_ref.subs(x,sp.I*y)*P_ref.subs(x,-sp.I*y)\n",
    "sp.collect(E_ref.simplify().expand(),y)"
   ]
  },
  {
   "cell_type": "code",
   "execution_count": null,
   "metadata": {},
   "outputs": [],
   "source": []
  }
 ],
 "metadata": {
  "kernelspec": {
   "display_name": "Python 3",
   "language": "python",
   "name": "python3"
  },
  "language_info": {
   "codemirror_mode": {
    "name": "ipython",
    "version": 3
   },
   "file_extension": ".py",
   "mimetype": "text/x-python",
   "name": "python",
   "nbconvert_exporter": "python",
   "pygments_lexer": "ipython3",
   "version": "3.7.4"
  }
 },
 "nbformat": 4,
 "nbformat_minor": 2
}
