{
 "cells": [
  {
   "cell_type": "markdown",
   "metadata": {},
   "source": [
    "This notebook is used to test the idea of uing a convex combiantion of Runge Kutta methods to get the final result.\n",
    "\n",
    "For this approach the implicit solver is adventagious because at least the backward euler method yields to an positive result.\n",
    "This enshures that at least one point of the convex combination is positive.\n",
    "\n",
    "The idea is to have multiple $b_i$ for $d$ methods, that all can be computed with one $A$. \n",
    "\n",
    "This has the advantage of enshuring the solution is does not get worse than the solution of the backward euler method. (A good example for comparison is the Diffusion with an Dirca as initial  condition)\n",
    "\n",
    "The optimisation problem is changed to:\n",
    "\n",
    "$$u_{n+1}=u_n+\\Delta K \\vec{b} \\geq 0$$\n",
    "\n",
    "with\n",
    "\n",
    "$$ \\vec{b} = \\sum_i^d a_i \\vec{b_i}$$\n",
    "\n",
    "$$ \\forall_{i \\in \\{1, \\cdots d \\}} 0 \\leq a_1 \\leq 1$$\n",
    "\n",
    "and the objective\n",
    "\n",
    "$$ min \\left(\\sum_i^d w_i a_i \\right) $$\n",
    "\n",
    "with some weighting factors $w_1,\\cdots,w_d$. The weighting factors determine which is the prefered b to use.\n",
    "\n",
    "Because we want that the optimal soultion is the origianl $b$ the weight $w_0$ corresponding to $b_{orig}$ should be the smalest $w$. We could just set this $w$ to $0$.\n",
    "For implicit methods with $s \\geq p$ we would still like to have some degrees of fredum for the highest order. For this we have to intoduce at least one $b$ that complies with the order Condition for the Order and $b \\neq b_{orig}$. \n",
    "\n",
    "If we reduce the Order we can intoduce new $b$ that do not complie the Order Conditons (This is an easy task for the first Order because we have to choose a method that ensures positifity but is not so clear cut for the intermediate Orders)\n",
    "\n",
    "What would be good objectives for choosing the $b$ od Order $> 1$?:\n",
    "Small negative b?\n",
    "Small error coefficents?\n",
    "\n",
    "\n",
    "We also have to make sure that all used $b$ define A-Stable methods, because this ensures that the final method is alos A-Stable"
   ]
  },
  {
   "cell_type": "code",
   "execution_count": null,
   "metadata": {},
   "outputs": [],
   "source": [
    "import numpy as np\n",
    "import matplotlib.pyplot as plt\n",
    "from nodepy import rk\n",
    "import cvxpy as cp\n",
    "\n",
    "\n",
    "import numpy.linalg as linalg\n",
    "\n",
    "\n",
    "#Diagonally Implicit methods:\n",
    "BE = rk.loadRKM('BE').__num__()\n",
    "SDIRK23 = rk.loadRKM('SDIRK23').__num__()\n",
    "SDIRK34 = rk.loadRKM('SDIRK34').__num__()\n",
    "SDIRK54 = rk.loadRKM('SDIRK54').__num__()\n",
    "TR_BDF2 = rk.loadRKM('TR-BDF2').__num__()\n",
    "\n",
    "\n",
    "be = rk.loadRKM('BE').__num__()\n",
    "\n",
    "#Extrapolation method\n",
    "ex2 = rk.extrap(2,'implicit euler').__num__()\n",
    "ex3 = rk.extrap(3,'implicit euler').__num__()\n",
    "ex4 = rk.extrap(4,'implicit euler').__num__()\n",
    "ex5 = rk.extrap(5,'implicit euler').__num__()\n",
    "ex6 = rk.extrap(6,'implicit euler').__num__()\n",
    "ex8 = rk.extrap(8,'implicit euler').__num__()\n",
    "\n",
    "\n",
    "from OrderCondition import *\n",
    "from RKimple import *\n",
    "import utils \n",
    "import scipy.linalg "
   ]
  },
  {
   "cell_type": "code",
   "execution_count": null,
   "metadata": {},
   "outputs": [],
   "source": [
    "print(ex2)\n",
    "print(ex3)"
   ]
  },
  {
   "cell_type": "markdown",
   "metadata": {},
   "source": [
    "# Adding the embeded Methods\n",
    "\n",
    "We want to get new methods that complie with the Order Conditions. Thsi can be done by getting the vectors that span the Kernel of the Order Condition MAtrix $Q$. This vectors can then be weighted and added to the original $b$. By this the Order Conditions are still satisfied. \n",
    "\n",
    "As last step we test if the gerneated method is still A-Stable \n",
    "\n",
    "\n",
    "Note on the Implementation:\n",
    "We use the Attribute A-hat of the rkm class to store the embeded emthods. We give it as a dict for the different Orders."
   ]
  },
  {
   "cell_type": "code",
   "execution_count": null,
   "metadata": {},
   "outputs": [],
   "source": [
    "Q,rhs = OrderCond(ex3.A,ex3.c,order = 3)\n",
    "scipy.linalg.null_space(Q)"
   ]
  },
  {
   "cell_type": "code",
   "execution_count": null,
   "metadata": {},
   "outputs": [],
   "source": [
    "#thsi is probably not the optimal way but it still gives all possible options\n",
    "span = scipy.linalg.null_space(Q)\n",
    "scale = np.array([[2,2],[2.5,2.5],[0.5,0.5],[1.2,0.2]]) #one set od scales that lead to A-Stable methods\n",
    "scale = np.array([[0.1,0.1],[0.1,0.1],[0.03,0.03],[0.1,0.05]]) #another set that shows less distortion \n",
    "ex3 = rk.extrap(3,'implicit euler').__num__()\n",
    "b_orig = ex3.b\n",
    "b_hat_3 = []\n",
    "for i in range(span.shape[1]):\n",
    "    for s in [-1,+1]:\n",
    "        ex3.b = b_orig+ scale[i][int(0.5+0.5*s)]*s*span[:,i]\n",
    "        b_hat_3.append(ex3.b)\n",
    "        ex3.plot_stability_region();\n",
    "\n"
   ]
  },
  {
   "cell_type": "code",
   "execution_count": null,
   "metadata": {},
   "outputs": [],
   "source": [
    "#as the seccond order method we try projecting the first oder method on the order conditions \n",
    "#but we will provbably need something better here\n",
    "db = np.array([0,0,0,0.3,0.3,0.3]) -ex3.b\n",
    "display(db)\n",
    "Q,rhs = OrderCond(ex3.A,ex3.c,order = 2)\n",
    "S = scipy.linalg.null_space(Q)\n",
    "#construct proj. Matrix\n",
    "proj = np.zeros([S.shape[0],S.shape[0]])\n",
    "for i in range(S.shape[1]):\n",
    "    s = S[:,0]\n",
    "    s.shape = (len(s),1)\n",
    "    proj += s@s.T\n",
    "display(proj)\n",
    "b_proj = proj@db + ex3.b\n",
    "print('Test if Order condition are still mett')\n",
    "display(Q@b_proj-rhs)\n",
    "print('New b of second Order')\n",
    "display(b_proj)\n",
    "\n",
    "ex3.b = b_proj\n",
    "ex3.plot_stability_region();\n",
    "#apparenty that does not work..."
   ]
  },
  {
   "cell_type": "code",
   "execution_count": null,
   "metadata": {},
   "outputs": [],
   "source": [
    "#some guess instead [-1/2,-1,-1/2,1,1,1]\n",
    "ex3.b = np.array([-1/2,-1,-1/2,1,1,1])\n",
    "ex3.plot_stability_region();\n",
    "\n",
    "b_hat_2 = [np.array([-1/2,-1,-1/2,1,1,1])]\n",
    "#b_hat_2 = [np.array([0.5,-2.,-2.,1.5,1.5,1.5])] #not real new set "
   ]
  },
  {
   "cell_type": "code",
   "execution_count": null,
   "metadata": {},
   "outputs": [],
   "source": [
    "#The first Order method that ensures posifitifity\n",
    "ex3.b = np.array([0,0,0,1/3,1/3,1/3])\n",
    "ex3.plot_stability_region();\n",
    "\n",
    "b_hat_1 = [np.array([0,0,0,1/3,1/3,1/3])]"
   ]
  },
  {
   "cell_type": "code",
   "execution_count": null,
   "metadata": {},
   "outputs": [],
   "source": [
    "ex3 = rk.extrap(3,'implicit euler').__num__()\n",
    "ex3.b_hat = {3:b_hat_3,2:b_hat_2,1:b_hat_1}\n",
    "\n",
    "#construct one method that only has the implicit euler as another option\n",
    "#b_hat_orig = [ex3.b]\n",
    "#ex3.b_hat = {3:b_hat_orig,2:b_hat_orig,1:b_hat_1}"
   ]
  },
  {
   "cell_type": "markdown",
   "metadata": {},
   "source": [
    "## Weights\n",
    "\n",
    "It remains the question on what weights to use. \n",
    "We already set $w_0 = 0$ for the other weights we use $w_i = \\frac{1}{Order\\{b_i\\}}$"
   ]
  },
  {
   "cell_type": "code",
   "execution_count": null,
   "metadata": {},
   "outputs": [],
   "source": [
    "N=100 #interestingly the behavior depends heaviliy on the number of points\n",
    "x = np.linspace(0,1,N)\n",
    "dx = x[1]-x[0]\n",
    "u0 = np.zeros_like(x)\n",
    "u0[int(N/2)] = 1\n",
    "#u0[int(N/2)-2:int(N/2)+2] = 1\n",
    "#dt = 0.7*dx**2\n",
    "dt = 0.0007847599703514606\n",
    "#dt = 7e-5\n",
    "\n",
    "A_heat = 1/dx**2 * (-2*np.diag(np.ones(N))+np.diag(np.ones(N-1),-1)+np.diag(np.ones(N-1),1))\n",
    "\n",
    "\n",
    "#t, u, b = RK_variable_b_implicit(ex8,dt,f_heat,w0=u0,t_final=1.1,solver_eqs =solver_nonlinear_arg,\n",
    "#                                 b_fixed=True,solver=cp.SCS)\n",
    "\n",
    "\n",
    "\n",
    "solver = Solver(rkm = ex3,\n",
    "               dt = dt,\n",
    "               t_final = 0.01,\n",
    "               b_fixed=False,\n",
    "               tol_neg=1e-8,\n",
    "               tol_change = np.inf,\n",
    "               p = [3,2,1],\n",
    "               theta = [1],\n",
    "               solver = cp.MOSEK,\n",
    "               solver_eqs=solver_Matrix,\n",
    "               convex = False,\n",
    "               LP_opts = {'reduce':True})\n",
    "\n",
    "problem_ADR = Problem(f=A_heat,\n",
    "                 u0=u0,\n",
    "                 minval=0,\n",
    "                 maxval=np.inf)\n",
    "\n",
    "\n",
    "status,t,u,b,KK = RK_integrate(solver=solver,problem=problem_ADR,verbose=True,dumpK=True)\n",
    "\n",
    "t_ref = np.array(t)\n",
    "u_ref = np.array(u).T\n",
    "b_ref = np.array(b).T\n",
    "utils.show_status(status)\n",
    "\n",
    "#t, u, b = RK_convex_implicit(ex3,B,w,dt,A_heat,w0=u0,t_final=0.01,solver_eqs =solver_Matrix,\n",
    "#                                 b_fixed=False,solver=cp.SCS,fallback = True)\n",
    "\n",
    "#print('ref:')\n",
    "\n",
    "#t_ref, u_ref, b_ref = RK_variable_b_implicit(ex3,dt,A_heat,w0=u0,t_final=0.01,solver_eqs =solver_Matrix,\n",
    "#                                 b_fixed=True,solver=cp.SCS,fallback = True)\n",
    "\n",
    "\n",
    "u_ex = scipy.linalg.expm(dt*A_heat)@u0"
   ]
  },
  {
   "cell_type": "code",
   "execution_count": null,
   "metadata": {},
   "outputs": [],
   "source": [
    "solver = Solver(rkm = ex3,\n",
    "               dt = dt,\n",
    "               t_final = 0.01,\n",
    "               b_fixed=False,\n",
    "               tol_neg=1e-8,\n",
    "               tol_change = np.inf,\n",
    "               p = [3,2,1],\n",
    "               theta = [1],\n",
    "               solver = cp.MOSEK,\n",
    "               solver_eqs=solver_Matrix,\n",
    "               convex=True,\n",
    "               LP_opts = {'reduce':True})\n",
    "\n",
    "status,t,u,b,KK = RK_integrate(solver=solver,problem=problem_ADR,verbose=True,dumpK=True)\n",
    "\n",
    "t_con = np.array(t)\n",
    "u_con = np.array(u).T\n",
    "b_con = np.array(b).T\n",
    "utils.show_status(status)"
   ]
  },
  {
   "cell_type": "code",
   "execution_count": null,
   "metadata": {},
   "outputs": [],
   "source": [
    "plt.pcolor(u_con[:,:10])\n",
    "plt.colorbar()"
   ]
  },
  {
   "cell_type": "code",
   "execution_count": null,
   "metadata": {},
   "outputs": [],
   "source": [
    "plt.pcolor(u_ref[:,:10])\n",
    "plt.colorbar()"
   ]
  },
  {
   "cell_type": "code",
   "execution_count": null,
   "metadata": {},
   "outputs": [],
   "source": [
    "plt.plot(t[1:],b_con.T[1:,:]);"
   ]
  },
  {
   "cell_type": "code",
   "execution_count": null,
   "metadata": {},
   "outputs": [],
   "source": [
    "plt.plot(t[1:],b_ref.T[1:,:]);"
   ]
  },
  {
   "cell_type": "code",
   "execution_count": null,
   "metadata": {},
   "outputs": [],
   "source": [
    "n=1\n",
    "plt.plot(u_con[:,n],label='convex')\n",
    "plt.plot(u_ref[:,n],label='ref')\n",
    "plt.plot(u_ex,label='ex')\n",
    "plt.legend()"
   ]
  },
  {
   "cell_type": "code",
   "execution_count": null,
   "metadata": {},
   "outputs": [],
   "source": [
    "for i in range(6):\n",
    "    plt.plot(KK[1][:,i],'-o',label=str(i))\n",
    "#plt.ylim([-0.1,0.1])\n",
    "plt.plot(KK[1]@ex3.b,'-o',label='combined')\n",
    "plt.grid()\n",
    "plt.legend()"
   ]
  },
  {
   "cell_type": "code",
   "execution_count": null,
   "metadata": {},
   "outputs": [],
   "source": [
    "plt.figure()\n",
    "#plot the differnet options for the first step\n",
    "plt.plot(u0 + dt*KK[1]@ex3.b,'-x',label='regular')\n",
    "plt.plot(u0 + dt*KK[1]@b_hat_3[1],'-x',label='b_hat3')\n",
    "plt.plot(u0 + dt*KK[1]@b_hat_2[0],'-x',label='b_hat2')\n",
    "plt.plot(u0 + dt*KK[1]@b_hat_1[0],'-x',label='b_hat1')\n",
    "plt.grid()\n",
    "plt.legend()\n",
    "\n",
    "\n",
    "plt.figure()\n",
    "for i in range(len(b_hat_3)):\n",
    "    plt.plot(u0 + dt*KK[1]@b_hat_3[i],'-x',label=str(i))\n",
    "plt.legend()"
   ]
  },
  {
   "cell_type": "markdown",
   "metadata": {},
   "source": [
    "## Convergence"
   ]
  },
  {
   "cell_type": "code",
   "execution_count": null,
   "metadata": {},
   "outputs": [],
   "source": [
    "from scipy.linalg import expm\n",
    "\n",
    "\n",
    "N=100\n",
    "x = np.linspace(0,1,N)\n",
    "dx = x[1]-x[0]\n",
    "u0 = np.zeros_like(x)\n",
    "u0[int(N/2)] = 1\n",
    "#dt = 0.7*dx**2\n",
    "dt = 0.001\n",
    "\n",
    "A_heat = 1/dx**2 * (-2*np.diag(np.ones(N))+np.diag(np.ones(N-1),-1)+np.diag(np.ones(N-1),1))\n",
    "\n",
    "\n",
    "\n",
    "#dt = np.array([0.1,0.01,0.001,0.0001])\n",
    "dts = np.logspace(-5,-2,num=20)\n",
    "\n",
    "t_end = 0.01\n",
    "\n",
    "reference = np.zeros([len(u0),len(dts)])\n",
    "for i in range(len(dts)):\n",
    "    reference[:,i]= expm(t_end*A_heat)@u0\n",
    "    \n",
    "\n",
    "problem_Heat = Problem(f=A_heat,\n",
    "                 u0=u0,\n",
    "                 minval=0,\n",
    "                 maxval=np.inf)\n",
    "\n",
    "solver_be = Solver(rkm = be,\n",
    "               dt = dt,\n",
    "               t_final = t_end,\n",
    "               b_fixed=True,\n",
    "               tol_neg=1e-8,\n",
    "               tol_change = 5,\n",
    "               p = [3,2,1],\n",
    "               theta = [1],\n",
    "               solver = cp.MOSEK,\n",
    "               solver_eqs=solver_Matrix,\n",
    "               LP_opts = {'reduce':True})\n",
    "\n",
    "solver_ex3_fix = Solver(rkm = ex3,\n",
    "               dt = dt,\n",
    "               t_final = t_end,\n",
    "               b_fixed=True,\n",
    "               tol_neg=1e-8,\n",
    "               tol_change = 5,\n",
    "               p = [3,2,1],\n",
    "               theta = [1],\n",
    "               solver = cp.MOSEK,\n",
    "               solver_eqs=solver_Matrix,\n",
    "               LP_opts = {'reduce':True})\n",
    "\n",
    "solver_ex3_adp = Solver(rkm = ex3,\n",
    "               dt = dt,\n",
    "               t_final = t_end,\n",
    "               b_fixed=False,\n",
    "               tol_neg=1e-8,\n",
    "               tol_change = 5,\n",
    "               p = [3,2,1],\n",
    "               theta = [1],\n",
    "               solver = cp.MOSEK,\n",
    "               solver_eqs=solver_Matrix,\n",
    "               convex=False,\n",
    "               LP_opts = {'reduce':True,'verbose':False})\n",
    "\n",
    "\n",
    "solver_ex3_cvx = Solver(rkm = ex3,\n",
    "               dt = dt,\n",
    "               t_final = t_end,\n",
    "               b_fixed=False,\n",
    "               tol_neg=1e-8,\n",
    "               tol_change = 5,\n",
    "               p = [3,2,1],\n",
    "               theta = [1],\n",
    "               solver = cp.MOSEK,\n",
    "               solver_eqs=solver_Matrix,\n",
    "               convex=True,\n",
    "               LP_opts = {'reduce':True,'verbose':False})\n",
    "\n",
    "print('BE')\n",
    "sol_be,err_be,change_be = utils.plot_convergence(problem_Heat,solver_be,dts,reference,error='rel',step = -1,\n",
    "                              Params=dict())\n",
    "\n",
    "print('ex3')\n",
    "sol_ex3,err_ex3,change_ex3 = utils.plot_convergence(problem_Heat,solver_ex3_fix,dts,reference,error='rel',step = -1,\n",
    "                              Params=dict())\n",
    "\n",
    "print('ex3_convex')\n",
    "sol_ex3c,err_ex3c,change_ex3c = utils.plot_convergence(problem_Heat,solver_ex3_cvx,dts,reference,error='rel',step = -1,\n",
    "                              Params=dict())\n",
    "\n",
    "print('ex3_adapted')\n",
    "sol_ex3a,err_ex3a,change_ex3a = utils.plot_convergence(problem_Heat,solver_ex3_adp,dts,reference,error='rel',step = -1,\n",
    "                              Params=dict())\n",
    "\n"
   ]
  },
  {
   "cell_type": "code",
   "execution_count": null,
   "metadata": {},
   "outputs": [],
   "source": [
    "plt.loglog(dts,err_be,'C1',label = 'BE')\n",
    "plt.loglog(dts,err_ex3,'C2',label = 'ex3')\n",
    "plt.loglog(dts,err_ex3a,'C3',label = 'ex3a')\n",
    "plt.loglog(dts,err_ex3c,'C4',label = 'ex3c')\n",
    "\n",
    "plt.plot(dts[False==change_be],err_be[False==change_be],'oC1')\n",
    "plt.plot(dts[False==change_ex3],err_ex3[False==change_ex3],'oC2')\n",
    "plt.plot(dts[False==change_ex3a],err_ex3a[False==change_ex3a],'oC3')\n",
    "plt.plot(dts[True==change_ex3a],err_ex3a[True==change_ex3a],'xC3')\n",
    "plt.plot(dts[False==change_ex3c],err_ex3c[False==change_ex3c],'oC4')\n",
    "plt.plot(dts[True==change_ex3c],err_ex3c[True==change_ex3c],'xC4')\n",
    "\n",
    "plt.legend()\n",
    "plt.grid()\n",
    "\n",
    "\"\"\"Note to plot: For dt nearly equal to the endtime the results may be skewed \n",
    "because one large step and another smal step were taken to compute the solution \"\"\""
   ]
  },
  {
   "cell_type": "markdown",
   "metadata": {},
   "source": [
    "The convergence shows interesting behavior if the $b$ is constrained to a convex combination. \n",
    "If the $b$ can be chosen freely the error is usually equal or smaler than the error of the unaltered method. \n",
    "If the $b$ is constrained there is some kind of tiping point for that the error suddenly gets larger than the original error.... Maybe because the order was dropped....\n",
    "Apparently it is a more demanding problem to choose the embedded methods, in ways that suit to the problem"
   ]
  },
  {
   "cell_type": "code",
   "execution_count": null,
   "metadata": {},
   "outputs": [],
   "source": [
    "rkm = ex3\n",
    "B = [[rkm.b]]\n",
    "w = [0]\n",
    "for order in range(rkm.p,0,-1):\n",
    "    B.append(rkm.b_hat[order])\n",
    "    w.extend([1/order]*len(rkm.b_hat[order]))\n",
    "                \n",
    "B = np.concatenate(B).T\n",
    "n = np.arange(0,B.shape[1]) #only for plotting\n",
    "plt.plot(n,B.T)"
   ]
  },
  {
   "cell_type": "code",
   "execution_count": null,
   "metadata": {},
   "outputs": [],
   "source": [
    "print(b_hat_3)"
   ]
  },
  {
   "cell_type": "code",
   "execution_count": null,
   "metadata": {},
   "outputs": [],
   "source": [
    "b_hat_3 = [np.array([ 0.87332328, -3.35313268, -2.81672679,  2.00742476,  2.51484951,1.77426192]), \n",
    " np.array([ 0.12667672, -0.64686732, -1.18327321,  0.99257524,  0.48515049,1.22573808]), \n",
    " np.array([ 0.75452072, -1.34140466, -3.34738056,  1.25302675,  1.00605349,2.67518426]), \n",
    " np.array([ 0.24547928, -2.65859534, -0.65261944,  1.74697325,  1.99394651,0.32481574])]"
   ]
  },
  {
   "cell_type": "code",
   "execution_count": null,
   "metadata": {},
   "outputs": [],
   "source": [
    "Q,rhs = OrderCond(ex3.A,ex3.c,order=3)\n",
    "\n",
    "for i in range(len(b_hat_3)):\n",
    "    ex3.b = b_hat_3[i]\n",
    "    ex3.plot_stability_region()\n",
    "    print(Q@ex3.b-rhs)"
   ]
  },
  {
   "cell_type": "markdown",
   "metadata": {},
   "source": [
    "# Robertson"
   ]
  },
  {
   "cell_type": "code",
   "execution_count": null,
   "metadata": {},
   "outputs": [],
   "source": [
    "#Robertson test problem, stiff\n",
    "def f_robertson(t,u):\n",
    "    a = 0.3\n",
    "    du = np.zeros(3)\n",
    "    du[0] = 1e4 *u[1]*u[2] - 0.04*u[0]\n",
    "    du[1] = 0.04 *u[0] - 1e4*u[1]*u[2] - 3e7*u[1]**2\n",
    "    du[2] = 3e7*u[1]**2\n",
    "    return du\n",
    "\n",
    "u0 = np.array([1.,0.,0.])\n",
    "    \n",
    "#    t,u,b = RK_variable_b(ssp104,1e-6,f_robertson,w0=u0,t_final=1,b_fixed=True)\""
   ]
  },
  {
   "cell_type": "code",
   "execution_count": null,
   "metadata": {},
   "outputs": [],
   "source": [
    "dt_start = 1e-3\n",
    "\n",
    "#here a smal hack to make it compatible with the stepsize contol code\n",
    "ex3.bhat = ex3.b\n",
    "\n",
    "\n",
    "solver = Solver(rkm = ex3,\n",
    "               dt = dt_start,\n",
    "               t_final = 1e12,\n",
    "               b_fixed=False,\n",
    "               tol_neg=1e-4,\n",
    "               tol_change = 5,\n",
    "               p = [4,3,2,1],\n",
    "               theta = [1],\n",
    "               solver = cp.MOSEK,\n",
    "               solver_eqs=solver_nonlinear_arg,\n",
    "               convex=True,\n",
    "               fail_on_requect=False,\n",
    "               LP_opts = {'verbose_LP':False})\n",
    "\n",
    "problem_robertson = Problem(f=f_robertson,\n",
    "                 u0=u0,\n",
    "                 minval=0,\n",
    "                 maxval=np.inf)\n",
    "\n",
    "def stepsize(stepsize_control,dt_old,error,change,success,tol_met):\n",
    "    return dt_old*10\n",
    "\n",
    "control = StepsizeControl(dt_min = 0,dt_max = np.infty,a_tol = 0.001,r_tol=0.001,f = stepsize\n",
    "                          ,tol_reqect = 0.002)\n",
    "\n",
    "\n",
    "\n",
    "#t,u,b,KK = RK_variable_b(ssp104,dt,f_prod,u0,t_final=5,b_fixed=False,dumpK=True)\n",
    "status,t,u,b,KK = RK_integrate(solver=solver,problem=problem_robertson,stepsize_control=control,\n",
    "                               verbose=True,dumpK=True)\n",
    "\n",
    "t = np.array(t)\n",
    "u = np.array(u).T\n",
    "b = np.array(b).T\n",
    "utils.show_status(status)"
   ]
  },
  {
   "cell_type": "code",
   "execution_count": null,
   "metadata": {},
   "outputs": [],
   "source": [
    "plt.semilogx(t,u.T[:,0])\n",
    "plt.semilogx(t,1e4*u.T[:,1])\n",
    "plt.semilogx(t,u.T[:,2])"
   ]
  },
  {
   "cell_type": "code",
   "execution_count": null,
   "metadata": {},
   "outputs": [],
   "source": [
    "plt.plot(b.T)"
   ]
  },
  {
   "cell_type": "markdown",
   "metadata": {},
   "source": [
    "# Additional Code"
   ]
  },
  {
   "cell_type": "code",
   "execution_count": null,
   "metadata": {},
   "outputs": [],
   "source": [
    "#Plot stability region of first Step\n",
    "ex3_ = rk.extrap(3,'implicit euler').__num__()\n",
    "ex3_.b = b_ref[:,1]\n",
    "ex3_.plot_stability_region();"
   ]
  },
  {
   "cell_type": "code",
   "execution_count": null,
   "metadata": {},
   "outputs": [],
   "source": []
  }
 ],
 "metadata": {
  "kernelspec": {
   "display_name": "Python 3",
   "language": "python",
   "name": "python3"
  },
  "language_info": {
   "codemirror_mode": {
    "name": "ipython",
    "version": 3
   },
   "file_extension": ".py",
   "mimetype": "text/x-python",
   "name": "python",
   "nbconvert_exporter": "python",
   "pygments_lexer": "ipython3",
   "version": "3.7.4"
  }
 },
 "nbformat": 4,
 "nbformat_minor": 2
}
