{
 "cells": [
  {
   "cell_type": "code",
   "execution_count": null,
   "metadata": {},
   "outputs": [],
   "source": [
    "import numpy as np\n",
    "import matplotlib.pyplot as plt\n",
    "from nodepy import rk\n",
    "import cvxpy as cp\n",
    "\n",
    "\n",
    "import numpy.linalg as linalg\n",
    "\n",
    "\n",
    "#Diagonally Implicit methods:\n",
    "BE = rk.loadRKM('BE').__num__()\n",
    "SDIRK23 = rk.loadRKM('SDIRK23').__num__()\n",
    "SDIRK34 = rk.loadRKM('SDIRK34').__num__()\n",
    "SDIRK54 = rk.loadRKM('SDIRK54').__num__()\n",
    "TR_BDF2 = rk.loadRKM('TR-BDF2').__num__()\n",
    "\n",
    "\n",
    "be = rk.loadRKM('BE').__num__()\n",
    "\n",
    "#Extrapolation method\n",
    "ex2 = rk.extrap(2,'implicit euler').__num__()\n",
    "ex3 = rk.extrap(3,'implicit euler').__num__()\n",
    "ex4 = rk.extrap(4,'implicit euler').__num__()\n",
    "ex5 = rk.extrap(5,'implicit euler').__num__()\n",
    "ex6 = rk.extrap(6,'implicit euler').__num__()\n",
    "ex8 = rk.extrap(8,'implicit euler').__num__()\n",
    "\n",
    "\n",
    "from OrderCondition import *\n",
    "from RKimple import *"
   ]
  },
  {
   "cell_type": "markdown",
   "metadata": {},
   "source": [
    "Extrapolation Methods are row of implicit Euler Steps -> granted positifity?\n",
    "\n",
    "\n",
    "# Define solver for EQ-system here to make it interchangeable\n",
    "\n",
    "This is used to run implicit Euler Methods of the form\n",
    "\n",
    "\\begin{array}\n",
    "{c|cccc}\n",
    "c_1 & a_{11}\\\\\n",
    "c_2 & a_{21} & a_{22} \\\\\n",
    "\\vdots & \\vdots & & \\ddots \\\\\n",
    "c_s& a_{s1}& \\cdots& \\cdots &a_{ss}\\\\\n",
    "\\hline\n",
    "& b_1 &b_2 &\\cdots &b_s \n",
    "\\end{array}\n",
    "\n",
    "\n",
    "This leads to equation systems like (for the $i$th stage)\n",
    "\n",
    "$k_i = f(t_n + c_n \\Delta t,u+\\Delta t (a_{i1}k_1+ \\cdots +a_{ii}k_i))$\n",
    "\n",
    "This can be writen as\n",
    "\n",
    "$k_i = f(\\underbrace{t_n + c_n \\Delta t}_{t'},\\underbrace{u+\\Delta t (a_{i1}k_1+ \\cdots +a_{ii-1}k_{i-1})}_{u'} + \\Delta t a_{ii}k_i)$\n",
    "\n",
    "\n",
    "A solver should solve the equation system\n",
    "\n",
    "$x = f(t',u'+\\Delta t a x)$ with $a = a_{ii}$"
   ]
  },
  {
   "cell_type": "markdown",
   "metadata": {},
   "source": [
    "## Solver for linear Equations\n",
    "\n",
    "$f(t,u) = A u$\n",
    "\n",
    "$x=f(t',u'+ \\Delta t a x) = A (u' + \\Delta t a x)$\n",
    "\n",
    "$-Au' = (\\Delta t a A -I)x$"
   ]
  },
  {
   "cell_type": "code",
   "execution_count": null,
   "metadata": {},
   "outputs": [],
   "source": [
    "# In RKimple.py\n",
    "#def solver_Matrix(t,u,dt,a,A):\n",
    "\"\"\" \n",
    "The function solves a equation system of the Form \n",
    "x = f(t,u+dt*a*x)\n",
    "and returns x\n",
    "where f(t,u)=Au\n",
    "\"\"\"  \n",
    "    "
   ]
  },
  {
   "cell_type": "markdown",
   "metadata": {},
   "source": [
    "## Solver for nonlinear Equations with Fsolve\n",
    "\n",
    "$x=f(t',u'+ \\Delta t a x)$\n",
    "\n",
    "$x-f(t',u'+ \\Delta t a x) = 0$\n",
    "\n",
    "or with $x = f(y)$\n",
    "\n",
    "$y = u' + \\Delta t a f(t,y)$"
   ]
  },
  {
   "cell_type": "code",
   "execution_count": null,
   "metadata": {},
   "outputs": [],
   "source": [
    "# In RKimple.py\n",
    "\n",
    "#def solver_nonlinear(t,u,dt,a,f):\n",
    "\"\"\" \n",
    "The function solves a equation system of the Form \n",
    "x = f(t,u+dt*a*x)\n",
    "and returns x\n",
    "    \n",
    "f is a function of t and u\n",
    "\"\"\" \n",
    "\n",
    "#def solver_nonlinear_arg(t,u,dt,a,f):\n",
    "\"\"\" \n",
    "The function solves a equation system of the Form \n",
    "x = f(t,u+dt*a*x)\n",
    "and returns x\n",
    "    \n",
    "f is a function of t and u\n",
    "\"\"\" \n"
   ]
  },
  {
   "cell_type": "markdown",
   "metadata": {},
   "source": [
    "# Decay\n",
    "\n",
    "According to Bolley & Crouyeix every method with $\\gamma = \\inf$ has order $p\\leq1$\n",
    "\n",
    "Let's see if we can make a higher order Method positiv"
   ]
  },
  {
   "cell_type": "code",
   "execution_count": null,
   "metadata": {},
   "outputs": [],
   "source": [
    "A = np.array([[-1]])\n",
    "\n",
    "\n",
    "u0 =np.array([1.])\n",
    "\n",
    "t_ref = np.linspace(0,100,1000)\n",
    "u_ref = np.exp(-t_ref)*1\n",
    "\n",
    "#Higher Order Method\n",
    "t,u,b = RK_variable_b_implicit(ex3,10,A,w0=u0,t_final=100,b_fixed=True,solver_eqs = solver_Matrix)\n",
    "\n",
    "t_pos,u_pos,b_pos = RK_variable_b_implicit(ex3,10,A,w0=u0,t_final=100,b_fixed=False,solver_eqs = solver_Matrix)\n",
    "\n",
    "plt.plot(t_ref,u_ref)\n",
    "plt.plot(t,u[0,:])\n",
    "plt.plot(t_pos,u_pos[0,:])\n",
    "plt.grid()\n",
    "\n",
    "plt.xlim([5,15]);plt.ylim([-0.015,0.015])\n",
    "#plt.xlim([5,15]);plt.ylim([-0.00015,0.00015])\n",
    "\n",
    "\n",
    "#plt.xlim([15,25])\n",
    "#plt.ylim([-0.00015,0.00015])"
   ]
  },
  {
   "cell_type": "code",
   "execution_count": null,
   "metadata": {},
   "outputs": [],
   "source": [
    "print(u_pos)"
   ]
  },
  {
   "cell_type": "markdown",
   "metadata": {},
   "source": [
    "Note: In this setup it makes sense to not directl project the negative $u$ on (or near) $u=0$ because the real solution is resasonable higher (e.g. with dt=10; plt.xlim([5,15]);plt.ylim([-0.00015,0.00015]))"
   ]
  },
  {
   "cell_type": "code",
   "execution_count": null,
   "metadata": {},
   "outputs": [],
   "source": [
    "#Plot to show the deviation of the new b's (dotts) from the original b's (lines)\n",
    "plt.plot(t_pos[1:],b_pos.T[1:,:],'o');\n",
    "plt.plot(t[1:],b.T[1:,:]);"
   ]
  },
  {
   "cell_type": "markdown",
   "metadata": {},
   "source": [
    "## Hamonic oscillator"
   ]
  },
  {
   "cell_type": "code",
   "execution_count": null,
   "metadata": {},
   "outputs": [],
   "source": [
    "\n",
    "A = np.array([[0,-1],[1,0]])\n",
    "\n",
    "\n",
    "u0 =np.array([1.,0.])\n",
    "\n",
    "t,u,b = RK_variable_b_implicit(ex3,0.2,A,w0=u0,t_final=200,b_fixed=True,solver_eqs = solver_Matrix)\n",
    "\n",
    "\n"
   ]
  },
  {
   "cell_type": "code",
   "execution_count": null,
   "metadata": {},
   "outputs": [],
   "source": [
    "plt.plot(t,u[0,:])"
   ]
  },
  {
   "cell_type": "code",
   "execution_count": null,
   "metadata": {},
   "outputs": [],
   "source": [
    "def f_osc(t,u):\n",
    "    return A@u\n",
    "\n",
    "f_osc(0,u0)\n",
    "\n",
    "t, u, b = RK_variable_b_implicit(ex3,0.2,f_osc,w0=u0,t_final=200,b_fixed=True,solver_eqs = solver_nonlinear_arg)\n",
    "\n",
    "plt.plot(t,u[0,:])"
   ]
  },
  {
   "cell_type": "code",
   "execution_count": null,
   "metadata": {},
   "outputs": [],
   "source": [
    "# Atmospheric pollution model from Hundsdorfer & Verwer\n",
    "\n",
    "def k1(t):\n",
    "    th = t/3600  # Time in hours\n",
    "    thbar = th - 24*(th//24)\n",
    "    if thbar>4 and thbar<20:\n",
    "        sec = (np.sin(np.pi/16 *(thbar-4)))**0.2\n",
    "        return 1.e-5*np.exp(7.*sec)\n",
    "    else:\n",
    "        return 1.e-40\n",
    "\n",
    "k3 = 1.e-16\n",
    "k2 = 1.e5\n",
    "sigma2 = 1.e6\n",
    "\n",
    "def f_pollution(t,u):\n",
    "    du = np.zeros(4)\n",
    "    du[0] = k1(t)*u[2] - k2*u[0]\n",
    "    du[1] = k1(t)*u[2] - k3*u[1]*u[3] + sigma2\n",
    "    du[2] = k3*u[1]*u[3]-k1(t)*u[2]\n",
    "    du[3] = k2*u[0] - k3*u[1]*u[3]\n",
    "    return du"
   ]
  },
  {
   "cell_type": "code",
   "execution_count": null,
   "metadata": {},
   "outputs": [],
   "source": [
    "t_final = 3600*24*6\n",
    "dt = 100\n",
    "u0 = np.array([0.,1.3e8,5.e11,8.e11])\n",
    "\n",
    "\n",
    "t, u, b = RK_variable_b_implicit(ex3,dt,f_pollution,w0=u0,t_final=t_final,solver_eqs =solver_nonlinear,\n",
    "                                 b_fixed=True,solver=cp.SCS)\n",
    "\n"
   ]
  },
  {
   "cell_type": "code",
   "execution_count": null,
   "metadata": {},
   "outputs": [],
   "source": [
    "plt.plot(np.array(t)/3600/24,u[0,:],'-k');\n",
    "plt.xlim(0,6);\n",
    "plt.grid()"
   ]
  },
  {
   "cell_type": "code",
   "execution_count": null,
   "metadata": {},
   "outputs": [],
   "source": [
    "t_final = 3600*24*6\n",
    "dt = 3600\n",
    "u0 = np.array([0.,1.3e8,5.e11,8.e11])\n",
    "\n",
    "\n",
    "t, u, b = RK_variable_b_implicit(ex8,dt,f_pollution,w0=u0,t_final=t_final,solver_eqs =solver_nonlinear_arg,\n",
    "                                 b_fixed=True,solver=cp.SCS)\n",
    "\n",
    "\n"
   ]
  },
  {
   "cell_type": "markdown",
   "metadata": {},
   "source": [
    "Apparently solving for the argument is adventagious"
   ]
  },
  {
   "cell_type": "code",
   "execution_count": null,
   "metadata": {},
   "outputs": [],
   "source": [
    "plt.plot(np.array(t)/3600/24,u[0,:],'-k');\n",
    "plt.xlim(0,6);\n",
    "plt.grid()"
   ]
  },
  {
   "cell_type": "code",
   "execution_count": null,
   "metadata": {},
   "outputs": [],
   "source": [
    "print(np.sum(u<-1e-12))\n",
    "u[u<0]"
   ]
  },
  {
   "cell_type": "code",
   "execution_count": null,
   "metadata": {},
   "outputs": [],
   "source": [
    "plt.plot(t[1:],b.T[1:,:]);"
   ]
  },
  {
   "cell_type": "code",
   "execution_count": null,
   "metadata": {},
   "outputs": [],
   "source": [
    "def f_robertson(t,u):\n",
    "    a = 0.3\n",
    "    du = np.zeros(3)\n",
    "    du[0] = 1e4 *u[1]*u[2] - 0.04*u[0]\n",
    "    du[1] = 0.04 *u[0] - 1e4*u[1]*u[2] - 3e7*u[1]**2\n",
    "    du[2] = 3e7*u[1]**2\n",
    "    return du\n",
    "\n",
    "u0 = np.array([1.,0.,0.])\n",
    "\n",
    "\n",
    "t_stop = 10 # Time is 10^t_stop\n",
    "steps = 10\n",
    "dt = np.logspace(-5,t_stop,num=steps)[1:]-np.logspace(-5,t_stop,num=steps)[0:-1]\n",
    "\n",
    "t, u, b = RK_variable_b_implicit(ex8,dt,f_robertson,w0=u0,t_final=10e3,solver_eqs =solver_nonlinear_arg,\n",
    "                                 b_fixed=True,solver=cp.SCS)"
   ]
  },
  {
   "cell_type": "code",
   "execution_count": null,
   "metadata": {},
   "outputs": [],
   "source": [
    "plt.plot(t,u[0,:])\n",
    "plt.plot(t,u[1,:]*1e4)\n",
    "plt.plot(t,u[2,:])\n",
    "plt.xscale('log')"
   ]
  },
  {
   "cell_type": "code",
   "execution_count": null,
   "metadata": {},
   "outputs": [],
   "source": [
    "print(np.sum(u<-1e-12))\n",
    "u[u<0]"
   ]
  },
  {
   "cell_type": "markdown",
   "metadata": {},
   "source": [
    "## Heat Equation"
   ]
  },
  {
   "cell_type": "code",
   "execution_count": null,
   "metadata": {},
   "outputs": [],
   "source": [
    "N=50\n",
    "x = np.linspace(0,1,N)\n",
    "dx = x[1]-x[0]\n",
    "\n",
    "\n",
    "u0 = (x>0.5)+0.\n",
    "#dt = 0.7*dx**2\n",
    "dt = 0.05\n",
    "\n",
    "A_heat = 1/dx**2 * (-2*np.diag(np.ones(N))+np.diag(np.ones(N-1),-1)+np.diag(np.ones(N-1),1))\n",
    "\n",
    "\n",
    "#t, u, b = RK_variable_b_implicit(ex8,dt,f_heat,w0=u0,t_final=1.1,solver_eqs =solver_nonlinear_arg,\n",
    "#                                 b_fixed=True,solver=cp.SCS)\n",
    "\n",
    "t, u, b = RK_variable_b_implicit(ex4,dt,A_heat,w0=u0,t_final=0.5,solver_eqs =solver_Matrix,\n",
    "                                 b_fixed=False,solver=cp.SCS)\n",
    "\n"
   ]
  },
  {
   "cell_type": "code",
   "execution_count": null,
   "metadata": {},
   "outputs": [],
   "source": [
    "plt.pcolor(u)\n",
    "plt.colorbar()"
   ]
  },
  {
   "cell_type": "code",
   "execution_count": null,
   "metadata": {},
   "outputs": [],
   "source": [
    "print(np.sum(u<-1e-12))\n",
    "u[u<0]"
   ]
  },
  {
   "cell_type": "code",
   "execution_count": null,
   "metadata": {},
   "outputs": [],
   "source": [
    "N=50\n",
    "x = np.linspace(0,1,N)\n",
    "dx = x[1]-x[0]\n",
    "u0 = np.zeros_like(x)\n",
    "u0[int(N/2)] = 1\n",
    "#dt = 0.7*dx**2\n",
    "dt = 0.0007847599703514606\n",
    "\n",
    "A_heat = 1/dx**2 * (-2*np.diag(np.ones(N))+np.diag(np.ones(N-1),-1)+np.diag(np.ones(N-1),1))\n",
    "\n",
    "\n",
    "t, u, b = RK_variable_b_implicit(ex3,dt,A_heat,w0=u0,t_final=0.01,solver_eqs =solver_Matrix,\n",
    "                                 b_fixed=False,solver=cp.SCS,fallback = True)\n",
    "\n",
    "\n"
   ]
  },
  {
   "cell_type": "code",
   "execution_count": null,
   "metadata": {},
   "outputs": [],
   "source": [
    "plt.pcolor(u)\n",
    "plt.colorbar()"
   ]
  },
  {
   "cell_type": "code",
   "execution_count": null,
   "metadata": {},
   "outputs": [],
   "source": [
    "plt.plot(u[:,1])\n",
    "#plt.ylim(-1.1,1.1)\n",
    "plt.grid()"
   ]
  },
  {
   "cell_type": "code",
   "execution_count": null,
   "metadata": {},
   "outputs": [],
   "source": [
    "print(np.sum(u<-1e-12))\n",
    "u[u<0]"
   ]
  },
  {
   "cell_type": "code",
   "execution_count": null,
   "metadata": {},
   "outputs": [],
   "source": [
    "plt.plot(t[1:],b.T[1:,:]);"
   ]
  },
  {
   "cell_type": "code",
   "execution_count": null,
   "metadata": {},
   "outputs": [],
   "source": [
    "plt.pcolor(u<0)"
   ]
  },
  {
   "cell_type": "markdown",
   "metadata": {},
   "source": [
    "## Advection\n",
    "\n",
    "The advection equation is spatially discretized using the upwind discretization. \n",
    "\n",
    "This can be represented using a Matrix $L$ of the structure\n",
    "\n",
    "$$ L = \\frac{1}{\\Delta x}\n",
    "\\begin{pmatrix}\n",
    "  -1 &  & &  \\\\\n",
    "  1 & -1 & &  \\\\\n",
    "   &  \\ddots & \\ddots &   \\\\\n",
    "   &  & 1 & -1 \n",
    " \\end{pmatrix}\n",
    "$$\n",
    "\n",
    "if we intodruce periodic boundary conditions this changes to \n",
    "\n",
    "$$ L_p = \\frac{1}{\\Delta x}\n",
    "\\begin{pmatrix}\n",
    "  -1 &  & &  1\\\\\n",
    "  1 & -1 & &  \\\\\n",
    "   &  \\ddots & \\ddots &   \\\\\n",
    "   &  & 1 & -1 \n",
    " \\end{pmatrix}\n",
    "$$\n",
    "\n",
    "The boundary condition changes if there is a feasible $b$ to enshure positifity. \n",
    "In general it si easier to find a fesible $b$ for $L$. \n",
    "For further deatils see the Notebook on the Propagation Matrix"
   ]
  },
  {
   "cell_type": "code",
   "execution_count": null,
   "metadata": {},
   "outputs": [],
   "source": [
    "N=50\n",
    "x = np.linspace(0,1,N)\n",
    "dx = x[1]-x[0]\n",
    "\n",
    "\n",
    "A_upwind_advection = 1/dx * (-np.diag(np.ones(N))+np.diag(np.ones(N-1),-1))\n",
    "#A_upwind_advection[0,-1] = 1/dx \n",
    "\n",
    "\n",
    "\n",
    "\n",
    "#u0 = (x<0.5)*1.\n",
    "#u0 = (x<0.5)+0.2\n",
    "#step\n",
    "#u0 = (x<0.5)+0.\n",
    "#u0 = np.sin(2*np.pi*x)+1.\n",
    "#Delta function\n",
    "u0 = np.zeros_like(x)\n",
    "u0[int(N/2)] = 1\n",
    "#u0[2] = 1\n",
    "\n",
    "dt = 0.1\n",
    "\n",
    "t, u, b = RK_variable_b_implicit(ex4,dt,A_upwind_advection,w0=u0,t_final=0.2,solver_eqs =solver_Matrix,\n",
    "                                 b_fixed=False,solver=cp.SCS,fallback=True,num_fallback=1)\n",
    "\n",
    "\n"
   ]
  },
  {
   "cell_type": "code",
   "execution_count": null,
   "metadata": {},
   "outputs": [],
   "source": [
    "plt.pcolor(u)\n",
    "plt.colorbar()"
   ]
  },
  {
   "cell_type": "code",
   "execution_count": null,
   "metadata": {},
   "outputs": [],
   "source": [
    "print(np.sum(u<-1e-12))\n",
    "print(u[u<0])"
   ]
  },
  {
   "cell_type": "markdown",
   "metadata": {},
   "source": [
    "In some cases the LP-solver returns a $b$ that does not comply with the positifity. Checking this in the plot."
   ]
  },
  {
   "cell_type": "code",
   "execution_count": null,
   "metadata": {},
   "outputs": [],
   "source": [
    "plt.pcolor(u<0)"
   ]
  },
  {
   "cell_type": "code",
   "execution_count": null,
   "metadata": {},
   "outputs": [],
   "source": [
    "print(b)\n",
    "b_store = b[:,1]"
   ]
  },
  {
   "cell_type": "markdown",
   "metadata": {},
   "source": [
    "# Conclusion\n",
    "\n",
    "It can be seen that integrating the ODEs usually doesn't lead to negative values. \n",
    "When integrating PDEs negative values occure. These can be seen at values where the solution is low innately.\n",
    "\n",
    "\n",
    "Example: Heat Equation with $\\Delta t = 0.001, t_{final}=0.01, u_0 = \\delta $\n",
    "\n",
    "Negative Values occur distant to the middle. These lead to a change of the b at the first step. \n",
    "By altering the b's the solution near the initial spike is wrong.\n",
    "\n",
    "-> Some method to enshure that the b's have form that takes in account that some values are more important than others.\n",
    "\n",
    "Open Question:\n",
    "Using the Order Conditons of the original Order of the Problem?\n",
    "\n",
    "Using the Order Condition of the original Order leads (at the Heat Equation) to larger b's. Question: Is it better to \n",
    "\n",
    "$\\bullet$ reduce the Error by increasing the order of the Error Term and risking a greater magnitude at bigger stepsizes\n",
    "\n",
    "$\\bullet$ reduce the Error term by using b's that are close to the standard value, even if the method has not a high order.\n",
    "\n",
    "\n",
    "The Advection Equation with periodic boundary conditions immeadetly gets infeasible in the tried examples and an high order. For some $u_0$ it works for the Advection equation without periodic boundary conditions. \n",
    "Another way to solve this is to reduce the Order to Order 1.\n",
    "\n",
    "\n",
    "Note: are negative values mathematicly correct or are they artefacts from linalg solve beeing inaccurate? -> Tested, is correct. "
   ]
  },
  {
   "cell_type": "markdown",
   "metadata": {},
   "source": [
    "## Appendix: Exact solution with Matrix exponential\n"
   ]
  },
  {
   "cell_type": "code",
   "execution_count": null,
   "metadata": {},
   "outputs": [],
   "source": [
    "from scipy.linalg import expm\n",
    "\n",
    "def sol_matrix_exp(A,u0,dt,t_final):\n",
    "    \n",
    "    p = len(u0) #number of dimentions\n",
    "    \n",
    "    uu = np.zeros([p,int(t_final/dt)+1])\n",
    "    uu[:,0] = u0.copy()\n",
    "    tt = np.zeros([p,int(t_final/dt)+1])\n",
    "    \n",
    "    for i in range(1,int(t_final/dt)+1):\n",
    "        uu[:,i] = expm(dt*i*A)@u0\n",
    "        \n",
    "    return (tt,uu)\n",
    "     "
   ]
  },
  {
   "cell_type": "code",
   "execution_count": null,
   "metadata": {},
   "outputs": [],
   "source": [
    "t, u = sol_matrix_exp(A_heat,u0,0.001,1)\n",
    "\n",
    "plt.pcolor(u)\n",
    "plt.colorbar()"
   ]
  },
  {
   "cell_type": "markdown",
   "metadata": {},
   "source": [
    "# Appendix Convergence "
   ]
  },
  {
   "cell_type": "code",
   "execution_count": null,
   "metadata": {},
   "outputs": [],
   "source": [
    "def plot_convergence(time_integrator,rkm,f,u0,dt,refernce,step=1,error='abs',dx='1',Norm = 2,**Params):\n",
    "    \"\"\"\"\n",
    "    time_integrator: function used to integrate the ODE\n",
    "    rkm,f,u0: Arguments for time integrator\n",
    "    dt: dt array with dts\n",
    "    reference: Array with reference solutions to compare the computet solution against \n",
    "    error: Definition of error computation, one of 'abs','rel','grid'\n",
    "    dx: Discretisation for grid norm\n",
    "    Norm: Norm to use for Error calculation ||u-u'||_Norm\n",
    "    Params: Parameters for time integrator\n",
    "    \n",
    "    \"\"\"\n",
    "    \n",
    "    err = np.zeros_like(dt)\n",
    "    \n",
    "    sol = []\n",
    "    \n",
    "    \n",
    "    for i in range(dt.size):\n",
    "        print('dt='+str(dt[i]))\n",
    "        t,u,b = time_integrator(rkm,dt[i],f,**Params)\n",
    "        dif = refernce[:,i]-u[:,step]\n",
    "        if error == 'abs':\n",
    "            err[i] = np.linalg.norm(dif,ord=Norm)\n",
    "        elif error == 'rel':\n",
    "            err[i] = np.linalg.norm(dif,ord=Norm)/np.linalg.norm(refernce[:,i],ord=Norm)\n",
    "        elif error == 'grid': #Grid function Norm (LeVeque Appendix A.5)\n",
    "            error[i] = dx**(1/Norm)*np.linalg.norm(dif,ord=Norm)\n",
    "        else:\n",
    "            print('Error not defined')\n",
    "            print(error)\n",
    "            raise InputError\n",
    "        sol.append(u[:,step])\n",
    "        \n",
    "    plt.plot(dt,err,'o-')\n",
    "    plt.yscale('log')\n",
    "    plt.xscale('log')\n",
    "    plt.grid()\n",
    "    plt.ylabel('Error')\n",
    "    plt.xlabel('dt')\n",
    "    \n",
    "    return sol,err\n",
    "    \n",
    "        "
   ]
  },
  {
   "cell_type": "markdown",
   "metadata": {},
   "source": [
    "## Convergence for Advection"
   ]
  },
  {
   "cell_type": "code",
   "execution_count": null,
   "metadata": {},
   "outputs": [],
   "source": [
    "from scipy.linalg import expm\n",
    "\n",
    "\n",
    "N=50\n",
    "x = np.linspace(0,1,N)\n",
    "dx = x[1]-x[0]\n",
    "\n",
    "\n",
    "A_upwind_advection = 1/dx * (-np.diag(np.ones(N))+np.diag(np.ones(N-1),-1))\n",
    "\n",
    "u0 = np.zeros_like(x)\n",
    "u0[int(N/3)] = 1\n",
    "\n",
    "\n",
    "\n",
    "#dt = np.array([0.1,0.01,0.001,0.0001])\n",
    "dt = np.logspace(-4,-0.5,num=10)\n",
    "\n",
    "referencea_loc = np.zeros([len(u0),len(dt)])\n",
    "for i in range(len(dt)):\n",
    "    referencea_loc[:,i]= expm(dt[i]*A_upwind_advection)@u0\n",
    "\n",
    "\n",
    "\n",
    "print('BE')\n",
    "sol_a1,err_a1 = plot_convergence(RK_variable_b_implicit,be,A_upwind_advection,u0,dt,referencea_loc,error='rel',\n",
    "                              w0=u0,t_final=0.3,b_fixed=True,solver=cp.SCS,fallback = True)\n",
    "\n",
    "print('ex3 regular')\n",
    "sol_a2,err_a2 = plot_convergence(RK_variable_b_implicit,ex3,A_upwind_advection,u0,dt,referencea_loc,error='rel',\n",
    "                               w0=u0,t_final=0.3,b_fixed=True,solver=cp.SCS,fallback = False)\n",
    "\n",
    "print('ex3 positiv')\n",
    "sol_a3,err_a3 = plot_convergence(RK_variable_b_implicit,ex3,A_upwind_advection,u0,dt,referencea_loc,error='rel',\n",
    "                               w0=u0,t_final=0.3,b_fixed=False,solver=cp.SCS,fallback = True,num_fallback = 2)\n",
    "\n",
    "\n",
    "    \n",
    "    "
   ]
  },
  {
   "cell_type": "code",
   "execution_count": null,
   "metadata": {},
   "outputs": [],
   "source": [
    "#Plot global convergenc\n",
    "\n",
    "referencea = np.zeros([len(u0),len(dt)])\n",
    "for i in range(len(dt)):\n",
    "    referencea[:,i]= expm(0.3*A_upwind_advection)@u0\n",
    "\n",
    "print('BE')\n",
    "sol_a4,err_a4 = plot_convergence(RK_variable_b_implicit,be,A_upwind_advection,u0,dt,referencea,error='rel',step = -1,\n",
    "                              w0=u0,t_final=0.3,b_fixed=True,solver=cp.SCS,fallback = True)\n",
    "\n",
    "print('ex3 regular')\n",
    "sol_a5,err_a5 = plot_convergence(RK_variable_b_implicit,ex3,A_upwind_advection,u0,dt,referencea,error='rel',step = -1,\n",
    "                               w0=u0,t_final=0.3,b_fixed=True,solver=cp.SCS,fallback = False)\n",
    "\n",
    "print('ex3 positiv')\n",
    "sol_a6,err_a6 = plot_convergence(RK_variable_b_implicit,ex3,A_upwind_advection,u0,dt,referencea,error='rel',step = -1,\n",
    "                               w0=u0,t_final=0.3,b_fixed=False,solver=cp.SCS,fallback = True,num_fallback = 2)\n",
    "\n",
    "\n"
   ]
  },
  {
   "cell_type": "code",
   "execution_count": null,
   "metadata": {},
   "outputs": [],
   "source": [
    "s = 8\n",
    "plt.plot(sol_a4[s])\n",
    "plt.plot(sol_a5[s])\n",
    "plt.plot(sol_a6[s])\n",
    "plt.plot(referencea[:,s])\n",
    "plt.grid()"
   ]
  },
  {
   "cell_type": "markdown",
   "metadata": {},
   "source": [
    "## Convergence for Heat Equation"
   ]
  },
  {
   "cell_type": "code",
   "execution_count": null,
   "metadata": {},
   "outputs": [],
   "source": [
    "from scipy.linalg import expm\n",
    "\n",
    "\n",
    "N=50\n",
    "x = np.linspace(0,1,N)\n",
    "dx = x[1]-x[0]\n",
    "u0 = np.zeros_like(x)\n",
    "u0[int(N/2)] = 1\n",
    "#dt = 0.7*dx**2\n",
    "dt = 0.001\n",
    "\n",
    "A_heat = 1/dx**2 * (-2*np.diag(np.ones(N))+np.diag(np.ones(N-1),-1)+np.diag(np.ones(N-1),1))\n",
    "\n",
    "\n",
    "\n",
    "#dt = np.array([0.1,0.01,0.001,0.0001])\n",
    "dt = np.logspace(-5,-2,num=20)\n",
    "\n",
    "\n",
    "\n",
    "reference_loc = np.zeros([len(u0),len(dt)])\n",
    "for i in range(len(dt)):\n",
    "    reference_loc[:,i]= expm(dt[i]*A_heat)@u0\n",
    "\n",
    "print('BE')\n",
    "sol_1,err_1 = plot_convergence(RK_variable_b_implicit,be,A_heat,u0,dt,reference_loc,error='rel',w0=u0,t_final=0.01,\n",
    "                 b_fixed=True,solver=cp.SCS,fallback = False)\n",
    "\n",
    "print('ex3 regular')\n",
    "sol_2,err_2 = plot_convergence(RK_variable_b_implicit,ex3,A_heat,u0,dt,reference_loc,error='rel',w0=u0,t_final=0.01,\n",
    "                 b_fixed=True,solver=cp.SCS,fallback = False)\n",
    "\n",
    "print('ex3 positiv')\n",
    "sol_3,err_3 = plot_convergence(RK_variable_b_implicit,ex3,A_heat,u0,dt,reference_loc,error='rel',w0=u0,t_final=0.01,\n",
    "                 b_fixed=False,solver=cp.SCS,fallback = True)\n",
    "\n",
    "\n",
    "\n",
    "\n",
    "\n",
    "\n",
    "#t, u, b = RK_variable_b_implicit(ex3,dt,A_heat,w0=u0,t_final=0.01,solver_eqs =solver_Matrix,\n",
    "#                                 b_fixed=False,solver=cp.SCS,fallback = True)"
   ]
  },
  {
   "cell_type": "code",
   "execution_count": null,
   "metadata": {},
   "outputs": [],
   "source": [
    "s = 12 #11 interesting\n",
    "plt.plot(sol_1[s])\n",
    "plt.plot(sol_2[s])\n",
    "plt.plot(sol_3[s])\n",
    "plt.plot(reference_loc[:,s]) "
   ]
  },
  {
   "cell_type": "code",
   "execution_count": null,
   "metadata": {},
   "outputs": [],
   "source": [
    "#Plot global convergenc\n",
    "\n",
    "reference = np.zeros([len(u0),len(dt)])\n",
    "for i in range(len(dt)):\n",
    "    reference[:,i]= expm(0.01*A_heat)@u0\n",
    "\n",
    "print('BE')\n",
    "sol_4,err_4 = plot_convergence(RK_variable_b_implicit,be,A_heat,u0,dt,reference,error='rel',step = -1,\n",
    "                              w0=u0,t_final=0.01,b_fixed=True,solver=cp.SCS,fallback = True)\n",
    "\n",
    "print('ex3 regular')\n",
    "sol_5,err_5 = plot_convergence(RK_variable_b_implicit,ex3,A_heat,u0,dt,reference,error='rel',step = -1,\n",
    "                               w0=u0,t_final=0.01,b_fixed=True,solver=cp.SCS,fallback = False)\n",
    "\n",
    "print('ex3 positiv')\n",
    "sol_6,err_6 = plot_convergence(RK_variable_b_implicit,ex3,A_heat,u0,dt,reference,error='rel',step = -1,\n",
    "                               w0=u0,t_final=0.01,b_fixed=False,solver=cp.SCS,fallback = True)\n",
    "\n",
    "#plot_convergence(RK_variable_b_implicit,ex3,A_heat,u0,dt,reference,step = -1,w0=u0,t_final=0.01,\n",
    "#                 b_fixed=False,solver=cp.SCS,fallback = True)"
   ]
  },
  {
   "cell_type": "code",
   "execution_count": null,
   "metadata": {},
   "outputs": [],
   "source": [
    "s = 10\n",
    "plt.plot(sol_4[s])\n",
    "plt.plot(sol_5[s])\n",
    "plt.plot(sol_6[s])\n",
    "plt.plot(reference[:,0])\n",
    "plt.grid()\n",
    "\n",
    "#Check whether matrix exponential is correct..."
   ]
  },
  {
   "cell_type": "code",
   "execution_count": null,
   "metadata": {},
   "outputs": [],
   "source": []
  }
 ],
 "metadata": {
  "kernelspec": {
   "display_name": "Python 3",
   "language": "python",
   "name": "python3"
  },
  "language_info": {
   "codemirror_mode": {
    "name": "ipython",
    "version": 3
   },
   "file_extension": ".py",
   "mimetype": "text/x-python",
   "name": "python",
   "nbconvert_exporter": "python",
   "pygments_lexer": "ipython3",
   "version": "3.7.4"
  }
 },
 "nbformat": 4,
 "nbformat_minor": 2
}
