{
 "cells": [
  {
   "cell_type": "markdown",
   "metadata": {},
   "source": [
    "# Runke Kutta with Linear Programming"
   ]
  },
  {
   "cell_type": "markdown",
   "metadata": {},
   "source": [
    "The goal of ths spreadsheed is too test methods to determin the b-Coefficients of the Runge Kutta in every step. The solution of every step should comply with $y \\geq 0$\n",
    "As second condition they should comply with the order conditions"
   ]
  },
  {
   "cell_type": "code",
   "execution_count": null,
   "metadata": {},
   "outputs": [],
   "source": [
    "import numpy as np\n",
    "import matplotlib.pyplot as plt\n",
    "from nodepy import rk\n",
    "import cvxpy as cp\n",
    "\n",
    "\n",
    "import numpy.linalg as linalg\n",
    "\n",
    "from numba import jit, float64, stencil\n",
    "\n",
    "\n",
    "rk4 = rk.loadRKM('RK44').__num__()\n",
    "rk4x2 = rk4*rk4\n",
    "ssp2 = rk.loadRKM('SSP22').__num__()\n",
    "ssp3 = rk.loadRKM('SSP33').__num__()\n",
    "ssp104 = rk.loadRKM('SSP104').__num__()\n",
    "merson4 = rk.loadRKM('Merson43').__num__()\n",
    "bs5 = rk.loadRKM('BS5').__num__()\n",
    "\n",
    "trbdf = rk.loadRKM('TR-BDF2').__num__()\n",
    "be = rk.loadRKM('BE').__num__()\n",
    "irk2 = rk.loadRKM('LobattoIIIA2').__num__()\n",
    "\n",
    "from OrderCondition import *\n",
    "from RKimple import *"
   ]
  },
  {
   "cell_type": "markdown",
   "metadata": {},
   "source": [
    "## Set up Order Conditions"
   ]
  },
  {
   "cell_type": "markdown",
   "metadata": {},
   "source": [
    "The Order Conditions are an linear equations system and can be writen as $O b = r$. \n",
    "\n",
    "The vector $b \\in R^s$ contains the b coefficents. $s$ is the number of stages. $O$ is an $n \\times s$ matrix, where $g$ is the number of Order Conditions. $r$ is an vector containing the right hand side of the Order Conditions\n",
    "\n",
    "Has Solution ->\n",
    "No contradiction -> can be avoided by choosing right $A$ matrix (and $c$) \n",
    "\n",
    "\n",
    "\n",
    "In order to get an optimisation problem the equation system has to be underdetermined.\n",
    "\n",
    "This implies that $rank{O} \\leq s$. \n",
    "\n",
    "Quadrature Conditions are linear independant\n",
    "If so: $p \\leq s$\n",
    "\n",
    "\n",
    "\n",
    "\n",
    "\n",
    "\n",
    "\n"
   ]
  },
  {
   "cell_type": "code",
   "execution_count": null,
   "metadata": {},
   "outputs": [],
   "source": []
  },
  {
   "cell_type": "code",
   "execution_count": null,
   "metadata": {},
   "outputs": [],
   "source": [
    "#Test Function\n",
    "rkm = ssp104\n",
    "O, rhs = OrderCond(rkm.A,rkm.c,order = rkm.p)\n",
    "\n",
    "print(O)\n"
   ]
  },
  {
   "cell_type": "code",
   "execution_count": null,
   "metadata": {},
   "outputs": [],
   "source": [
    "#Are O vectors linear dependand? -> Rank of O\n",
    "print ('Size of O:')\n",
    "print (O.shape)\n",
    "\n",
    "print('Rank')\n",
    "print(linalg.matrix_rank(O))"
   ]
  },
  {
   "cell_type": "markdown",
   "metadata": {},
   "source": [
    "Note: Order is smaler than minimum dimention of Matrix -> some way to simplify the Linear Equation System"
   ]
  },
  {
   "cell_type": "markdown",
   "metadata": {},
   "source": [
    "## Positifity Constraint  "
   ]
  },
  {
   "cell_type": "markdown",
   "metadata": {},
   "source": [
    "For solving an PDE with the method of lines an spartial grid  with $p$ points is introduced. \n",
    "From this we get an ODE with an $u \\in R^p$.\n",
    "\n",
    "To enshure that the solution is positive \n",
    "\n",
    "$ u_i^{n+1} \\geq 0   \\;   \\forall_{i \\in \\{0,p-1 \\}}  $\n",
    "\n",
    "$ u_i^n + h \\sum_{j=0}^{s-1} b_j h_i^j  \\geq 0   \\;   \\forall_{i \\in \\{0,p-1 \\}}  $\n",
    "\n",
    "\n",
    "has to be fulfilled.\n",
    "This infers $p$ positivity constraints to the optimisation problem. These can be written as\n",
    "\n",
    "$u_i + h K \\bullet b \\geq 0$     (where $K = \\big[k^1 , \\cdots k^{s-1}\\big] $)  \n",
    "\n"
   ]
  },
  {
   "cell_type": "markdown",
   "metadata": {},
   "source": [
    "## Objective Function"
   ]
  },
  {
   "cell_type": "markdown",
   "metadata": {},
   "source": [
    "Different Choices of objective function. Ideas:\n",
    "\n",
    "$\\bullet$ Penalty on large b's \n",
    "\n",
    "$\\bullet$ Some kind of linear estimation of error term\n",
    "\n",
    "\n",
    "Here we try the first approach. The Objective Function should be\n",
    "\n",
    "$|b-rkm.b|_1$\n",
    "\n",
    "This means that the goal is to minmise the sum of the absolute differences of the usual b vector. This is archieved by the use of slack variables\n",
    "\n",
    "$x_1 = t_1-t_1'$ with $t_1 \\geq 0$ and $ t_1 \\geq 0$ \n",
    "\n",
    "$min(|x|_1)$ gets so $min(\\mathbf{1}^T t + \\mathbf{1}^T t) = min(\\mathbf{1}^T \\bigl(\\begin{smallmatrix}\n",
    "t \\\\ t'\n",
    "\\end{smallmatrix} \\bigr) )$ \n",
    "\n"
   ]
  },
  {
   "cell_type": "markdown",
   "metadata": {},
   "source": [
    "## Impelmentation of RK method "
   ]
  },
  {
   "cell_type": "markdown",
   "metadata": {},
   "source": [
    "Setup: Calculate Order Condition Matrix and right hand side vector\n",
    " \n",
    "\n",
    "a) calculate Intermediate Steps for an Runge Kutta method with arbitrary f(t,u) A and c\n",
    "\n",
    "b) Pack the calculated Data into a Linear optimisation Problem \n",
    "\n",
    "   $\\bullet$ Constraints:\n",
    "   \n",
    "   Order Condition: $Ob=r$\n",
    "   \n",
    "   Positifity: $u_i + h K \\bullet b \\geq 0$\n",
    "\n",
    "   $\\bullet$ objective function: L1 of b\n",
    "   \n",
    "   \n",
    "    \n"
   ]
  },
  {
   "cell_type": "code",
   "execution_count": null,
   "metadata": {},
   "outputs": [],
   "source": [
    "\n",
    "\n"
   ]
  },
  {
   "cell_type": "markdown",
   "metadata": {},
   "source": [
    "## Testproblem\n",
    "\n",
    "Atmospheric pollution model from Hundsdorfer & Verwer\n",
    "\n"
   ]
  },
  {
   "cell_type": "raw",
   "metadata": {},
   "source": [
    "\n",
    "# Atmospheric pollution model from Hundsdorfer & Verwer\n",
    "\n",
    "def k1(t):\n",
    "    th = t/3600  # Time in hours\n",
    "    thbar = th - 24*(th//24)\n",
    "    if thbar>4 and thbar<20:\n",
    "        sec = (np.sin(np.pi/16 *(thbar-4)))**0.2\n",
    "        return 1.e-5*np.exp(7.*sec)\n",
    "    else:\n",
    "        return 1.e-40\n",
    "\n",
    "k3 = 1.e-16\n",
    "k2 = 1.e5\n",
    "sigma2 = 1.e6\n",
    "\n",
    "def f_pollution(t,u):\n",
    "    du = np.zeros(4)\n",
    "    du[0] = k1(t)*u[2] - k2*u[0]\n",
    "    du[1] = k1(t)*u[2] - k3*u[1]*u[3] + sigma2\n",
    "    du[2] = k3*u[1]*u[3]-k1(t)*u[2]\n",
    "    du[3] = k2*u[0] - k3*u[1]*u[3]\n",
    "    return du\n",
    "\n",
    "def Jacobian(t,u):\n",
    "    J = np.array([\n",
    "        [-k2  ,0       ,   k1(t),         0],\n",
    "        [0    ,-k3*u[3],   k1(t),  -k3*u[1]],\n",
    "        [0    , k3*u[3],  -k1(t),  -k3*u[1]],\n",
    "        [k2   ,-k3*u[3],       0,  -k3*u[1]]\n",
    "    ])\n",
    "    return J"
   ]
  },
  {
   "cell_type": "raw",
   "metadata": {},
   "source": [
    "#Solution of ODE blows up after a handfull steps. Further investigating the properties of the test Problem\n",
    "t_final = 3600*24*6\n",
    "dt = 0.1\n",
    "u0 = np.array([0.,1.3e8,5.e11,8.e11])\n",
    "J = Jacobian(0.,u0)\n",
    "linalg.eig(J)"
   ]
  },
  {
   "cell_type": "raw",
   "metadata": {},
   "source": [
    "# Reference implementation from Nodepy\n",
    "from nodepy import ivp, rk\n",
    "\n",
    "rk_ssp104 = rk.loadRKM('SSP104')\n",
    "\n",
    "\n",
    "testp = ivp.IVP(f=f_pollution,u0=u0,T=1)\n",
    "\n",
    "t,u =rk_ssp104(testp,dt=0.0001)\n",
    "\n",
    "plt.plot(t,u)"
   ]
  },
  {
   "cell_type": "raw",
   "metadata": {},
   "source": [
    "t_final = 3600*24*6\n",
    "dt = 0.01\n",
    "u0 = np.array([0.,1.3e8,5.e11,8.e11])\n",
    "\n",
    "\n",
    "t, u, b = RK_variable_b(ssp104,dt,f_pollution,w0=u0,t_final=t_final,b_fixed=False,solver=cp.ECOS_BB)\n",
    "plt.plot(np.array(t)/3600/24,u[0,:],'-k');\n",
    "plt.xlim(0,6);"
   ]
  },
  {
   "cell_type": "raw",
   "metadata": {},
   "source": [
    "#u.shape\n",
    "plt.plot(np.array(t)/3600,u[0,:],'-o');\n",
    "plt.plot(np.array(t)/3600,u[1,:],'-o');\n",
    "plt.plot(np.array(t)/3600,u[2,:],'-o');\n",
    "plt.plot(np.array(t)/3600,u[3,:],'-o');"
   ]
  },
  {
   "cell_type": "raw",
   "metadata": {},
   "source": [
    "for i in range(10):\n",
    "    plt.plot(t,b[i,:])\n"
   ]
  },
  {
   "cell_type": "markdown",
   "metadata": {},
   "source": [
    "## Testproblem Time integrator"
   ]
  },
  {
   "cell_type": "code",
   "execution_count": null,
   "metadata": {},
   "outputs": [],
   "source": [
    "def f_sin(t,u):\n",
    "    return -np.sin(t)\n",
    "\n",
    "def f_cos(t,u):\n",
    "    return np.cos(t)\n",
    "\n",
    "def f_const(t,u):\n",
    "    return 1\n",
    "\n",
    "u0 =np.array([2.0])\n",
    "\n",
    "t,u,b = RK_variable_b(ssp104,1,f_sin,w0=u0,t_final=100,b_fixed=False)\n"
   ]
  },
  {
   "cell_type": "code",
   "execution_count": null,
   "metadata": {},
   "outputs": [],
   "source": [
    "plt.plot(t,u[0,:])"
   ]
  },
  {
   "cell_type": "code",
   "execution_count": null,
   "metadata": {},
   "outputs": [],
   "source": [
    "plt.plot(t[1:],b.T[1:,:])"
   ]
  },
  {
   "cell_type": "markdown",
   "metadata": {},
   "source": [
    "## Testproblem Harmonic Oscilator"
   ]
  },
  {
   "cell_type": "code",
   "execution_count": null,
   "metadata": {},
   "outputs": [],
   "source": [
    "def f_A(t,u):\n",
    "    A = np.array([[0,-1],[1,0]])\n",
    "    c = np.array([1,1])\n",
    "    #print(u)\n",
    "    return A@(u-c)\n",
    "\n",
    "u0 =np.array([1.,0.])\n",
    "\n",
    "t,u,b = RK_variable_b(ssp104,5,f_A,w0=u0,t_final=200,b_fixed=False)\n",
    "\n"
   ]
  },
  {
   "cell_type": "code",
   "execution_count": null,
   "metadata": {},
   "outputs": [],
   "source": [
    "plt.plot(t,u[0,:])\n",
    "plt.plot(t,u[1,:])"
   ]
  },
  {
   "cell_type": "code",
   "execution_count": null,
   "metadata": {},
   "outputs": [],
   "source": [
    "plt.plot(t[1:],b.T[1:,:])"
   ]
  },
  {
   "cell_type": "markdown",
   "metadata": {},
   "source": [
    "## Testproblem from Kopecz and Meister 2018"
   ]
  },
  {
   "cell_type": "code",
   "execution_count": null,
   "metadata": {},
   "outputs": [],
   "source": [
    "def f_lin_I(t,u):\n",
    "    a = 5 # a>0\n",
    "    A = np.array([[-a,1],[a,-1]])\n",
    "    return A@u\n",
    "\n",
    "u0 =np.array([0.9,0.1])\n",
    "\n",
    "t,u,b = RK_variable_b(ssp104,2,f_lin_I,w0=u0,t_final=100,b_fixed=False)\n",
    "\n"
   ]
  },
  {
   "cell_type": "code",
   "execution_count": null,
   "metadata": {},
   "outputs": [],
   "source": [
    "plt.plot(t,u[0,:])\n",
    "plt.plot(t,u[1,:])"
   ]
  },
  {
   "cell_type": "code",
   "execution_count": null,
   "metadata": {},
   "outputs": [],
   "source": [
    "plt.plot(t[1:],b.T[1:,:])"
   ]
  },
  {
   "cell_type": "code",
   "execution_count": null,
   "metadata": {},
   "outputs": [],
   "source": [
    "ssp104.real_stability_interval()"
   ]
  },
  {
   "cell_type": "code",
   "execution_count": null,
   "metadata": {},
   "outputs": [],
   "source": [
    "#Nonlinear test problem\n",
    "def f_nonlin(t,u):\n",
    "    a = 0.3\n",
    "    du = np.zeros(3)\n",
    "    du[0] = -(u[0]*u[1])/(u[0]+1)\n",
    "    du[1] = (u[0]*u[1])/(u[0]+1) -a*u[1]\n",
    "    du[2] = a*u[1]\n",
    "    return du\n",
    "\n",
    "u0 = np.array([9.98,0.01,0.01])\n",
    "\n",
    "t,u,b = RK_variable_b(ssp104,3.8,f_nonlin,w0=u0,t_final=30,b_fixed=False)\n",
    "\n"
   ]
  },
  {
   "cell_type": "code",
   "execution_count": null,
   "metadata": {},
   "outputs": [],
   "source": [
    "plt.plot(t,u[0,:])\n",
    "plt.plot(t,u[1,:])\n",
    "plt.plot(t,u[2,:])\n",
    "\n",
    "plt.grid()"
   ]
  },
  {
   "cell_type": "code",
   "execution_count": null,
   "metadata": {},
   "outputs": [],
   "source": [
    "t"
   ]
  },
  {
   "cell_type": "code",
   "execution_count": null,
   "metadata": {},
   "outputs": [],
   "source": [
    "# Brusselator test problem\n",
    "def f_brusselator(t,u):\n",
    "    k1 =1\n",
    "    k2 =1\n",
    "    k3 =1\n",
    "    k4 =1\n",
    "    k5 =1\n",
    "    k6 =1\n",
    "    du = np.zeros(6)\n",
    "    du[0] = -k1*u[0]\n",
    "    du[1] = -k2*u[1]*u[4]\n",
    "    du[2] = k3*u[1]*u[4]\n",
    "    du[3] = k4*u[4]\n",
    "    du[4] = k1*u[0] - k2*u[1]*u[4] + k3*u[4]**2*u[5] - k4*u[4]\n",
    "    du[5] = k2*u[1]*u[4] - k3*u[4]**2*u[5]\n",
    "    return du\n",
    "\n",
    "u0 = np.array([10.,10.,0.,0.,0.1,0.1])\n",
    "\n",
    "\n",
    "t,u,b = RK_variable_b(ssp104,0.95,f_brusselator,w0=u0,t_final=6,b_fixed=False)"
   ]
  },
  {
   "cell_type": "code",
   "execution_count": null,
   "metadata": {},
   "outputs": [],
   "source": [
    "plt.plot(t,u[0,:])\n",
    "plt.plot(t,u[1,:])\n",
    "plt.plot(t,u[2,:])\n",
    "plt.plot(t,u[3,:])\n",
    "plt.plot(t,u[4,:])\n",
    "plt.plot(t,u[5,:])"
   ]
  },
  {
   "cell_type": "code",
   "execution_count": null,
   "metadata": {},
   "outputs": [],
   "source": [
    "#Robertson test problem, stiff\n",
    "def f_robertson(t,u):\n",
    "    a = 0.3\n",
    "    du = np.zeros(3)\n",
    "    du[0] = 1e4 *u[1]*u[2] - 0.04*u[0]\n",
    "    du[1] = 0.04 *u[0] - 1e4*u[1]*u[2] - 3e7*u[1]**2\n",
    "    du[2] = 3e7*u[1]**2\n",
    "    return du\n",
    "\n",
    "u0 = np.array([1.,0.,0.])\n",
    "\n",
    "#t,u,b = RK_variable_b(ssp104,1e-6,f_robertson,w0=u0,t_final=1,b_fixed=True)"
   ]
  },
  {
   "cell_type": "markdown",
   "metadata": {},
   "source": [
    "# Decay with Production\n",
    "\n",
    "ODE of form $u'(t) = - \\lambda u(t) + f(t)$ with $f(t) \\geq 0 $ "
   ]
  },
  {
   "cell_type": "code",
   "execution_count": null,
   "metadata": {},
   "outputs": [],
   "source": [
    "def production(t):\n",
    "    return 0.05*(1+np.sin(10*t))\n",
    "\n",
    "def f_decay(t,u):\n",
    "    l = 1\n",
    "    return -l*u+production(t)\n",
    "\n",
    "u0 = np.array([1.])\n",
    "\n",
    "t,u,b = RK_variable_b(ssp104,10,f_decay,w0=u0,t_final=200,b_fixed=False)"
   ]
  },
  {
   "cell_type": "code",
   "execution_count": null,
   "metadata": {},
   "outputs": [],
   "source": [
    "plt.plot(t,u[0,:])\n",
    "plt.grid()"
   ]
  },
  {
   "cell_type": "code",
   "execution_count": null,
   "metadata": {},
   "outputs": [],
   "source": [
    "plt.plot(t[1:],b.T[1:,:])"
   ]
  },
  {
   "cell_type": "markdown",
   "metadata": {},
   "source": [
    "# Testproblem"
   ]
  },
  {
   "cell_type": "code",
   "execution_count": null,
   "metadata": {},
   "outputs": [],
   "source": [
    "def f_test(t,u):\n",
    "    return np.sin(10*t)*u*(1-u)\n",
    "\n",
    "u0 = np.array([0.1])\n",
    "\n",
    "t,u,b = RK_variable_b(ssp104,2,f_test,w0=u0,t_final=200,b_fixed=False)"
   ]
  },
  {
   "cell_type": "code",
   "execution_count": null,
   "metadata": {},
   "outputs": [],
   "source": [
    "plt.plot(t,u[0,:])\n",
    "plt.grid()"
   ]
  },
  {
   "cell_type": "markdown",
   "metadata": {},
   "source": [
    "# Advection"
   ]
  },
  {
   "cell_type": "code",
   "execution_count": null,
   "metadata": {},
   "outputs": [],
   "source": [
    "N=50\n",
    "x = np.linspace(0,1,N)\n",
    "dx = x[1]-x[0]\n",
    "\n",
    "def f_centered_advection(t,u):\n",
    "    du = np.zeros_like(u)\n",
    "    du[1:-1] = (u[2:]-u[:-2])\n",
    "    du[0] = u[1]-u[-1]\n",
    "    du[-1] = u[0]-u[-2]\n",
    "    return -du/(2*dx)\n",
    "\n",
    "def f_upwind_advection(t,u):\n",
    "    du = np.zeros_like(u)\n",
    "    du[1:] = (u[1:]-u[:-1])\n",
    "    du[0] = u[0]-u[-1]\n",
    "    return -du/(dx)\n",
    "\n",
    "#u0 = (x<0.5)*1.\n",
    "#u0 = (x<0.5)+0.2\n",
    "u0 = (x<0.5)+0.\n",
    "#u0 = np.sin(2*np.pi*x)+1.\n",
    "\n",
    "dt = 2.5*dx\n",
    "\n",
    "t,u,b = RK_variable_b(ssp104,dt,f_upwind_advection,w0=u0,t_final=1,b_fixed=False)"
   ]
  },
  {
   "cell_type": "code",
   "execution_count": null,
   "metadata": {},
   "outputs": [],
   "source": [
    "plt.pcolor(u[:,::1])\n",
    "plt.colorbar()"
   ]
  },
  {
   "cell_type": "code",
   "execution_count": null,
   "metadata": {},
   "outputs": [],
   "source": [
    "plt.plot(u[:,-1])"
   ]
  },
  {
   "cell_type": "code",
   "execution_count": null,
   "metadata": {},
   "outputs": [],
   "source": [
    "plt.plot(t[1:],b.T[1:,:])"
   ]
  },
  {
   "cell_type": "markdown",
   "metadata": {},
   "source": [
    "In most cases only very few steps require the use of the optimisation. Searching for other testproblems"
   ]
  },
  {
   "cell_type": "markdown",
   "metadata": {},
   "source": [
    "## Variable coefficient advection\n",
    "\n",
    "$u_t + (a(x,t)u)_x = 0$\n",
    "\n",
    "$u_t = - (a(x,t)u)_x$\n",
    "\n",
    "$\\frac{\\mathrm d}{\\mathrm d x} \\big( a(x,t)u(x,t) \\big) = \\frac{\\mathrm d}{\\mathrm d x} \\big( u(x,t) \\big) a(x,t) =\\frac{\\mathrm d}{\\mathrm d x} \\big( a(x,t) \\big) u(x,t)$\n",
    "\n",
    "\n",
    "Hom. Dirichelt Boundary at $x=0$ open Boundary on $x=1$"
   ]
  },
  {
   "cell_type": "code",
   "execution_count": null,
   "metadata": {},
   "outputs": [],
   "source": [
    "N =20\n",
    "x = np.linspace(0,1,num = N)\n",
    "dx=1/(N-1)\n",
    "u0 = np.sin(x)\n",
    "u0 = np.zeros_like(x)\n",
    "u0[7] = 1\n",
    "#u0[14] = 1\n",
    "\n",
    "def f_var_coeff_adv(t,u):\n",
    "    \n",
    "    #Old implementation, does not enshure conservation\n",
    "    #A_upwind_advection = 1/dx * (-np.diag(np.ones(N))+np.diag(np.ones(N-1),-1))\n",
    "    #a = lambda x,t: np.cos(20*x + 45*t)**2\n",
    "    #a_ = lambda x,t: 2*np.cos(20*x + 45*t)*-np.sin(20*x + 45*t)*20\n",
    "    #return np.diag(a(x,t))@A_upwind_advection@u +  a_(x,t)*u\n",
    "\n",
    "    A_upwind_advection = 1/dx * (-np.diag(np.ones(N))+np.diag(np.ones(N-1),-1))\n",
    "    a = lambda x,t: np.cos(20*x + 45*t)**2\n",
    "    return A_upwind_advection@(a(x,t)*u)\n",
    "\n",
    "\n",
    "dt = 0.4*4*dx\n",
    "\n",
    "t,u,b = RK_variable_b(rk4,dt,f_var_coeff_adv,w0=u0,t_final=20,b_fixed=True)"
   ]
  },
  {
   "cell_type": "code",
   "execution_count": null,
   "metadata": {},
   "outputs": [],
   "source": [
    "plt.pcolor(u[:,::1])\n",
    "plt.colorbar()"
   ]
  },
  {
   "cell_type": "code",
   "execution_count": null,
   "metadata": {},
   "outputs": [],
   "source": [
    "plt.pcolor(u[:,::1]<0)"
   ]
  },
  {
   "cell_type": "code",
   "execution_count": null,
   "metadata": {},
   "outputs": [],
   "source": []
  },
  {
   "cell_type": "code",
   "execution_count": null,
   "metadata": {},
   "outputs": [],
   "source": []
  }
 ],
 "metadata": {
  "kernelspec": {
   "display_name": "Python 3",
   "language": "python",
   "name": "python3"
  },
  "language_info": {
   "codemirror_mode": {
    "name": "ipython",
    "version": 3
   },
   "file_extension": ".py",
   "mimetype": "text/x-python",
   "name": "python",
   "nbconvert_exporter": "python",
   "pygments_lexer": "ipython3",
   "version": "3.7.4"
  }
 },
 "nbformat": 4,
 "nbformat_minor": 2
}
